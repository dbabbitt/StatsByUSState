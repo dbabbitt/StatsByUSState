{
 "cells": [
  {
   "cell_type": "markdown",
   "metadata": {
    "jp-MarkdownHeadingCollapsed": true,
    "tags": []
   },
   "source": [
    "\n",
    "# Set up the notebook"
   ]
  },
  {
   "cell_type": "code",
   "execution_count": 1,
   "metadata": {},
   "outputs": [
    {
     "name": "stdout",
     "output_type": "stream",
     "text": [
      "Pretty printing has been turned OFF\n"
     ]
    }
   ],
   "source": [
    "\n",
    "%pprint"
   ]
  },
  {
   "cell_type": "code",
   "execution_count": 2,
   "metadata": {},
   "outputs": [],
   "source": [
    "\n",
    "import sys\n",
    "\n",
    "# Insert at 1, 0 is the script path (or '' in REPL)\n",
    "sys.path.insert(1, '../py')\n",
    "\n",
    "from choropleth_utils import ChoroplethUtilities\n",
    "from stats_scraping_utils import StatsScrapingUtilities\n",
    "from storage import Storage\n",
    "import pandas as pd\n",
    "import re\n",
    "import os\n",
    "import numpy as np\n",
    "\n",
    "s = Storage()\n",
    "ssu = StatsScrapingUtilities(s=s)"
   ]
  },
  {
   "cell_type": "code",
   "execution_count": 52,
   "metadata": {},
   "outputs": [
    {
     "name": "stdout",
     "output_type": "stream",
     "text": [
      "Pickling to C:\\Users\\daveb\\OneDrive\\Documents\\GitHub\\StatsByCountry\\saves\\pkl\\all_countries_df.pkl\n"
     ]
    }
   ],
   "source": [
    "\n",
    "column_description_dict = s.load_object('column_description_dict')\n",
    "us_stats_df = s.load_object('us_stats_df')\n",
    "\n",
    "all_countries_df = s.load_object('all_countries_df').set_index('country_code', drop=True)\n",
    "all_countries_df.country_name = all_countries_df.country_name.map(lambda x: ssu.country_name_dict.get(x, x))\n",
    "s.store_objects(all_countries_df=all_countries_df.reset_index(drop=False))"
   ]
  },
  {
   "cell_type": "markdown",
   "metadata": {
    "tags": []
   },
   "source": [
    "\n",
    "----\n",
    "# Get State/Country Intentional Homicide Equivalents"
   ]
  },
  {
   "cell_type": "markdown",
   "metadata": {
    "jp-MarkdownHeadingCollapsed": true,
    "tags": []
   },
   "source": [
    "\n",
    "## Clean and prepare US States dataset"
   ]
  },
  {
   "cell_type": "code",
   "execution_count": 4,
   "metadata": {},
   "outputs": [
    {
     "name": "stdout",
     "output_type": "stream",
     "text": [
      "[(0, (54, 12)), (1, (11, 2))]\n"
     ]
    }
   ],
   "source": [
    "\n",
    "url = 'https://en.wikipedia.org/wiki/List_of_U.S._states_and_territories_by_intentional_homicide_rate'\n",
    "tables_list = ssu.get_page_tables(url)"
   ]
  },
  {
   "cell_type": "code",
   "execution_count": 5,
   "metadata": {},
   "outputs": [
    {
     "data": {
      "text/html": [
       "<div>\n",
       "<style scoped>\n",
       "    .dataframe tbody tr th:only-of-type {\n",
       "        vertical-align: middle;\n",
       "    }\n",
       "\n",
       "    .dataframe tbody tr th {\n",
       "        vertical-align: top;\n",
       "    }\n",
       "\n",
       "    .dataframe thead th {\n",
       "        text-align: right;\n",
       "    }\n",
       "</style>\n",
       "<table border=\"1\" class=\"dataframe\">\n",
       "  <thead>\n",
       "    <tr style=\"text-align: right;\">\n",
       "      <th></th>\n",
       "      <th>30</th>\n",
       "      <th>44</th>\n",
       "      <th>29</th>\n",
       "      <th>37</th>\n",
       "      <th>52</th>\n",
       "    </tr>\n",
       "  </thead>\n",
       "  <tbody>\n",
       "    <tr>\n",
       "      <th>state_name</th>\n",
       "      <td>Wisconsin</td>\n",
       "      <td>Wyoming</td>\n",
       "      <td>California</td>\n",
       "      <td>Washington</td>\n",
       "      <td>New Hampshire</td>\n",
       "    </tr>\n",
       "    <tr>\n",
       "      <th>murder_victums_2020</th>\n",
       "      <td>308.0</td>\n",
       "      <td>18.0</td>\n",
       "      <td>2203.0</td>\n",
       "      <td>301.0</td>\n",
       "      <td>12.0</td>\n",
       "    </tr>\n",
       "    <tr>\n",
       "      <th>murder_rates_per_100k_people_2020</th>\n",
       "      <td>5.3</td>\n",
       "      <td>3.1</td>\n",
       "      <td>5.6</td>\n",
       "      <td>3.9</td>\n",
       "      <td>0.9</td>\n",
       "    </tr>\n",
       "    <tr>\n",
       "      <th>murder_rates_per_100k_people_2019</th>\n",
       "      <td>3.2</td>\n",
       "      <td>2.2</td>\n",
       "      <td>4.3</td>\n",
       "      <td>2.7</td>\n",
       "      <td>2.4</td>\n",
       "    </tr>\n",
       "    <tr>\n",
       "      <th>murder_rates_per_100k_people_2018</th>\n",
       "      <td>3.0</td>\n",
       "      <td>2.4</td>\n",
       "      <td>4.4</td>\n",
       "      <td>3.1</td>\n",
       "      <td>1.6</td>\n",
       "    </tr>\n",
       "    <tr>\n",
       "      <th>murder_rates_per_100k_people_2017</th>\n",
       "      <td>3.3</td>\n",
       "      <td>2.4</td>\n",
       "      <td>4.6</td>\n",
       "      <td>3.0</td>\n",
       "      <td>1.0</td>\n",
       "    </tr>\n",
       "    <tr>\n",
       "      <th>murder_rates_per_100k_people_2016</th>\n",
       "      <td>4.0</td>\n",
       "      <td>3.4</td>\n",
       "      <td>4.9</td>\n",
       "      <td>2.9</td>\n",
       "      <td>1.4</td>\n",
       "    </tr>\n",
       "    <tr>\n",
       "      <th>murder_rates_per_100k_people_2015</th>\n",
       "      <td>4.2</td>\n",
       "      <td>2.7</td>\n",
       "      <td>4.8</td>\n",
       "      <td>2.5</td>\n",
       "      <td>1.1</td>\n",
       "    </tr>\n",
       "    <tr>\n",
       "      <th>murder_rates_per_100k_people_2014</th>\n",
       "      <td>2.8</td>\n",
       "      <td>2.7</td>\n",
       "      <td>4.4</td>\n",
       "      <td>2.3</td>\n",
       "      <td>1.2</td>\n",
       "    </tr>\n",
       "    <tr>\n",
       "      <th>murder_rates_per_100k_people_2013</th>\n",
       "      <td>2.8</td>\n",
       "      <td>2.9</td>\n",
       "      <td>4.6</td>\n",
       "      <td>3.1</td>\n",
       "      <td>1.7</td>\n",
       "    </tr>\n",
       "    <tr>\n",
       "      <th>murder_rates_per_100k_people_2012</th>\n",
       "      <td>3.0</td>\n",
       "      <td>2.4</td>\n",
       "      <td>5.0</td>\n",
       "      <td>2.4</td>\n",
       "      <td>1.1</td>\n",
       "    </tr>\n",
       "    <tr>\n",
       "      <th>murder_rates_per_100k_people_2011</th>\n",
       "      <td>2.4</td>\n",
       "      <td>3.2</td>\n",
       "      <td>4.8</td>\n",
       "      <td>2.3</td>\n",
       "      <td>1.3</td>\n",
       "    </tr>\n",
       "  </tbody>\n",
       "</table>\n",
       "</div>"
      ],
      "text/plain": [
       "                                          30       44          29          37  \\\n",
       "state_name                         Wisconsin  Wyoming  California  Washington   \n",
       "murder_victums_2020                    308.0     18.0      2203.0       301.0   \n",
       "murder_rates_per_100k_people_2020        5.3      3.1         5.6         3.9   \n",
       "murder_rates_per_100k_people_2019        3.2      2.2         4.3         2.7   \n",
       "murder_rates_per_100k_people_2018        3.0      2.4         4.4         3.1   \n",
       "murder_rates_per_100k_people_2017        3.3      2.4         4.6         3.0   \n",
       "murder_rates_per_100k_people_2016        4.0      3.4         4.9         2.9   \n",
       "murder_rates_per_100k_people_2015        4.2      2.7         4.8         2.5   \n",
       "murder_rates_per_100k_people_2014        2.8      2.7         4.4         2.3   \n",
       "murder_rates_per_100k_people_2013        2.8      2.9         4.6         3.1   \n",
       "murder_rates_per_100k_people_2012        3.0      2.4         5.0         2.4   \n",
       "murder_rates_per_100k_people_2011        2.4      3.2         4.8         2.3   \n",
       "\n",
       "                                              52  \n",
       "state_name                         New Hampshire  \n",
       "murder_victums_2020                         12.0  \n",
       "murder_rates_per_100k_people_2020            0.9  \n",
       "murder_rates_per_100k_people_2019            2.4  \n",
       "murder_rates_per_100k_people_2018            1.6  \n",
       "murder_rates_per_100k_people_2017            1.0  \n",
       "murder_rates_per_100k_people_2016            1.4  \n",
       "murder_rates_per_100k_people_2015            1.1  \n",
       "murder_rates_per_100k_people_2014            1.2  \n",
       "murder_rates_per_100k_people_2013            1.7  \n",
       "murder_rates_per_100k_people_2012            1.1  \n",
       "murder_rates_per_100k_people_2011            1.3  "
      ]
     },
     "execution_count": 5,
     "metadata": {},
     "output_type": "execute_result"
    }
   ],
   "source": [
    "\n",
    "us_states_df = tables_list[0].copy()\n",
    "# print(us_states_df.columns.tolist())\n",
    "columns_list = ['murder_victums_2020'] + [f'murder_rates_per_100k_people_{i}' for i in range(2020, 2010, -1)]\n",
    "us_states_df.columns = ['state_name'] + columns_list\n",
    "for cn in columns_list:\n",
    "    us_states_df[cn] = us_states_df[cn].map(lambda x: re.sub(r'[^0-9\\.]+', '', str(x)))\n",
    "    us_states_df[cn] = pd.to_numeric(us_states_df[cn], errors='coerce', downcast='float')\n",
    "mask_series = us_states_df.state_name.isnull()\n",
    "us_states_df = us_states_df[~mask_series]\n",
    "us_states_df.sample(5).T"
   ]
  },
  {
   "cell_type": "code",
   "execution_count": 6,
   "metadata": {},
   "outputs": [],
   "source": [
    "\n",
    "mask_series = (us_states_df.state_name == 'District of Columbia')\n",
    "us_states_df = us_states_df[~mask_series]"
   ]
  },
  {
   "cell_type": "code",
   "execution_count": 7,
   "metadata": {},
   "outputs": [],
   "source": [
    "\n",
    "# Remove US states duplicates and misspellings\n",
    "states_list = sorted(set(us_states_df.state_name).symmetric_difference(set(ssu.us_stats_df.index)))\n",
    "doubles_df = ssu.check_4_doubles(states_list)\n",
    "mask_series = (doubles_df.max_similarity > 0.6)\n",
    "columns_list = ['first_item', 'second_item', 'max_similarity']\n",
    "if doubles_df[mask_series].shape[0]:\n",
    "    display(doubles_df[mask_series][columns_list].sort_values('max_similarity', ascending=False))\n",
    "mask_series = us_states_df.duplicated(subset=['state_name'], keep=False)\n",
    "if us_states_df[mask_series].shape[0]:\n",
    "    display(us_states_df[mask_series])"
   ]
  },
  {
   "cell_type": "markdown",
   "metadata": {
    "jp-MarkdownHeadingCollapsed": true,
    "tags": []
   },
   "source": [
    "\n",
    "## Clean and prepare Countries dataset"
   ]
  },
  {
   "cell_type": "code",
   "execution_count": 8,
   "metadata": {},
   "outputs": [
    {
     "name": "stdout",
     "output_type": "stream",
     "text": [
      "[(1, (196, 7)), (2, (49, 2)), (3, (16, 2)), (0, (6, 3)), (4, (6, 2))]\n"
     ]
    }
   ],
   "source": [
    "\n",
    "url = 'https://en.wikipedia.org/wiki/List_of_countries_by_intentional_homicide_rate'\n",
    "tables_list = ssu.get_page_tables(url)"
   ]
  },
  {
   "cell_type": "code",
   "execution_count": 9,
   "metadata": {},
   "outputs": [
    {
     "data": {
      "text/html": [
       "<div>\n",
       "<style scoped>\n",
       "    .dataframe tbody tr th:only-of-type {\n",
       "        vertical-align: middle;\n",
       "    }\n",
       "\n",
       "    .dataframe tbody tr th {\n",
       "        vertical-align: top;\n",
       "    }\n",
       "\n",
       "    .dataframe thead th {\n",
       "        text-align: right;\n",
       "    }\n",
       "</style>\n",
       "<table border=\"1\" class=\"dataframe\">\n",
       "  <thead>\n",
       "    <tr style=\"text-align: right;\">\n",
       "      <th></th>\n",
       "      <th>1</th>\n",
       "      <th>2</th>\n",
       "      <th>3</th>\n",
       "      <th>4</th>\n",
       "      <th>5</th>\n",
       "      <th>6</th>\n",
       "      <th>7</th>\n",
       "      <th>8</th>\n",
       "      <th>9</th>\n",
       "    </tr>\n",
       "  </thead>\n",
       "  <tbody>\n",
       "    <tr>\n",
       "      <th>country_name</th>\n",
       "      <td>Afghanistan</td>\n",
       "      <td>Albania</td>\n",
       "      <td>Algeria</td>\n",
       "      <td>Andorra</td>\n",
       "      <td>Angola</td>\n",
       "      <td>Anguilla</td>\n",
       "      <td>Antigua and Barbuda</td>\n",
       "      <td>Argentina</td>\n",
       "      <td>Armenia</td>\n",
       "    </tr>\n",
       "    <tr>\n",
       "      <th>region_name</th>\n",
       "      <td>Asia</td>\n",
       "      <td>Europe</td>\n",
       "      <td>Africa</td>\n",
       "      <td>Europe</td>\n",
       "      <td>Africa</td>\n",
       "      <td>Americas</td>\n",
       "      <td>Americas</td>\n",
       "      <td>Americas</td>\n",
       "      <td>Asia</td>\n",
       "    </tr>\n",
       "    <tr>\n",
       "      <th>subregion_name</th>\n",
       "      <td>Southern Asia</td>\n",
       "      <td>Southern Europe</td>\n",
       "      <td>Northern Africa</td>\n",
       "      <td>Southern Europe</td>\n",
       "      <td>Middle Africa</td>\n",
       "      <td>Caribbean</td>\n",
       "      <td>Caribbean</td>\n",
       "      <td>South America</td>\n",
       "      <td>Western Asia</td>\n",
       "    </tr>\n",
       "    <tr>\n",
       "      <th>homicide_rate</th>\n",
       "      <td>6.7</td>\n",
       "      <td>2.1</td>\n",
       "      <td>1.3</td>\n",
       "      <td>2.6</td>\n",
       "      <td>4.8</td>\n",
       "      <td>28.3</td>\n",
       "      <td>11.1</td>\n",
       "      <td>5.3</td>\n",
       "      <td>1.8</td>\n",
       "    </tr>\n",
       "    <tr>\n",
       "      <th>body_count</th>\n",
       "      <td>2474.0</td>\n",
       "      <td>61.0</td>\n",
       "      <td>580.0</td>\n",
       "      <td>2.0</td>\n",
       "      <td>1217.0</td>\n",
       "      <td>4.0</td>\n",
       "      <td>10.0</td>\n",
       "      <td>2362.0</td>\n",
       "      <td>52.0</td>\n",
       "    </tr>\n",
       "    <tr>\n",
       "      <th>data_source_year</th>\n",
       "      <td>2018.0</td>\n",
       "      <td>2020.0</td>\n",
       "      <td>2020.0</td>\n",
       "      <td>2020.0</td>\n",
       "      <td>2012.0</td>\n",
       "      <td>2014.0</td>\n",
       "      <td>2012.0</td>\n",
       "      <td>2018.0</td>\n",
       "      <td>2020.0</td>\n",
       "    </tr>\n",
       "    <tr>\n",
       "      <th>data_source</th>\n",
       "      <td>NSO</td>\n",
       "      <td>NSO</td>\n",
       "      <td>CTS</td>\n",
       "      <td>CTS</td>\n",
       "      <td>NSO</td>\n",
       "      <td>SDG</td>\n",
       "      <td>OAS</td>\n",
       "      <td>MoS</td>\n",
       "      <td>CTS</td>\n",
       "    </tr>\n",
       "  </tbody>\n",
       "</table>\n",
       "</div>"
      ],
      "text/plain": [
       "                              1                2                3  \\\n",
       "country_name        Afghanistan          Albania          Algeria   \n",
       "region_name                Asia           Europe           Africa   \n",
       "subregion_name    Southern Asia  Southern Europe  Northern Africa   \n",
       "homicide_rate               6.7              2.1              1.3   \n",
       "body_count               2474.0             61.0            580.0   \n",
       "data_source_year         2018.0           2020.0           2020.0   \n",
       "data_source                 NSO              NSO              CTS   \n",
       "\n",
       "                                4              5          6  \\\n",
       "country_name              Andorra         Angola   Anguilla   \n",
       "region_name                Europe         Africa   Americas   \n",
       "subregion_name    Southern Europe  Middle Africa  Caribbean   \n",
       "homicide_rate                 2.6            4.8       28.3   \n",
       "body_count                    2.0         1217.0        4.0   \n",
       "data_source_year           2020.0         2012.0     2014.0   \n",
       "data_source                   CTS            NSO        SDG   \n",
       "\n",
       "                                    7              8             9  \n",
       "country_name      Antigua and Barbuda      Argentina       Armenia  \n",
       "region_name                  Americas       Americas          Asia  \n",
       "subregion_name              Caribbean  South America  Western Asia  \n",
       "homicide_rate                    11.1            5.3           1.8  \n",
       "body_count                       10.0         2362.0          52.0  \n",
       "data_source_year               2012.0         2018.0        2020.0  \n",
       "data_source                       OAS            MoS           CTS  "
      ]
     },
     "execution_count": 9,
     "metadata": {},
     "output_type": "execute_result"
    }
   ],
   "source": [
    "\n",
    "countries_df = tables_list[1].copy()\n",
    "# print(countries_df.columns.tolist())\n",
    "countries_df.columns = ['country_name', 'region_name',  'subregion_name', 'homicide_rate',\n",
    "                        'body_count', 'data_source_year', 'data_source']\n",
    "for cn in ['homicide_rate', 'body_count', 'data_source_year']:\n",
    "    countries_df[cn] = countries_df[cn].map(lambda x: re.sub(r'[^0-9\\.]+', '', str(x).split('[')[0]))\n",
    "    countries_df[cn] = pd.to_numeric(countries_df[cn], errors='coerce', downcast='integer')\n",
    "mask_series = countries_df.country_name.isnull()\n",
    "countries_df = countries_df[~mask_series]\n",
    "countries_df.country_name = countries_df.country_name.map(lambda x: str(x).split('*')[0].strip())\n",
    "countries_df.head(9).T"
   ]
  },
  {
   "cell_type": "code",
   "execution_count": 10,
   "metadata": {},
   "outputs": [
    {
     "data": {
      "text/html": [
       "<div>\n",
       "<style scoped>\n",
       "    .dataframe tbody tr th:only-of-type {\n",
       "        vertical-align: middle;\n",
       "    }\n",
       "\n",
       "    .dataframe tbody tr th {\n",
       "        vertical-align: top;\n",
       "    }\n",
       "\n",
       "    .dataframe thead th {\n",
       "        text-align: right;\n",
       "    }\n",
       "</style>\n",
       "<table border=\"1\" class=\"dataframe\">\n",
       "  <thead>\n",
       "    <tr style=\"text-align: right;\">\n",
       "      <th></th>\n",
       "      <th>first_item</th>\n",
       "      <th>second_item</th>\n",
       "      <th>max_similarity</th>\n",
       "    </tr>\n",
       "  </thead>\n",
       "  <tbody>\n",
       "    <tr>\n",
       "      <th>11</th>\n",
       "      <td>Cook Islands</td>\n",
       "      <td>Norfolk Island</td>\n",
       "      <td>0.769231</td>\n",
       "    </tr>\n",
       "    <tr>\n",
       "      <th>7</th>\n",
       "      <td>Channel Islands</td>\n",
       "      <td>Faroe Islands</td>\n",
       "      <td>0.714286</td>\n",
       "    </tr>\n",
       "    <tr>\n",
       "      <th>28</th>\n",
       "      <td>Guernsey</td>\n",
       "      <td>Jersey</td>\n",
       "      <td>0.714286</td>\n",
       "    </tr>\n",
       "    <tr>\n",
       "      <th>57</th>\n",
       "      <td>Solomon Islands</td>\n",
       "      <td>Åland Islands</td>\n",
       "      <td>0.714286</td>\n",
       "    </tr>\n",
       "    <tr>\n",
       "      <th>47</th>\n",
       "      <td>Northern Ireland</td>\n",
       "      <td>Northern Mariana Islands</td>\n",
       "      <td>0.700000</td>\n",
       "    </tr>\n",
       "    <tr>\n",
       "      <th>3</th>\n",
       "      <td>Bouvet Island</td>\n",
       "      <td>Faroe Islands</td>\n",
       "      <td>0.692308</td>\n",
       "    </tr>\n",
       "    <tr>\n",
       "      <th>20</th>\n",
       "      <td>Faroe Islands</td>\n",
       "      <td>Åland Islands</td>\n",
       "      <td>0.692308</td>\n",
       "    </tr>\n",
       "    <tr>\n",
       "      <th>46</th>\n",
       "      <td>North Korea</td>\n",
       "      <td>Northern Ireland</td>\n",
       "      <td>0.666667</td>\n",
       "    </tr>\n",
       "    <tr>\n",
       "      <th>63</th>\n",
       "      <td>Togo</td>\n",
       "      <td>Tonga</td>\n",
       "      <td>0.666667</td>\n",
       "    </tr>\n",
       "    <tr>\n",
       "      <th>9</th>\n",
       "      <td>Cocos (Keeling) Islands</td>\n",
       "      <td>Cook Islands</td>\n",
       "      <td>0.628571</td>\n",
       "    </tr>\n",
       "    <tr>\n",
       "      <th>40</th>\n",
       "      <td>Marshall Islands</td>\n",
       "      <td>Åland Islands</td>\n",
       "      <td>0.620690</td>\n",
       "    </tr>\n",
       "    <tr>\n",
       "      <th>45</th>\n",
       "      <td>Norfolk Island</td>\n",
       "      <td>Solomon Islands</td>\n",
       "      <td>0.620690</td>\n",
       "    </tr>\n",
       "  </tbody>\n",
       "</table>\n",
       "</div>"
      ],
      "text/plain": [
       "                 first_item               second_item  max_similarity\n",
       "11             Cook Islands            Norfolk Island        0.769231\n",
       "7           Channel Islands             Faroe Islands        0.714286\n",
       "28                 Guernsey                    Jersey        0.714286\n",
       "57          Solomon Islands             Åland Islands        0.714286\n",
       "47         Northern Ireland  Northern Mariana Islands        0.700000\n",
       "3             Bouvet Island             Faroe Islands        0.692308\n",
       "20            Faroe Islands             Åland Islands        0.692308\n",
       "46              North Korea          Northern Ireland        0.666667\n",
       "63                     Togo                     Tonga        0.666667\n",
       "9   Cocos (Keeling) Islands              Cook Islands        0.628571\n",
       "40         Marshall Islands             Åland Islands        0.620690\n",
       "45           Norfolk Island           Solomon Islands        0.620690"
      ]
     },
     "metadata": {},
     "output_type": "display_data"
    }
   ],
   "source": [
    "\n",
    "# Remove country duplicates and misspellings\n",
    "countries_df.country_name = countries_df.country_name.map(lambda x: ssu.country_name_dict.get(x, x))\n",
    "countries_list = sorted(set(countries_df.country_name).symmetric_difference(set(all_countries_df.country_name)))\n",
    "doubles_df = ssu.check_4_doubles(countries_list)\n",
    "mask_series = (doubles_df.max_similarity > 0.6)\n",
    "columns_list = ['first_item', 'second_item', 'max_similarity']\n",
    "if doubles_df[mask_series].shape[0]:\n",
    "    display(doubles_df[mask_series][columns_list].sort_values('max_similarity', ascending=False))\n",
    "mask_series = countries_df.duplicated(subset=['country_name'], keep=False)\n",
    "if countries_df[mask_series].shape[0]:\n",
    "    display(countries_df[mask_series])"
   ]
  },
  {
   "cell_type": "markdown",
   "metadata": {
    "jp-MarkdownHeadingCollapsed": true,
    "tags": []
   },
   "source": [
    "\n",
    "## Prepare for and Create Choropleth"
   ]
  },
  {
   "cell_type": "code",
   "execution_count": 11,
   "metadata": {},
   "outputs": [
    {
     "name": "stdout",
     "output_type": "stream",
     "text": [
      "Pickling to C:\\Users\\daveb\\OneDrive\\Documents\\GitHub\\StatsByCountry\\saves\\pkl\\us_stats_df.pkl\n",
      "Pickling to C:\\Users\\daveb\\OneDrive\\Documents\\GitHub\\StatsByCountry\\saves\\pkl\\column_description_dict.pkl\n"
     ]
    }
   ],
   "source": [
    "\n",
    "equivalence_column_name = 'Country_Equivalent_Intentional_Homicide_Rate'\n",
    "states_target_column_name = 'murder_rates_per_100k_people_2020'\n",
    "mask_series = countries_df.country_name.isin(all_countries_df.country_name)\n",
    "ssu.prepare_for_choroplething(countries_df[mask_series], 'homicide_rate', us_states_df, st_col_name=states_target_column_name,\n",
    "                              st_col_explanation='Intentional Homicides per 100,000 Population (2020)',\n",
    "                              equivalence_column_name=equivalence_column_name, verbose=False)"
   ]
  },
  {
   "cell_type": "code",
   "execution_count": 20,
   "metadata": {},
   "outputs": [
    {
     "name": "stdout",
     "output_type": "stream",
     "text": [
      "C:\\Users\\daveb\\OneDrive\\Documents\\GitHub\\StatsByCountry\\saves\\svg\\US_murder_rates_per_100k_people_2020_Country_Equivalent_Intentional_Homicide_Rate.svg\n"
     ]
    }
   ],
   "source": [
    "\n",
    "c = ChoroplethUtilities(iso_3166_2_code='us', one_country_df=ssu.us_stats_df, all_countries_df=all_countries_df)\n",
    "c.create_label_line_file()\n",
    "svg_file_path = c.create_country_colored_labeled_map(numeric_column_name=states_target_column_name,\n",
    "                                                     string_column_name=equivalence_column_name,\n",
    "                                                     one_country_df=ssu.us_stats_df, cmap='summer')\n",
    "print(os.path.abspath(svg_file_path))"
   ]
  },
  {
   "cell_type": "code",
   "execution_count": null,
   "metadata": {},
   "outputs": [],
   "source": []
  }
 ],
 "metadata": {
  "kernelspec": {
   "display_name": "Python 3 (ipykernel)",
   "language": "python",
   "name": "python3"
  },
  "language_info": {
   "codemirror_mode": {
    "name": "ipython",
    "version": 3
   },
   "file_extension": ".py",
   "mimetype": "text/x-python",
   "name": "python",
   "nbconvert_exporter": "python",
   "pygments_lexer": "ipython3",
   "version": "3.9.7"
  }
 },
 "nbformat": 4,
 "nbformat_minor": 4
}

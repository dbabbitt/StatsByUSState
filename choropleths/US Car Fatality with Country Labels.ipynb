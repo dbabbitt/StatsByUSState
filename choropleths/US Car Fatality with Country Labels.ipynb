{
 "cells": [
  {
   "cell_type": "markdown",
   "metadata": {
    "jp-MarkdownHeadingCollapsed": true,
    "tags": []
   },
   "source": [
    "\n",
    "# Set up the notebook"
   ]
  },
  {
   "cell_type": "code",
   "execution_count": 1,
   "metadata": {},
   "outputs": [
    {
     "name": "stdout",
     "output_type": "stream",
     "text": [
      "Pretty printing has been turned OFF\n"
     ]
    }
   ],
   "source": [
    "\n",
    "%pprint"
   ]
  },
  {
   "cell_type": "code",
   "execution_count": 2,
   "metadata": {},
   "outputs": [],
   "source": [
    "\n",
    "import sys\n",
    "\n",
    "# Insert at 1, 0 is the script path (or '' in REPL)\n",
    "sys.path.insert(1, '../py')\n",
    "\n",
    "from choropleth_utils import ChoroplethUtilities\n",
    "from stats_scraping_utils import StatsScrapingUtilities\n",
    "from storage import Storage\n",
    "import pandas as pd\n",
    "import re\n",
    "import os\n",
    "import numpy as np\n",
    "\n",
    "s = Storage()\n",
    "ssu = StatsScrapingUtilities(s=s)"
   ]
  },
  {
   "cell_type": "code",
   "execution_count": 52,
   "metadata": {},
   "outputs": [
    {
     "name": "stdout",
     "output_type": "stream",
     "text": [
      "Pickling to C:\\Users\\daveb\\OneDrive\\Documents\\GitHub\\StatsByCountry\\saves\\pkl\\all_countries_df.pkl\n"
     ]
    }
   ],
   "source": [
    "\n",
    "column_description_dict = s.load_object('column_description_dict')\n",
    "us_stats_df = s.load_object('us_stats_df')\n",
    "\n",
    "all_countries_df = s.load_object('all_countries_df').set_index('country_code', drop=True)\n",
    "all_countries_df.country_name = all_countries_df.country_name.map(lambda x: ssu.country_name_dict.get(x, x))\n",
    "s.store_objects(all_countries_df=all_countries_df.reset_index(drop=False))"
   ]
  },
  {
   "cell_type": "markdown",
   "metadata": {
    "tags": []
   },
   "source": [
    "\n",
    "----\n",
    "# Get State/Country Car Fatality Equivalents"
   ]
  },
  {
   "cell_type": "markdown",
   "metadata": {
    "tags": []
   },
   "source": [
    "\n",
    "## Clean and prepare US States dataset"
   ]
  },
  {
   "cell_type": "code",
   "execution_count": 4,
   "metadata": {},
   "outputs": [
    {
     "name": "stderr",
     "output_type": "stream",
     "text": [
      "Got stderr: Aug 17, 2022 6:14:27 PM org.apache.pdfbox.pdfparser.COSParser parseXref\n",
      "WARNING: /XRefStm offset 3129 is incorrect, corrected to 3278\n",
      "\n"
     ]
    },
    {
     "name": "stdout",
     "output_type": "stream",
     "text": [
      "[(3, (56, 9)), (7, (56, 6)), (6, (55, 3)), (8, (55, 7)), (9, (55, 7)), (10, (55, 5)), (4, (54, 9)), (5, (54, 7)), (2, (46, 3)), (0, (26, 19)), (11, (21, 2)), (1, (5, 4))]\n"
     ]
    }
   ],
   "source": [
    "\n",
    "# url = 'https://worldpopulationreview.com/state-rankings/fatal-car-accidents-by-state'\n",
    "url = 'https://crashstats.nhtsa.dot.gov/Api/Public/Publication/812581'\n",
    "file_name = '2016_State_Traffic_Data_CrashStats_NHTSA.pdf'\n",
    "tables_list = ssu.get_page_tables(url, pdf_file_name=file_name)"
   ]
  },
  {
   "cell_type": "code",
   "execution_count": 5,
   "metadata": {},
   "outputs": [
    {
     "data": {
      "text/html": [
       "<div>\n",
       "<style scoped>\n",
       "    .dataframe tbody tr th:only-of-type {\n",
       "        vertical-align: middle;\n",
       "    }\n",
       "\n",
       "    .dataframe tbody tr th {\n",
       "        vertical-align: top;\n",
       "    }\n",
       "\n",
       "    .dataframe thead th {\n",
       "        text-align: right;\n",
       "    }\n",
       "</style>\n",
       "<table border=\"1\" class=\"dataframe\">\n",
       "  <thead>\n",
       "    <tr style=\"text-align: right;\">\n",
       "      <th></th>\n",
       "      <th>3</th>\n",
       "      <th>4</th>\n",
       "      <th>5</th>\n",
       "      <th>6</th>\n",
       "      <th>7</th>\n",
       "    </tr>\n",
       "  </thead>\n",
       "  <tbody>\n",
       "    <tr>\n",
       "      <th>state_name</th>\n",
       "      <td>Alabama</td>\n",
       "      <td>Alaska</td>\n",
       "      <td>Arizona</td>\n",
       "      <td>Arkansas</td>\n",
       "      <td>California</td>\n",
       "    </tr>\n",
       "    <tr>\n",
       "      <th>Traffic Fatalities</th>\n",
       "      <td>1038.0</td>\n",
       "      <td>84.0</td>\n",
       "      <td>962.0</td>\n",
       "      <td>545.0</td>\n",
       "      <td>3623.0</td>\n",
       "    </tr>\n",
       "    <tr>\n",
       "      <th>Population (thousands)</th>\n",
       "      <td>4863.0</td>\n",
       "      <td>742.0</td>\n",
       "      <td>6931.0</td>\n",
       "      <td>2988.0</td>\n",
       "      <td>39250.0</td>\n",
       "    </tr>\n",
       "    <tr>\n",
       "      <th>Licensed Drivers (thousands)</th>\n",
       "      <td>3943.0</td>\n",
       "      <td>535.0</td>\n",
       "      <td>5082.0</td>\n",
       "      <td>2391.0</td>\n",
       "      <td>26199.0</td>\n",
       "    </tr>\n",
       "    <tr>\n",
       "      <th>Registered Vehicles (thousands)</th>\n",
       "      <td>5468.0</td>\n",
       "      <td>795.0</td>\n",
       "      <td>5787.0</td>\n",
       "      <td>2808.0</td>\n",
       "      <td>30221.0</td>\n",
       "    </tr>\n",
       "    <tr>\n",
       "      <th>Vehicle Miles Traveled (millions)</th>\n",
       "      <td>69227.0</td>\n",
       "      <td>5259.0</td>\n",
       "      <td>65786.0</td>\n",
       "      <td>35755.0</td>\n",
       "      <td>340115.0</td>\n",
       "    </tr>\n",
       "    <tr>\n",
       "      <th>fatality_rates_per_100k_population</th>\n",
       "      <td>21.34</td>\n",
       "      <td>11.32</td>\n",
       "      <td>13.88</td>\n",
       "      <td>18.24</td>\n",
       "      <td>9.23</td>\n",
       "    </tr>\n",
       "    <tr>\n",
       "      <th>Fatality Rates per 100 Million Vehicle Miles Traveled</th>\n",
       "      <td>1.5</td>\n",
       "      <td>1.6</td>\n",
       "      <td>1.46</td>\n",
       "      <td>1.52</td>\n",
       "      <td>1.07</td>\n",
       "    </tr>\n",
       "    <tr>\n",
       "      <th>Fatality Rates per 100,000 Licensed Drivers</th>\n",
       "      <td>26.32</td>\n",
       "      <td>15.71</td>\n",
       "      <td>18.93</td>\n",
       "      <td>22.790001</td>\n",
       "      <td>13.83</td>\n",
       "    </tr>\n",
       "    <tr>\n",
       "      <th>Fatality Rates per 100,000 Registered Vehicles</th>\n",
       "      <td>18.98</td>\n",
       "      <td>10.57</td>\n",
       "      <td>16.620001</td>\n",
       "      <td>19.41</td>\n",
       "      <td>11.99</td>\n",
       "    </tr>\n",
       "  </tbody>\n",
       "</table>\n",
       "</div>"
      ],
      "text/plain": [
       "                                                          3       4  \\\n",
       "state_name                                          Alabama  Alaska   \n",
       "Traffic Fatalities                                   1038.0    84.0   \n",
       "Population (thousands)                               4863.0   742.0   \n",
       "Licensed Drivers (thousands)                         3943.0   535.0   \n",
       "Registered Vehicles (thousands)                      5468.0   795.0   \n",
       "Vehicle Miles Traveled (millions)                   69227.0  5259.0   \n",
       "fatality_rates_per_100k_population                    21.34   11.32   \n",
       "Fatality Rates per 100 Million Vehicle Miles Tr...      1.5     1.6   \n",
       "Fatality Rates per 100,000 Licensed Drivers           26.32   15.71   \n",
       "Fatality Rates per 100,000 Registered Vehicles        18.98   10.57   \n",
       "\n",
       "                                                            5          6  \\\n",
       "state_name                                            Arizona   Arkansas   \n",
       "Traffic Fatalities                                      962.0      545.0   \n",
       "Population (thousands)                                 6931.0     2988.0   \n",
       "Licensed Drivers (thousands)                           5082.0     2391.0   \n",
       "Registered Vehicles (thousands)                        5787.0     2808.0   \n",
       "Vehicle Miles Traveled (millions)                     65786.0    35755.0   \n",
       "fatality_rates_per_100k_population                      13.88      18.24   \n",
       "Fatality Rates per 100 Million Vehicle Miles Tr...       1.46       1.52   \n",
       "Fatality Rates per 100,000 Licensed Drivers             18.93  22.790001   \n",
       "Fatality Rates per 100,000 Registered Vehicles      16.620001      19.41   \n",
       "\n",
       "                                                             7  \n",
       "state_name                                          California  \n",
       "Traffic Fatalities                                      3623.0  \n",
       "Population (thousands)                                 39250.0  \n",
       "Licensed Drivers (thousands)                           26199.0  \n",
       "Registered Vehicles (thousands)                        30221.0  \n",
       "Vehicle Miles Traveled (millions)                     340115.0  \n",
       "fatality_rates_per_100k_population                        9.23  \n",
       "Fatality Rates per 100 Million Vehicle Miles Tr...        1.07  \n",
       "Fatality Rates per 100,000 Licensed Drivers              13.83  \n",
       "Fatality Rates per 100,000 Registered Vehicles           11.99  "
      ]
     },
     "execution_count": 5,
     "metadata": {},
     "output_type": "execute_result"
    }
   ],
   "source": [
    "\n",
    "us_states_df = tables_list[3].copy()\n",
    "# columns_list = []\n",
    "# for t1, t2, t3, t4 in zip(us_states_df.columns.tolist(), us_states_df.iloc[0].T.tolist(), us_states_df.iloc[1].T.tolist(),\n",
    "#                           us_states_df.iloc[2].T.tolist()):\n",
    "#     column_names_list = []\n",
    "#     if not t1.startswith('Unnamed'):\n",
    "#         column_names_list.append(t1.strip().lower().replace(' ', '_').replace(',000', 'k'))\n",
    "#     for t in [t2, t3, t4]:\n",
    "#         if str(t) != 'nan':\n",
    "#             column_names_list.append(t.strip().lower().replace(' ', '_').replace(',000', 'k'))\n",
    "#     columns_list.append('_'.join(column_names_list))\n",
    "# print(columns_list)\n",
    "columns_list = ['traffic_fatalities', 'population_in_thousands', 'licensed_drivers_in_thousands',\n",
    "                'registered_vehicles_in_thousands', 'vehicle_miles_traveled_in_millions', 'fatality_rates_per_100k_population']\n",
    "us_states_df.columns = ['state_name'] + columns_list + ['fixme', 'fatality_rates_per_100_million_vehicle_miles_traveled']\n",
    "us_states_df = us_states_df.iloc[3:]\n",
    "fixme_columns_list = ['fatality_rates_per_100k_licensed_drivers', 'fatality_rates_per_100k_registered_vehicles']\n",
    "for i in range(2):\n",
    "    us_states_df[fixme_columns_list[i]] = us_states_df.fixme.map(lambda x: re.sub(r'[^0-9\\.]+', '', x.split(' ')[i]))\n",
    "for cn in fixme_columns_list:\n",
    "    us_states_df[cn] = pd.to_numeric(us_states_df[cn], errors='coerce', downcast='float')\n",
    "columns_list += ['fatality_rates_per_100_million_vehicle_miles_traveled']\n",
    "for cn in columns_list:\n",
    "    us_states_df[cn] = us_states_df[cn].map(lambda x: re.sub(r'[^0-9\\.]+', '', str(x)))\n",
    "    us_states_df[cn] = pd.to_numeric(us_states_df[cn], errors='coerce', downcast='float')\n",
    "columns_list = ['state_name'] + columns_list + fixme_columns_list\n",
    "us_states_df[columns_list].head(5).T"
   ]
  },
  {
   "cell_type": "code",
   "execution_count": 6,
   "metadata": {},
   "outputs": [
    {
     "data": {
      "text/html": [
       "<div>\n",
       "<style scoped>\n",
       "    .dataframe tbody tr th:only-of-type {\n",
       "        vertical-align: middle;\n",
       "    }\n",
       "\n",
       "    .dataframe tbody tr th {\n",
       "        vertical-align: top;\n",
       "    }\n",
       "\n",
       "    .dataframe thead th {\n",
       "        text-align: right;\n",
       "    }\n",
       "</style>\n",
       "<table border=\"1\" class=\"dataframe\">\n",
       "  <thead>\n",
       "    <tr style=\"text-align: right;\">\n",
       "      <th></th>\n",
       "      <th>first_item</th>\n",
       "      <th>second_item</th>\n",
       "      <th>max_similarity</th>\n",
       "    </tr>\n",
       "  </thead>\n",
       "  <tbody>\n",
       "  </tbody>\n",
       "</table>\n",
       "</div>"
      ],
      "text/plain": [
       "Empty DataFrame\n",
       "Columns: [first_item, second_item, max_similarity]\n",
       "Index: []"
      ]
     },
     "execution_count": 6,
     "metadata": {},
     "output_type": "execute_result"
    }
   ],
   "source": [
    "\n",
    "# Remove US states duplicates and misspellings\n",
    "states_list = sorted(set(us_states_df.state_name).symmetric_difference(set(ssu.us_stats_df.index)))\n",
    "doubles_df = ssu.check_4_doubles(states_list)\n",
    "mask_series = (doubles_df.max_similarity > 0.6)\n",
    "columns_list = ['first_item', 'second_item', 'max_similarity']\n",
    "doubles_df[mask_series][columns_list].sort_values('max_similarity', ascending=False)"
   ]
  },
  {
   "cell_type": "markdown",
   "metadata": {
    "jp-MarkdownHeadingCollapsed": true,
    "tags": []
   },
   "source": [
    "\n",
    "## Clean and prepare Countries dataset"
   ]
  },
  {
   "cell_type": "code",
   "execution_count": 7,
   "metadata": {},
   "outputs": [
    {
     "name": "stdout",
     "output_type": "stream",
     "text": [
      "[(1, (189, 7)), (2, (4, 2)), (0, (1, 2))]\n"
     ]
    }
   ],
   "source": [
    "\n",
    "url = 'https://en.wikipedia.org/wiki/List_of_countries_by_traffic-related_death_rate'\n",
    "tables_list = ssu.get_page_tables(url)"
   ]
  },
  {
   "cell_type": "code",
   "execution_count": 8,
   "metadata": {},
   "outputs": [
    {
     "data": {
      "text/html": [
       "<div>\n",
       "<style scoped>\n",
       "    .dataframe tbody tr th:only-of-type {\n",
       "        vertical-align: middle;\n",
       "    }\n",
       "\n",
       "    .dataframe tbody tr th {\n",
       "        vertical-align: top;\n",
       "    }\n",
       "\n",
       "    .dataframe thead th {\n",
       "        text-align: right;\n",
       "    }\n",
       "</style>\n",
       "<table border=\"1\" class=\"dataframe\">\n",
       "  <thead>\n",
       "    <tr style=\"text-align: right;\">\n",
       "      <th></th>\n",
       "      <th>0</th>\n",
       "      <th>1</th>\n",
       "      <th>2</th>\n",
       "      <th>3</th>\n",
       "      <th>4</th>\n",
       "      <th>5</th>\n",
       "      <th>6</th>\n",
       "      <th>7</th>\n",
       "      <th>8</th>\n",
       "    </tr>\n",
       "  </thead>\n",
       "  <tbody>\n",
       "    <tr>\n",
       "      <th>country_name</th>\n",
       "      <td>Global</td>\n",
       "      <td>Africa</td>\n",
       "      <td>Eastern Mediterranean</td>\n",
       "      <td>Western Pacific</td>\n",
       "      <td>South-East Asia</td>\n",
       "      <td>Americas</td>\n",
       "      <td>Europe</td>\n",
       "      <td>Afghanistan</td>\n",
       "      <td>Albania</td>\n",
       "    </tr>\n",
       "    <tr>\n",
       "      <th>continent_name</th>\n",
       "      <td>NaN</td>\n",
       "      <td>NaN</td>\n",
       "      <td>NaN</td>\n",
       "      <td>NaN</td>\n",
       "      <td>NaN</td>\n",
       "      <td>NaN</td>\n",
       "      <td>NaN</td>\n",
       "      <td>Asia</td>\n",
       "      <td>Europe</td>\n",
       "    </tr>\n",
       "    <tr>\n",
       "      <th>road_deaths_per_100k_inhabitants</th>\n",
       "      <td>18.200001</td>\n",
       "      <td>26.6</td>\n",
       "      <td>18.0</td>\n",
       "      <td>16.9</td>\n",
       "      <td>20.700001</td>\n",
       "      <td>15.6</td>\n",
       "      <td>9.3</td>\n",
       "      <td>15.5</td>\n",
       "      <td>15.1</td>\n",
       "    </tr>\n",
       "    <tr>\n",
       "      <th>road_deaths_per_100k_motor_vehicles</th>\n",
       "      <td>NaN</td>\n",
       "      <td>574.0</td>\n",
       "      <td>139.0</td>\n",
       "      <td>69.0</td>\n",
       "      <td>101.0</td>\n",
       "      <td>33.0</td>\n",
       "      <td>19.0</td>\n",
       "      <td>722.400024</td>\n",
       "      <td>107.199997</td>\n",
       "    </tr>\n",
       "    <tr>\n",
       "      <th>road_deaths_per_100B_vehicle_kms</th>\n",
       "      <td>NaN</td>\n",
       "      <td>NaN</td>\n",
       "      <td>NaN</td>\n",
       "      <td>NaN</td>\n",
       "      <td>NaN</td>\n",
       "      <td>NaN</td>\n",
       "      <td>NaN</td>\n",
       "      <td>NaN</td>\n",
       "      <td>NaN</td>\n",
       "    </tr>\n",
       "    <tr>\n",
       "      <th>road_deaths_total</th>\n",
       "      <td>1350000.0</td>\n",
       "      <td>246719.0</td>\n",
       "      <td>122730.0</td>\n",
       "      <td>328591.0</td>\n",
       "      <td>316080.0</td>\n",
       "      <td>153789.0</td>\n",
       "      <td>85629.0</td>\n",
       "      <td>4734.0</td>\n",
       "      <td>478.0</td>\n",
       "    </tr>\n",
       "    <tr>\n",
       "      <th>data_source_year</th>\n",
       "      <td>2016.0</td>\n",
       "      <td>2016.0</td>\n",
       "      <td>2016.0</td>\n",
       "      <td>2016.0</td>\n",
       "      <td>2016.0</td>\n",
       "      <td>2016.0</td>\n",
       "      <td>2016.0</td>\n",
       "      <td>2013.0</td>\n",
       "      <td>2016.0</td>\n",
       "    </tr>\n",
       "  </tbody>\n",
       "</table>\n",
       "</div>"
      ],
      "text/plain": [
       "                                             0         1  \\\n",
       "country_name                            Global    Africa   \n",
       "continent_name                             NaN       NaN   \n",
       "road_deaths_per_100k_inhabitants     18.200001      26.6   \n",
       "road_deaths_per_100k_motor_vehicles        NaN     574.0   \n",
       "road_deaths_per_100B_vehicle_kms           NaN       NaN   \n",
       "road_deaths_total                    1350000.0  246719.0   \n",
       "data_source_year                        2016.0    2016.0   \n",
       "\n",
       "                                                         2                3  \\\n",
       "country_name                         Eastern Mediterranean  Western Pacific   \n",
       "continent_name                                         NaN              NaN   \n",
       "road_deaths_per_100k_inhabitants                      18.0             16.9   \n",
       "road_deaths_per_100k_motor_vehicles                  139.0             69.0   \n",
       "road_deaths_per_100B_vehicle_kms                       NaN              NaN   \n",
       "road_deaths_total                                 122730.0         328591.0   \n",
       "data_source_year                                    2016.0           2016.0   \n",
       "\n",
       "                                                   4         5        6  \\\n",
       "country_name                         South-East Asia  Americas   Europe   \n",
       "continent_name                                   NaN       NaN      NaN   \n",
       "road_deaths_per_100k_inhabitants           20.700001      15.6      9.3   \n",
       "road_deaths_per_100k_motor_vehicles            101.0      33.0     19.0   \n",
       "road_deaths_per_100B_vehicle_kms                 NaN       NaN      NaN   \n",
       "road_deaths_total                           316080.0  153789.0  85629.0   \n",
       "data_source_year                              2016.0    2016.0   2016.0   \n",
       "\n",
       "                                               7           8  \n",
       "country_name                         Afghanistan     Albania  \n",
       "continent_name                              Asia      Europe  \n",
       "road_deaths_per_100k_inhabitants            15.5        15.1  \n",
       "road_deaths_per_100k_motor_vehicles   722.400024  107.199997  \n",
       "road_deaths_per_100B_vehicle_kms             NaN         NaN  \n",
       "road_deaths_total                         4734.0       478.0  \n",
       "data_source_year                          2013.0      2016.0  "
      ]
     },
     "execution_count": 8,
     "metadata": {},
     "output_type": "execute_result"
    }
   ],
   "source": [
    "\n",
    "countries_df = tables_list[1].copy()\n",
    "# print(countries_df.columns.tolist())\n",
    "countries_df.columns = ['country_name', 'continent_name',  'road_deaths_per_100k_inhabitants',\n",
    "                        'road_deaths_per_100k_motor_vehicles', 'road_deaths_per_100B_vehicle_kms', 'road_deaths_total',\n",
    "                        'data_source_year']\n",
    "for cn in ['road_deaths_per_100k_inhabitants', 'road_deaths_per_100k_motor_vehicles', 'road_deaths_per_100B_vehicle_kms',\n",
    "           'road_deaths_total', 'data_source_year']:\n",
    "    countries_df[cn] = countries_df[cn].map(lambda x: re.sub(r'[^0-9\\.]+', '', str(x).split('[')[0]))\n",
    "    countries_df[cn] = pd.to_numeric(countries_df[cn], errors='coerce', downcast='float')\n",
    "countries_df.head(9).T"
   ]
  },
  {
   "cell_type": "code",
   "execution_count": 9,
   "metadata": {},
   "outputs": [
    {
     "data": {
      "text/html": [
       "<div>\n",
       "<style scoped>\n",
       "    .dataframe tbody tr th:only-of-type {\n",
       "        vertical-align: middle;\n",
       "    }\n",
       "\n",
       "    .dataframe tbody tr th {\n",
       "        vertical-align: top;\n",
       "    }\n",
       "\n",
       "    .dataframe thead th {\n",
       "        text-align: right;\n",
       "    }\n",
       "</style>\n",
       "<table border=\"1\" class=\"dataframe\">\n",
       "  <thead>\n",
       "    <tr style=\"text-align: right;\">\n",
       "      <th></th>\n",
       "      <th>76</th>\n",
       "    </tr>\n",
       "  </thead>\n",
       "  <tbody>\n",
       "    <tr>\n",
       "      <th>country_name</th>\n",
       "      <td>Iceland</td>\n",
       "    </tr>\n",
       "    <tr>\n",
       "      <th>continent_name</th>\n",
       "      <td>Europe</td>\n",
       "    </tr>\n",
       "    <tr>\n",
       "      <th>road_deaths_per_100k_inhabitants</th>\n",
       "      <td>3.8</td>\n",
       "    </tr>\n",
       "    <tr>\n",
       "      <th>road_deaths_per_100k_motor_vehicles</th>\n",
       "      <td>7.6</td>\n",
       "    </tr>\n",
       "    <tr>\n",
       "      <th>road_deaths_per_100B_vehicle_kms</th>\n",
       "      <td>4.9</td>\n",
       "    </tr>\n",
       "    <tr>\n",
       "      <th>road_deaths_total</th>\n",
       "      <td>8.0</td>\n",
       "    </tr>\n",
       "    <tr>\n",
       "      <th>data_source_year</th>\n",
       "      <td>5.20162</td>\n",
       "    </tr>\n",
       "  </tbody>\n",
       "</table>\n",
       "</div>"
      ],
      "text/plain": [
       "                                          76\n",
       "country_name                         Iceland\n",
       "continent_name                        Europe\n",
       "road_deaths_per_100k_inhabitants         3.8\n",
       "road_deaths_per_100k_motor_vehicles      7.6\n",
       "road_deaths_per_100B_vehicle_kms         4.9\n",
       "road_deaths_total                        8.0\n",
       "data_source_year                     5.20162"
      ]
     },
     "execution_count": 9,
     "metadata": {},
     "output_type": "execute_result"
    }
   ],
   "source": [
    "\n",
    "mask_series = (countries_df.country_name == 'Iceland')\n",
    "countries_df[mask_series].T"
   ]
  },
  {
   "cell_type": "code",
   "execution_count": 10,
   "metadata": {},
   "outputs": [
    {
     "data": {
      "text/html": [
       "<div>\n",
       "<style scoped>\n",
       "    .dataframe tbody tr th:only-of-type {\n",
       "        vertical-align: middle;\n",
       "    }\n",
       "\n",
       "    .dataframe tbody tr th {\n",
       "        vertical-align: top;\n",
       "    }\n",
       "\n",
       "    .dataframe thead th {\n",
       "        text-align: right;\n",
       "    }\n",
       "</style>\n",
       "<table border=\"1\" class=\"dataframe\">\n",
       "  <thead>\n",
       "    <tr style=\"text-align: right;\">\n",
       "      <th></th>\n",
       "      <th>first_item</th>\n",
       "      <th>second_item</th>\n",
       "      <th>max_similarity</th>\n",
       "    </tr>\n",
       "  </thead>\n",
       "  <tbody>\n",
       "    <tr>\n",
       "      <th>12</th>\n",
       "      <td>British Virgin Islands</td>\n",
       "      <td>US Virgin Islands</td>\n",
       "      <td>0.769231</td>\n",
       "    </tr>\n",
       "    <tr>\n",
       "      <th>35</th>\n",
       "      <td>Greenland</td>\n",
       "      <td>Grenada</td>\n",
       "      <td>0.750000</td>\n",
       "    </tr>\n",
       "    <tr>\n",
       "      <th>16</th>\n",
       "      <td>Cayman Islands</td>\n",
       "      <td>Åland Islands</td>\n",
       "      <td>0.740741</td>\n",
       "    </tr>\n",
       "    <tr>\n",
       "      <th>65</th>\n",
       "      <td>Sint Maarten</td>\n",
       "      <td>St. Martin</td>\n",
       "      <td>0.727273</td>\n",
       "    </tr>\n",
       "    <tr>\n",
       "      <th>0</th>\n",
       "      <td>Africa</td>\n",
       "      <td>Americas</td>\n",
       "      <td>0.714286</td>\n",
       "    </tr>\n",
       "    <tr>\n",
       "      <th>39</th>\n",
       "      <td>Guernsey</td>\n",
       "      <td>Jersey</td>\n",
       "      <td>0.714286</td>\n",
       "    </tr>\n",
       "    <tr>\n",
       "      <th>10</th>\n",
       "      <td>Bouvet Island</td>\n",
       "      <td>Faroe Islands</td>\n",
       "      <td>0.692308</td>\n",
       "    </tr>\n",
       "    <tr>\n",
       "      <th>29</th>\n",
       "      <td>Faroe Islands</td>\n",
       "      <td>Åland Islands</td>\n",
       "      <td>0.692308</td>\n",
       "    </tr>\n",
       "    <tr>\n",
       "      <th>1</th>\n",
       "      <td>American Samoa</td>\n",
       "      <td>Americas</td>\n",
       "      <td>0.636364</td>\n",
       "    </tr>\n",
       "    <tr>\n",
       "      <th>30</th>\n",
       "      <td>French Guiana</td>\n",
       "      <td>French Polynesia</td>\n",
       "      <td>0.620690</td>\n",
       "    </tr>\n",
       "    <tr>\n",
       "      <th>87</th>\n",
       "      <td>Western Pacific</td>\n",
       "      <td>Western Sahara</td>\n",
       "      <td>0.620690</td>\n",
       "    </tr>\n",
       "  </tbody>\n",
       "</table>\n",
       "</div>"
      ],
      "text/plain": [
       "                first_item        second_item  max_similarity\n",
       "12  British Virgin Islands  US Virgin Islands        0.769231\n",
       "35               Greenland            Grenada        0.750000\n",
       "16          Cayman Islands      Åland Islands        0.740741\n",
       "65            Sint Maarten         St. Martin        0.727273\n",
       "0                   Africa           Americas        0.714286\n",
       "39                Guernsey             Jersey        0.714286\n",
       "10           Bouvet Island      Faroe Islands        0.692308\n",
       "29           Faroe Islands      Åland Islands        0.692308\n",
       "1           American Samoa           Americas        0.636364\n",
       "30           French Guiana   French Polynesia        0.620690\n",
       "87         Western Pacific     Western Sahara        0.620690"
      ]
     },
     "execution_count": 10,
     "metadata": {},
     "output_type": "execute_result"
    }
   ],
   "source": [
    "\n",
    "# Remove country duplicates and misspellings\n",
    "countries_df.country_name = countries_df.country_name.map(lambda x: ssu.country_name_dict.get(x, x))\n",
    "countries_list = sorted(set(countries_df.country_name).symmetric_difference(set(all_countries_df.country_name)))\n",
    "doubles_df = ssu.check_4_doubles(countries_list)\n",
    "mask_series = (doubles_df.max_similarity > 0.6)\n",
    "columns_list = ['first_item', 'second_item', 'max_similarity']\n",
    "doubles_df[mask_series][columns_list].sort_values('max_similarity', ascending=False)"
   ]
  },
  {
   "cell_type": "code",
   "execution_count": 11,
   "metadata": {},
   "outputs": [
    {
     "data": {
      "text/html": [
       "<div>\n",
       "<style scoped>\n",
       "    .dataframe tbody tr th:only-of-type {\n",
       "        vertical-align: middle;\n",
       "    }\n",
       "\n",
       "    .dataframe tbody tr th {\n",
       "        vertical-align: top;\n",
       "    }\n",
       "\n",
       "    .dataframe thead th {\n",
       "        text-align: right;\n",
       "    }\n",
       "</style>\n",
       "<table border=\"1\" class=\"dataframe\">\n",
       "  <thead>\n",
       "    <tr style=\"text-align: right;\">\n",
       "      <th></th>\n",
       "    </tr>\n",
       "  </thead>\n",
       "  <tbody>\n",
       "    <tr>\n",
       "      <th>country_name</th>\n",
       "    </tr>\n",
       "    <tr>\n",
       "      <th>continent_name</th>\n",
       "    </tr>\n",
       "    <tr>\n",
       "      <th>road_deaths_per_100k_inhabitants</th>\n",
       "    </tr>\n",
       "    <tr>\n",
       "      <th>road_deaths_per_100k_motor_vehicles</th>\n",
       "    </tr>\n",
       "    <tr>\n",
       "      <th>road_deaths_per_100B_vehicle_kms</th>\n",
       "    </tr>\n",
       "    <tr>\n",
       "      <th>road_deaths_total</th>\n",
       "    </tr>\n",
       "    <tr>\n",
       "      <th>data_source_year</th>\n",
       "    </tr>\n",
       "  </tbody>\n",
       "</table>\n",
       "</div>"
      ],
      "text/plain": [
       "Empty DataFrame\n",
       "Columns: []\n",
       "Index: [country_name, continent_name, road_deaths_per_100k_inhabitants, road_deaths_per_100k_motor_vehicles, road_deaths_per_100B_vehicle_kms, road_deaths_total, data_source_year]"
      ]
     },
     "execution_count": 11,
     "metadata": {},
     "output_type": "execute_result"
    }
   ],
   "source": [
    "\n",
    "mask_series = countries_df.duplicated(subset=['country_name'], keep=False)\n",
    "countries_df[mask_series].T"
   ]
  },
  {
   "cell_type": "markdown",
   "metadata": {
    "jp-MarkdownHeadingCollapsed": true,
    "tags": []
   },
   "source": [
    "\n",
    "## Prepare for and Create Choropleth"
   ]
  },
  {
   "cell_type": "code",
   "execution_count": 12,
   "metadata": {},
   "outputs": [
    {
     "name": "stdout",
     "output_type": "stream",
     "text": [
      "Pickling to C:\\Users\\daveb\\OneDrive\\Documents\\GitHub\\StatsByCountry\\saves\\pkl\\us_stats_df.pkl\n",
      "Pickling to C:\\Users\\daveb\\OneDrive\\Documents\\GitHub\\StatsByCountry\\saves\\pkl\\column_description_dict.pkl\n"
     ]
    }
   ],
   "source": [
    "\n",
    "equivalence_column_name = 'Country_Equivalent_Road_Deaths_per_100k_Inhabitants'\n",
    "states_target_column_name = 'fatality_rates_per_100k_population'\n",
    "mask_series = countries_df.country_name.isin(all_countries_df.country_name)\n",
    "ssu.prepare_for_choroplething(countries_df[mask_series], 'road_deaths_per_100k_inhabitants', us_states_df, st_col_name=states_target_column_name,\n",
    "                              st_col_explanation='Road Deaths per 100,000 Population',\n",
    "                              equivalence_column_name=equivalence_column_name, verbose=False)"
   ]
  },
  {
   "cell_type": "code",
   "execution_count": 13,
   "metadata": {},
   "outputs": [
    {
     "name": "stdout",
     "output_type": "stream",
     "text": [
      "C:\\Users\\daveb\\OneDrive\\Documents\\GitHub\\StatsByCountry\\saves\\svg\\US_fatality_rates_per_100k_population_Country_Equivalent_Road_Deaths_per_100k_Inhabitants.svg\n"
     ]
    }
   ],
   "source": [
    "\n",
    "c = ChoroplethUtilities(iso_3166_2_code='us', one_country_df=ssu.us_stats_df, all_countries_df=all_countries_df)\n",
    "c.create_label_line_file()\n",
    "svg_file_path = c.create_country_colored_labeled_map(numeric_column_name=states_target_column_name,\n",
    "                                                     string_column_name=equivalence_column_name,\n",
    "                                                     one_country_df=ssu.us_stats_df)\n",
    "print(os.path.abspath(svg_file_path))"
   ]
  },
  {
   "cell_type": "code",
   "execution_count": null,
   "metadata": {},
   "outputs": [],
   "source": []
  }
 ],
 "metadata": {
  "kernelspec": {
   "display_name": "Python 3 (ipykernel)",
   "language": "python",
   "name": "python3"
  },
  "language_info": {
   "codemirror_mode": {
    "name": "ipython",
    "version": 3
   },
   "file_extension": ".py",
   "mimetype": "text/x-python",
   "name": "python",
   "nbconvert_exporter": "python",
   "pygments_lexer": "ipython3",
   "version": "3.9.7"
  }
 },
 "nbformat": 4,
 "nbformat_minor": 4
}

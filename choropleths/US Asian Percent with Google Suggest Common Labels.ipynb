{
 "cells": [
  {
   "cell_type": "code",
   "execution_count": null,
   "id": "5c797187-5d57-4dc5-beda-e9361bf2eeca",
   "metadata": {},
   "outputs": [],
   "source": []
  },
  {
   "cell_type": "markdown",
   "id": "7d7925ec-e275-4e92-a187-56dbfc38e12d",
   "metadata": {
    "tags": []
   },
   "source": [
    "\n",
    "# Set up the notebook"
   ]
  },
  {
   "cell_type": "code",
   "execution_count": 1,
   "id": "ad2f9eba-1847-4e00-a67c-97ea7535555a",
   "metadata": {},
   "outputs": [
    {
     "name": "stdout",
     "output_type": "stream",
     "text": [
      "Pretty printing has been turned OFF\n"
     ]
    }
   ],
   "source": [
    "\n",
    "%pprint"
   ]
  },
  {
   "cell_type": "code",
   "execution_count": 2,
   "id": "427ea28d-cb4f-4719-8446-dac46270e5df",
   "metadata": {},
   "outputs": [],
   "source": [
    "\n",
    "import sys\n",
    "\n",
    "# Insert at 1, 0 is the script path (or '' in REPL)\n",
    "sys.path.insert(1, '../py')\n",
    "\n",
    "from choropleth_utils import ChoroplethUtilities\n",
    "from stats_scraping_utils import StatsScrapingUtilities\n",
    "from storage import Storage\n",
    "import pandas as pd\n",
    "import re\n",
    "import os\n",
    "import numpy as np\n",
    "\n",
    "s = Storage()\n",
    "ssu = StatsScrapingUtilities(s=s)"
   ]
  },
  {
   "cell_type": "markdown",
   "id": "3c8124a9-c1c2-404e-8703-bd875b4fb7d7",
   "metadata": {
    "tags": []
   },
   "source": [
    "\n",
    "## Prepare for and Create Choropleth"
   ]
  },
  {
   "cell_type": "code",
   "execution_count": 3,
   "id": "b6bc77c0-ee89-457a-8a21-170b346b4a99",
   "metadata": {},
   "outputs": [],
   "source": [
    "\n",
    "# Close the Notepad++ window after you're finished in order to completely run this cell\n",
    "numeric_column_name = 'Asian_Percent'\n",
    "string_column_name = 'Google_Suggest_Common'\n",
    "c = ChoroplethUtilities(iso_3166_2_code='us', one_country_df=ssu.us_stats_df)\n",
    "text_editor_path = r'C:\\Program Files\\Notepad++\\notepad++.exe'\n",
    "if (numeric_column_name in ssu.us_stats_df.columns) and (string_column_name in ssu.us_stats_df.columns):\n",
    "    svg_file_path = os.path.abspath(c.create_country_colored_labeled_map(numeric_column_name=numeric_column_name,\n",
    "                                                                         string_column_name=string_column_name,\n",
    "                                                                         one_country_df=c.one_country_df))\n",
    "    !\"{text_editor_path}\" \"{svg_file_path}\""
   ]
  },
  {
   "cell_type": "code",
   "execution_count": null,
   "id": "f660e96e-4f2e-4384-ac1a-ab05de71aeee",
   "metadata": {},
   "outputs": [],
   "source": []
  }
 ],
 "metadata": {
  "kernelspec": {
   "display_name": "Python 3 (ipykernel)",
   "language": "python",
   "name": "python3"
  },
  "language_info": {
   "codemirror_mode": {
    "name": "ipython",
    "version": 3
   },
   "file_extension": ".py",
   "mimetype": "text/x-python",
   "name": "python",
   "nbconvert_exporter": "python",
   "pygments_lexer": "ipython3",
   "version": "3.9.16"
  }
 },
 "nbformat": 4,
 "nbformat_minor": 5
}

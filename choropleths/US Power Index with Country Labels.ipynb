{
 "cells": [
  {
   "cell_type": "code",
   "execution_count": null,
   "id": "d77e3aa9-39f6-4fda-b8ca-e9c23d9cdcd7",
   "metadata": {},
   "outputs": [],
   "source": []
  },
  {
   "cell_type": "code",
   "execution_count": 1,
   "id": "531bb0f5-2ea6-4ab7-a0ff-48fec2227229",
   "metadata": {
    "tags": []
   },
   "outputs": [],
   "source": [
    "\n",
    "import sys\n",
    "sys.path.insert(1, '../py')\n",
    "from choropleth_utils import ChoroplethUtilities\n",
    "from stats_scraping_utils import StatsScrapingUtilities\n",
    "from storage import Storage\n",
    "import numpy as np\n",
    "import os\n",
    "import re\n",
    "\n",
    "s = Storage()\n",
    "ssu = StatsScrapingUtilities(s=s)"
   ]
  },
  {
   "cell_type": "code",
   "execution_count": 6,
   "id": "d7f9c262-93e2-4ecc-a8b0-ba99dc8ab808",
   "metadata": {},
   "outputs": [
    {
     "data": {
      "text/plain": [
       "['svg_version',\n",
       " 'svg_width',\n",
       " 'svg_height',\n",
       " 'svg_id',\n",
       " 'sodipodi_docname',\n",
       " 'inkscape_inkscape_version',\n",
       " 'svg_pagecolor',\n",
       " 'svg_bordercolor',\n",
       " 'svg_borderopacity',\n",
       " 'inkscape_pageshadow',\n",
       " 'inkscape_pageopacity',\n",
       " 'inkscape_pagecheckerboard',\n",
       " 'svg_showgrid',\n",
       " 'inkscape_zoom',\n",
       " 'inkscape_cx',\n",
       " 'inkscape_cy',\n",
       " 'inkscape_window_width',\n",
       " 'inkscape_window_height',\n",
       " 'inkscape_window_x',\n",
       " 'inkscape_window_y',\n",
       " 'inkscape_window_maximized',\n",
       " 'inkscape_current_layer',\n",
       " 'rdf_about',\n",
       " 'svg_type',\n",
       " 'svg_class',\n",
       " 'outline_d',\n",
       " 'circle_radius',\n",
       " 'circle_y',\n",
       " 'circle_x',\n",
       " 'x',\n",
       " 'y',\n",
       " 'style',\n",
       " '{http://www.inkscape.org/namespaces/inkscape}label',\n",
       " 'dominant-baseline',\n",
       " 'text-anchor',\n",
       " '{http://sodipodi.sourceforge.net/DTD/sodipodi-0.dtd}role',\n",
       " 'text_x',\n",
       " 'text_y',\n",
       " 'centroid_id',\n",
       " 'centroid_x',\n",
       " 'centroid_y',\n",
       " 'country_color',\n",
       " 'country_name',\n",
       " 'label_line_d',\n",
       " 'font_size',\n",
       " 'dy']"
      ]
     },
     "execution_count": 6,
     "metadata": {},
     "output_type": "execute_result"
    }
   ],
   "source": [
    "\n",
    "world_map_df.columns.tolist()"
   ]
  },
  {
   "cell_type": "code",
   "execution_count": 20,
   "id": "c1ef41d8-4fd1-4587-8bdb-e9808e1be15b",
   "metadata": {
    "tags": []
   },
   "outputs": [
    {
     "name": "stdout",
     "output_type": "stream",
     "text": [
      "C:\\Users\\daveb\\OneDrive\\Documents\\GitHub\\StatsByCountry\\saves\\svg\\US_log_pwrindx_score_wikipedia_title.svg\n"
     ]
    }
   ],
   "source": [
    "\n",
    "world_map_df = s.load_object('world_map_df')\n",
    "# df = world_map_df.set_index('country_code', drop=True)\n",
    "us_stats_df = s.load_object('us_stats_df')\n",
    "pwrindx_score_dict = s.load_object('firepower_df').set_index('country_name').pwrindx_score.to_dict()\n",
    "world_map_df['log_pwrindx_score'] = world_map_df.country_name.map(lambda x: 3 + np.log(pwrindx_score_dict.get(x, 1)))\n",
    "country_code_dict = s.load_object('all_countries_df').set_index('country_name').country_code.to_dict()\n",
    "world_map_df['country_code'] = world_map_df.country_name.map(lambda x: country_code_dict.get(x))\n",
    "wikipedia_title_dict = s.load_object('all_countries_df').set_index('country_name').wikipedia_title.to_dict()\n",
    "world_map_df['wikipedia_title'] = world_map_df.country_name.map(lambda x: wikipedia_title_dict.get(x))\n",
    "mask_series = world_map_df.country_name.isnull()\n",
    "world_map_df = world_map_df[~mask_series]\n",
    "numeric_column_name = 'log_pwrindx_score'\n",
    "string_column_name = 'wikipedia_title'\n",
    "one_country_df = world_map_df.set_index('country_name', drop=True).rename(columns={'country_code': 'district_abbreviation'})\n",
    "c = ChoroplethUtilities(iso_3166_2_code='us', one_country_df=us_stats_df, all_countries_df=world_map_df)\n",
    "svg_file_path = c.create_country_colored_labeled_map(numeric_column_name=numeric_column_name,\n",
    "                                                     string_column_name=string_column_name,\n",
    "                                                     one_country_df=one_country_df, cmap='viridis_r')\n",
    "print(os.path.abspath(svg_file_path))"
   ]
  },
  {
   "cell_type": "code",
   "execution_count": 19,
   "id": "3bd87436-3254-4457-b507-bea1ef147dff",
   "metadata": {},
   "outputs": [
    {
     "data": {
      "text/plain": [
       "country_name\n",
       "Sudan           3.291325\n",
       "South Sudan     3.919167\n",
       "Georgia         3.693847\n",
       "Peru            2.706032\n",
       "Burkina Faso    4.552148\n",
       "                  ...   \n",
       "Holy See        3.000000\n",
       "Isle of Man     3.000000\n",
       "Guam            3.000000\n",
       "Singapore       2.530476\n",
       "Tokelau         3.000000\n",
       "Name: log_pwrindx_score, Length: 246, dtype: float64"
      ]
     },
     "execution_count": 19,
     "metadata": {},
     "output_type": "execute_result"
    }
   ],
   "source": [
    "\n",
    "one_country_df.log_pwrindx_score"
   ]
  },
  {
   "cell_type": "code",
   "execution_count": null,
   "id": "e1a8de18-16ce-4d50-8a3d-c965310c50b2",
   "metadata": {},
   "outputs": [],
   "source": []
  }
 ],
 "metadata": {
  "kernelspec": {
   "display_name": "Python 3 (ipykernel)",
   "language": "python",
   "name": "python3"
  },
  "language_info": {
   "codemirror_mode": {
    "name": "ipython",
    "version": 3
   },
   "file_extension": ".py",
   "mimetype": "text/x-python",
   "name": "python",
   "nbconvert_exporter": "python",
   "pygments_lexer": "ipython3",
   "version": "3.9.7"
  }
 },
 "nbformat": 4,
 "nbformat_minor": 5
}

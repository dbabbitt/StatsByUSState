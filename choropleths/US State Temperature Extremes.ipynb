{
 "cells": [
  {
   "cell_type": "code",
   "execution_count": 1,
   "id": "ad2f9eba-1847-4e00-a67c-97ea7535555a",
   "metadata": {},
   "outputs": [
    {
     "name": "stdout",
     "output_type": "stream",
     "text": [
      "Pretty printing has been turned OFF\n"
     ]
    }
   ],
   "source": [
    "\n",
    "%pprint"
   ]
  },
  {
   "cell_type": "code",
   "execution_count": 2,
   "id": "427ea28d-cb4f-4719-8446-dac46270e5df",
   "metadata": {},
   "outputs": [],
   "source": [
    "\n",
    "import sys\n",
    "\n",
    "# Insert at 1, 0 is the script path (or '' in REPL)\n",
    "sys.path.insert(1, '../py')\n",
    "\n",
    "from os import path as osp\n",
    "from StatsByUSState import nu, cu, scu, ssu\n",
    "import pandas as pd\n",
    "import re\n",
    "import os\n",
    "import numpy as np"
   ]
  },
  {
   "cell_type": "code",
   "execution_count": 3,
   "id": "bde87943-fd33-48f1-af0b-a2b2809e4fdb",
   "metadata": {},
   "outputs": [
    {
     "data": {
      "text/plain": [
       "['all_countries_df', 'column_descriptions_df', 'counties_df', 'county_populations_df', 'gdp_us_cities_df', 'gdp_us_states_df', 'income_inequality_us_states_df', 'one_country_df', 'race_homicide_rate_by_state_year_df', 'state_merge_df', 'state_race_df', 'usa_df', 'us_murder_df', 'us_perps_df', 'us_states_df', 'us_stats_df']"
      ]
     },
     "execution_count": 3,
     "metadata": {},
     "output_type": "execute_result"
    }
   ],
   "source": [
    "\n",
    "nu.list_dfs_in_folder()"
   ]
  },
  {
   "cell_type": "code",
   "execution_count": 4,
   "id": "fba83c4d-ebe3-41a5-80da-5f86e6ddc865",
   "metadata": {},
   "outputs": [
    {
     "data": {
      "text/plain": [
       "['scu.get_text_rgba', 'cu.get_greatest_area', 'nu.format_timedelta', 'cu.get_fill_color_rgb', 'nu.open_path_in_notepad', 'nu.ensure_module_installed', 'scu.population_pyramid', 'nu.get_euclidean_distance', 'nu.get_turbulence', 'nu.plot_sequence', 'cu.iso_3166_2_code', 'nu.get_dir_tree', 'nu.plot_inauguration_age', 'scu.make_a_movie', 'nu.download_file', 'cu.create_label_line_file', 'nu.attempt_to_pickle', 'cu.copy_file_name', 'cu.add_docname', 'nu.convert_to_data_frame', 'nu.get_regexed_dataframe', 'cu.clean_up_district_merge_dataframe', 'cu.convert_svg_to_dataframe', 'nu.get_shape', 'nu.decoding_type', 'nu.encoding_type', 'ssu.get_similarity_measure', 'scu.get_fontsize', 'cu.all_countries_df', 'ssu.us_stats_df', 'cu.one_country_df', 'ssu.prepare_for_choroplething', 'cu.create_svg_file_beginning', 'cu.indexize_string', 'nu.show_dupl_fn_defs_search_string', 'nu.show_duplicated_util_fns_search_string', 'cu.trim_d_path', 'cu.label_line_file_path', 'nu.get_function_file_path', 'cu.gradient_file_path', 'cu.copy_file_path', 'cu.svg_width', 'ssu.get_max_rsquared_adj', 'nu.get_inf_nan_mask', 'cu.get_legend_xml', 'cu.create_text_tag_xml', 'cu.get_colorbar_xml', 'nu.get_filename_from_url', 'ssu.driver_get_url', 'nu.plot_histogram', 'cu.color_distance_from', 'scu.ball_and_chain', 'nu.get_style_column', 'nu.get_absolute_position', 'cu.get_column_description', 'cu.width_ratio', 'nu.facebook_aspect_ratio', 'nu.twitter_aspect_ratio', 'cu.height_ratio', 'cu.create_country_colored_labeled_map', 'cu.create_us_google_suggest_labeled_map', 'cu.create_country_labeled_map', 'cu.create_country_colored_map', 'scu.create_colored_labeled_treemap', 'nu.get_page_soup', 'scu.r', 'cu.show_colorbar', 'nu.saves_mp3_folder', 'nu.anaconda_folder', 'nu.data_folder', 'nu.db_folder', 'nu.github_folder', 'nu.cache_folder', 'nu.saves_pickle_folder', 'nu.list_dfs_in_folder', 'nu.bin_folder', 'nu.indices_folder', 'nu.saves_folder', 'nu.graphs_folder', 'nu.data_models_folder', 'nu.scripts_folder', 'nu.saves_text_folder', 'nu.txt_folder', 'nu.saves_wav_folder', 'nu.data_csv_folder', 'nu.saves_csv_folder', 'nu.get_color_cycler', 'ssu.get_driver', 'cu.svg_dir', 'ssu.wait_for', 'cu.get_fill_color', 'nu.decoding_error', 'nu.encoding_error', 'cu.regex_sub_str', 'nu.pip_command_str', 'cu.fill_style_str', 'cu.html_style_str', 'cu.figure_str', 'cu.district_path_str', 'cu.ytick_str', 'cu.l_str', 'cu.legend_label_str', 'cu.axes_str', 'cu.matplotlib_axis_str', 'cu.ts_str', 'cu.gradient_str', 'cu.tick_text_str', 'cu.ocean_blue_hex_str', 'cu.light_grey_hex_str', 'cu.svg_prefix_str', 'nu.show_time_statistics', 'nu.get_statistics', 'cu.hyphenate_words', 'cu.strip_namespaces', 'nu.plot_sequences', 'nu.get_ndistinct_subsequences', 'nu.get_page_tables', 'nu.get_wiki_tables', 'nu.check_4_doubles', 'nu.load_data_frames', 'nu.save_data_frames', 'nu.get_coordinates', 'nu.get_top_level_folder_paths', 'nu.count_ngrams', 'nu.get_regexed_columns', 'nu.modalize_columns', 'nu.get_minority_combinations', 'nu.get_utility_file_functions', 'cu.possibly_raise_exceptions', 'nu.get_column_descriptions', 'nu.conjunctify_nouns', 'nu.check_for_typos', 'nu.plot_line_with_error_bars', 'nu.delete_ipynb_checkpoint_folders', 'nu.convert_strings_to_integers', 'nu.plot_grouped_box_and_whiskers', 'nu.store_objects', 'ssu.get_country_state_equivalents', 'nu.replace_consecutive_elements', 'cu.get_tfidf_lists', 'nu.pickle_exists', 'nu.csv_exists', 'scu.save_fig_as_various', 'nu.load_object', 'ssu.country_to_alpha3_dict', 'cu.text_style_dict', 'ssu.country_name_dict', 'cu.clean_up_district_unique_dict', 'cu.hyphen_dict', 'ssu.us_states_abbreviation_dict', 'ssu.column_description_dict', 'cu.clean_up_district_common_dict', 'cu.settings_dict', 'cu.clean_up_suggestion_list_dict', 'cu.create_district_first_dict', 'ssu.alpha3_to_country_dict', 'nu.get_alphabet', 'nu.get_notebook_functions_set', 'cu.line_height', 'cu.svg_height', 'nu.get_first_year_element', 'nu.get_td_parent', 'nu.get_sequences_by_count', 'nu.first_order_linear_scatterplot', 'cu.label_line_style_list', 'cu.tick_tspan_style_list', 'cu.label_tspan_style_list', 'cu.get_style_list', 'cu.text_style_list', 'cu.tick_text_style_list', 'cu.label_text_style_list', 'cu.get_tspan_list', 'cu.get_google_suggestion_list', 'nu.get_jitter_list', 'nu.split_row_indices_list', 'ssu.oecd_countries_list', 'ssu.derisable_countries_list', 'nu.update_modules_list', 'nu.decoding_types_list', 'nu.encoding_types_list', 'cu.us_states_list', 'cu.svg_attributes_list', 'cu.namedview_attributes_list', 'scu.colormaps_list', 'nu.decoding_errors_list', 'nu.encoding_errors_list', 'nu.get_splits_list', 'scu.plot_treemap_layout', 'scu.draw_text', 'nu.load_csv', 'cu.nonword_regex', 'ssu.obscure_regex', 'cu.svg_regex', 'nu.filepath_regex', 'nu.url_regex', 'cu.fill_style_prefix', 'cu.svg_suffix', 'cu.has_no_limitxx', 'cu.path_to_poly', 'nu.get_notebook_functions_dictionary', 'cu.scrape_suggestion_list_dictionary', 'cu.create_suggestion_list_dictionary', 'nu.get_row_dictionary', 'nu.get_random_subdictionary', 'nu.compute_similarity']"
      ]
     },
     "execution_count": 4,
     "metadata": {},
     "output_type": "execute_result"
    }
   ],
   "source": [
    "\n",
    "nus_list = [f'nu.{fn}' for fn in dir(nu) if not fn.startswith('_')]\n",
    "cus_list = [f'cu.{fn}' for fn in dir(cu) if not fn.startswith('_')]\n",
    "scus_list = [f'scu.{fn}' for fn in dir(scu) if not fn.startswith('_')]\n",
    "ssus_list = [f'ssu.{fn}' for fn in dir(ssu) if not fn.startswith('_')]\n",
    "sorted(nus_list + cus_list + scus_list + ssus_list, key=lambda x: x[::-1])"
   ]
  },
  {
   "cell_type": "code",
   "execution_count": 5,
   "id": "0bd2ffba-aa40-4c7b-9ba3-ad04534a7fce",
   "metadata": {},
   "outputs": [
    {
     "data": {
      "text/plain": [
       "['nu.get_wiki_tables']"
      ]
     },
     "execution_count": 5,
     "metadata": {},
     "output_type": "execute_result"
    }
   ],
   "source": [
    "\n",
    "[fn for fn in sorted(nus_list + cus_list + scus_list + ssus_list, key=lambda x: x[::-1]) if 'wiki' in fn]"
   ]
  },
  {
   "cell_type": "code",
   "execution_count": 6,
   "id": "4345c4ba-cb8d-4445-8deb-a24826776451",
   "metadata": {},
   "outputs": [
    {
     "data": {
      "text/plain": [
       "['cu.all_countries_df', 'ssu.us_stats_df', 'cu.one_country_df']"
      ]
     },
     "execution_count": 6,
     "metadata": {},
     "output_type": "execute_result"
    }
   ],
   "source": [
    "\n",
    "[fn for fn in sorted(nus_list + cus_list + scus_list + ssus_list, key=lambda x: x[::-1]) if fn.endswith('_df')]"
   ]
  },
  {
   "cell_type": "markdown",
   "id": "c2a2632c-df92-4248-8a62-89e43b46fe49",
   "metadata": {
    "tags": []
   },
   "source": [
    "\n",
    "----\n",
    "# US State Temperature Extremes\n"
   ]
  },
  {
   "cell_type": "code",
   "execution_count": 7,
   "id": "4cad4fdc-f969-47ca-b56e-1ca6cee7a582",
   "metadata": {},
   "outputs": [
    {
     "data": {
      "text/html": [
       "<div>\n",
       "<style scoped>\n",
       "    .dataframe tbody tr th:only-of-type {\n",
       "        vertical-align: middle;\n",
       "    }\n",
       "\n",
       "    .dataframe tbody tr th {\n",
       "        vertical-align: top;\n",
       "    }\n",
       "\n",
       "    .dataframe thead th {\n",
       "        text-align: right;\n",
       "    }\n",
       "</style>\n",
       "<table border=\"1\" class=\"dataframe\">\n",
       "  <thead>\n",
       "    <tr style=\"text-align: right;\">\n",
       "      <th>state_name</th>\n",
       "      <th>Arkansas</th>\n",
       "      <th>Rhode Island</th>\n",
       "      <th>Montana</th>\n",
       "      <th>Minnesota</th>\n",
       "      <th>North Dakota</th>\n",
       "      <th>Wyoming</th>\n",
       "      <th>South Carolina</th>\n",
       "      <th>Illinois</th>\n",
       "      <th>District of Columbia</th>\n",
       "      <th>Hawaii</th>\n",
       "      <th>Missouri</th>\n",
       "      <th>Kansas</th>\n",
       "      <th>Wisconsin</th>\n",
       "    </tr>\n",
       "  </thead>\n",
       "  <tbody>\n",
       "    <tr>\n",
       "      <th>record_high</th>\n",
       "      <td>120 °F (48.9 °C)</td>\n",
       "      <td>104 °F (40 °C)</td>\n",
       "      <td>117 °F (47.2 °C)</td>\n",
       "      <td>115 °F (46.1 °C)</td>\n",
       "      <td>121 °F (49.4 °C)</td>\n",
       "      <td>115 °F (46.1 °C)</td>\n",
       "      <td>113 °F (45 °C)</td>\n",
       "      <td>117 °F (47.2 °C)</td>\n",
       "      <td>106 °F (41.1 °C)</td>\n",
       "      <td>100 °F (37.8 °C)</td>\n",
       "      <td>118 °F (47.8 °C)</td>\n",
       "      <td>121 °F (49.4 °C)</td>\n",
       "      <td>114 °F (45.6 °C)</td>\n",
       "    </tr>\n",
       "    <tr>\n",
       "      <th>high_date</th>\n",
       "      <td>August 10, 1936</td>\n",
       "      <td>August 2, 1975</td>\n",
       "      <td>July 5, 1937</td>\n",
       "      <td>July 29, 1917</td>\n",
       "      <td>July 6, 1936</td>\n",
       "      <td>August 8, 1983</td>\n",
       "      <td>June 29, 2012</td>\n",
       "      <td>July 14, 1954</td>\n",
       "      <td>July 20, 1930</td>\n",
       "      <td>April 27, 1931</td>\n",
       "      <td>July 14, 1954</td>\n",
       "      <td>July 24, 1936</td>\n",
       "      <td>July 13, 1936</td>\n",
       "    </tr>\n",
       "    <tr>\n",
       "      <th>high_place</th>\n",
       "      <td>Ozark</td>\n",
       "      <td>Providence</td>\n",
       "      <td>Medicine Lake</td>\n",
       "      <td>Beardsley</td>\n",
       "      <td>Steele</td>\n",
       "      <td>Basin</td>\n",
       "      <td>Columbia</td>\n",
       "      <td>East Saint Louis</td>\n",
       "      <td>Washington</td>\n",
       "      <td>Pahala</td>\n",
       "      <td>Warsaw</td>\n",
       "      <td>Alton</td>\n",
       "      <td>Wisconsin Dells</td>\n",
       "    </tr>\n",
       "    <tr>\n",
       "      <th>record_low</th>\n",
       "      <td>-29 °F (-33.9 °C)</td>\n",
       "      <td>-28 °F (-33.3 °C)</td>\n",
       "      <td>-70 °F (-56.7 °C)</td>\n",
       "      <td>-60 °F (-51.1 °C)</td>\n",
       "      <td>-60 °F (-51.1 °C)</td>\n",
       "      <td>-63 °F (-52.8 °C)</td>\n",
       "      <td>-22 °F (-30 °C)</td>\n",
       "      <td>-38 °F (-38.9 °C)</td>\n",
       "      <td>-15 °F (-26.1 °C)</td>\n",
       "      <td>15 °F (-9.4 °C)</td>\n",
       "      <td>-40 °F (-40 °C)</td>\n",
       "      <td>-40 °F (-40.0 °C)</td>\n",
       "      <td>-55 °F (-48.3 °C)</td>\n",
       "    </tr>\n",
       "    <tr>\n",
       "      <th>low_date</th>\n",
       "      <td>February 13, 1905</td>\n",
       "      <td>January 17, 1942</td>\n",
       "      <td>January 20, 1954</td>\n",
       "      <td>February 2, 1996</td>\n",
       "      <td>February 15, 1936</td>\n",
       "      <td>February 9, 1933</td>\n",
       "      <td>January 21, 1985</td>\n",
       "      <td>January 31, 2019</td>\n",
       "      <td>February 11, 1899</td>\n",
       "      <td>January 5, 1975</td>\n",
       "      <td>February 13, 1905</td>\n",
       "      <td>February 13, 1905</td>\n",
       "      <td>February 4, 1996</td>\n",
       "    </tr>\n",
       "    <tr>\n",
       "      <th>low_place</th>\n",
       "      <td>Gravette</td>\n",
       "      <td>Richmond</td>\n",
       "      <td>Lincoln (Rogers Pass)</td>\n",
       "      <td>Tower</td>\n",
       "      <td>Parshall</td>\n",
       "      <td>Moran</td>\n",
       "      <td>Landrum (Hogback Mountain)</td>\n",
       "      <td>Mount Carroll</td>\n",
       "      <td>Washington</td>\n",
       "      <td>Mauna Kea Observatories</td>\n",
       "      <td>Warsaw</td>\n",
       "      <td>Lebanon</td>\n",
       "      <td>Couderay</td>\n",
       "    </tr>\n",
       "    <tr>\n",
       "      <th>temperature_diff</th>\n",
       "      <td>149 °F (82.8 °C)</td>\n",
       "      <td>132 °F (73.3 °C)</td>\n",
       "      <td>187 °F (103.9 °C)</td>\n",
       "      <td>175 °F (97.2 °C)</td>\n",
       "      <td>181 °F (100.6 °C)</td>\n",
       "      <td>178 °F (98.9 °C)</td>\n",
       "      <td>135 °F (75 °C)</td>\n",
       "      <td>155 °F (86.1 °C)</td>\n",
       "      <td>121 °F (67.2 °C)</td>\n",
       "      <td>83 °F (46 °C)</td>\n",
       "      <td>158 °F (87.8 °C)</td>\n",
       "      <td>161 °F (89.4 °C)</td>\n",
       "      <td>169 °F (93.9 °C)</td>\n",
       "    </tr>\n",
       "    <tr>\n",
       "      <th>record_high_fahrenheit</th>\n",
       "      <td>120.0</td>\n",
       "      <td>104.0</td>\n",
       "      <td>117.0</td>\n",
       "      <td>115.0</td>\n",
       "      <td>121.0</td>\n",
       "      <td>115.0</td>\n",
       "      <td>113.0</td>\n",
       "      <td>117.0</td>\n",
       "      <td>106.0</td>\n",
       "      <td>100.0</td>\n",
       "      <td>118.0</td>\n",
       "      <td>121.0</td>\n",
       "      <td>114.0</td>\n",
       "    </tr>\n",
       "    <tr>\n",
       "      <th>record_high_celsius</th>\n",
       "      <td>48.9</td>\n",
       "      <td>40.0</td>\n",
       "      <td>47.2</td>\n",
       "      <td>46.1</td>\n",
       "      <td>49.4</td>\n",
       "      <td>46.1</td>\n",
       "      <td>45.0</td>\n",
       "      <td>47.2</td>\n",
       "      <td>41.1</td>\n",
       "      <td>37.8</td>\n",
       "      <td>47.8</td>\n",
       "      <td>49.4</td>\n",
       "      <td>45.6</td>\n",
       "    </tr>\n",
       "    <tr>\n",
       "      <th>record_low_fahrenheit</th>\n",
       "      <td>-29.0</td>\n",
       "      <td>-28.0</td>\n",
       "      <td>-70.0</td>\n",
       "      <td>-60.0</td>\n",
       "      <td>-60.0</td>\n",
       "      <td>-63.0</td>\n",
       "      <td>-22.0</td>\n",
       "      <td>-38.0</td>\n",
       "      <td>-15.0</td>\n",
       "      <td>15.0</td>\n",
       "      <td>-40.0</td>\n",
       "      <td>-40.0</td>\n",
       "      <td>-55.0</td>\n",
       "    </tr>\n",
       "    <tr>\n",
       "      <th>record_low_celsius</th>\n",
       "      <td>-33.9</td>\n",
       "      <td>-33.3</td>\n",
       "      <td>-56.7</td>\n",
       "      <td>-51.1</td>\n",
       "      <td>-51.1</td>\n",
       "      <td>-52.8</td>\n",
       "      <td>-30.0</td>\n",
       "      <td>-38.9</td>\n",
       "      <td>-26.1</td>\n",
       "      <td>-9.4</td>\n",
       "      <td>-40.0</td>\n",
       "      <td>-40.0</td>\n",
       "      <td>-48.3</td>\n",
       "    </tr>\n",
       "    <tr>\n",
       "      <th>temperature_diff_fahrenheit</th>\n",
       "      <td>149.0</td>\n",
       "      <td>132.0</td>\n",
       "      <td>187.0</td>\n",
       "      <td>175.0</td>\n",
       "      <td>181.0</td>\n",
       "      <td>178.0</td>\n",
       "      <td>135.0</td>\n",
       "      <td>155.0</td>\n",
       "      <td>121.0</td>\n",
       "      <td>83.0</td>\n",
       "      <td>158.0</td>\n",
       "      <td>161.0</td>\n",
       "      <td>169.0</td>\n",
       "    </tr>\n",
       "    <tr>\n",
       "      <th>temperature_diff_celsius</th>\n",
       "      <td>82.8</td>\n",
       "      <td>73.3</td>\n",
       "      <td>103.9</td>\n",
       "      <td>97.2</td>\n",
       "      <td>100.6</td>\n",
       "      <td>98.9</td>\n",
       "      <td>75.0</td>\n",
       "      <td>86.1</td>\n",
       "      <td>67.2</td>\n",
       "      <td>46.0</td>\n",
       "      <td>87.8</td>\n",
       "      <td>89.4</td>\n",
       "      <td>93.9</td>\n",
       "    </tr>\n",
       "  </tbody>\n",
       "</table>\n",
       "</div>"
      ],
      "text/plain": [
       "state_name                            Arkansas       Rhode Island   \n",
       "record_high                   120 °F (48.9 °C)     104 °F (40 °C)  \\\n",
       "high_date                      August 10, 1936     August 2, 1975   \n",
       "high_place                               Ozark         Providence   \n",
       "record_low                   -29 °F (-33.9 °C)  -28 °F (-33.3 °C)   \n",
       "low_date                     February 13, 1905   January 17, 1942   \n",
       "low_place                             Gravette           Richmond   \n",
       "temperature_diff              149 °F (82.8 °C)   132 °F (73.3 °C)   \n",
       "record_high_fahrenheit                   120.0              104.0   \n",
       "record_high_celsius                       48.9               40.0   \n",
       "record_low_fahrenheit                    -29.0              -28.0   \n",
       "record_low_celsius                       -33.9              -33.3   \n",
       "temperature_diff_fahrenheit              149.0              132.0   \n",
       "temperature_diff_celsius                  82.8               73.3   \n",
       "\n",
       "state_name                                 Montana          Minnesota   \n",
       "record_high                       117 °F (47.2 °C)   115 °F (46.1 °C)  \\\n",
       "high_date                             July 5, 1937      July 29, 1917   \n",
       "high_place                           Medicine Lake          Beardsley   \n",
       "record_low                       -70 °F (-56.7 °C)  -60 °F (-51.1 °C)   \n",
       "low_date                          January 20, 1954   February 2, 1996   \n",
       "low_place                    Lincoln (Rogers Pass)              Tower   \n",
       "temperature_diff                 187 °F (103.9 °C)   175 °F (97.2 °C)   \n",
       "record_high_fahrenheit                       117.0              115.0   \n",
       "record_high_celsius                           47.2               46.1   \n",
       "record_low_fahrenheit                        -70.0              -60.0   \n",
       "record_low_celsius                           -56.7              -51.1   \n",
       "temperature_diff_fahrenheit                  187.0              175.0   \n",
       "temperature_diff_celsius                     103.9               97.2   \n",
       "\n",
       "state_name                        North Dakota            Wyoming   \n",
       "record_high                   121 °F (49.4 °C)   115 °F (46.1 °C)  \\\n",
       "high_date                         July 6, 1936     August 8, 1983   \n",
       "high_place                              Steele              Basin   \n",
       "record_low                   -60 °F (-51.1 °C)  -63 °F (-52.8 °C)   \n",
       "low_date                     February 15, 1936   February 9, 1933   \n",
       "low_place                             Parshall              Moran   \n",
       "temperature_diff             181 °F (100.6 °C)   178 °F (98.9 °C)   \n",
       "record_high_fahrenheit                   121.0              115.0   \n",
       "record_high_celsius                       49.4               46.1   \n",
       "record_low_fahrenheit                    -60.0              -63.0   \n",
       "record_low_celsius                       -51.1              -52.8   \n",
       "temperature_diff_fahrenheit              181.0              178.0   \n",
       "temperature_diff_celsius                 100.6               98.9   \n",
       "\n",
       "state_name                               South Carolina           Illinois   \n",
       "record_high                              113 °F (45 °C)   117 °F (47.2 °C)  \\\n",
       "high_date                                 June 29, 2012      July 14, 1954   \n",
       "high_place                                     Columbia   East Saint Louis   \n",
       "record_low                              -22 °F (-30 °C)  -38 °F (-38.9 °C)   \n",
       "low_date                               January 21, 1985   January 31, 2019   \n",
       "low_place                    Landrum (Hogback Mountain)      Mount Carroll   \n",
       "temperature_diff                         135 °F (75 °C)   155 °F (86.1 °C)   \n",
       "record_high_fahrenheit                            113.0              117.0   \n",
       "record_high_celsius                                45.0               47.2   \n",
       "record_low_fahrenheit                             -22.0              -38.0   \n",
       "record_low_celsius                                -30.0              -38.9   \n",
       "temperature_diff_fahrenheit                       135.0              155.0   \n",
       "temperature_diff_celsius                           75.0               86.1   \n",
       "\n",
       "state_name                  District of Columbia                   Hawaii   \n",
       "record_high                     106 °F (41.1 °C)         100 °F (37.8 °C)  \\\n",
       "high_date                          July 20, 1930           April 27, 1931   \n",
       "high_place                            Washington                   Pahala   \n",
       "record_low                     -15 °F (-26.1 °C)          15 °F (-9.4 °C)   \n",
       "low_date                       February 11, 1899          January 5, 1975   \n",
       "low_place                             Washington  Mauna Kea Observatories   \n",
       "temperature_diff                121 °F (67.2 °C)            83 °F (46 °C)   \n",
       "record_high_fahrenheit                     106.0                    100.0   \n",
       "record_high_celsius                         41.1                     37.8   \n",
       "record_low_fahrenheit                      -15.0                     15.0   \n",
       "record_low_celsius                         -26.1                     -9.4   \n",
       "temperature_diff_fahrenheit                121.0                     83.0   \n",
       "temperature_diff_celsius                    67.2                     46.0   \n",
       "\n",
       "state_name                            Missouri             Kansas   \n",
       "record_high                   118 °F (47.8 °C)   121 °F (49.4 °C)  \\\n",
       "high_date                        July 14, 1954      July 24, 1936   \n",
       "high_place                              Warsaw              Alton   \n",
       "record_low                     -40 °F (-40 °C)  -40 °F (-40.0 °C)   \n",
       "low_date                     February 13, 1905  February 13, 1905   \n",
       "low_place                               Warsaw            Lebanon   \n",
       "temperature_diff              158 °F (87.8 °C)   161 °F (89.4 °C)   \n",
       "record_high_fahrenheit                   118.0              121.0   \n",
       "record_high_celsius                       47.8               49.4   \n",
       "record_low_fahrenheit                    -40.0              -40.0   \n",
       "record_low_celsius                       -40.0              -40.0   \n",
       "temperature_diff_fahrenheit              158.0              161.0   \n",
       "temperature_diff_celsius                  87.8               89.4   \n",
       "\n",
       "state_name                           Wisconsin  \n",
       "record_high                   114 °F (45.6 °C)  \n",
       "high_date                        July 13, 1936  \n",
       "high_place                     Wisconsin Dells  \n",
       "record_low                   -55 °F (-48.3 °C)  \n",
       "low_date                      February 4, 1996  \n",
       "low_place                             Couderay  \n",
       "temperature_diff              169 °F (93.9 °C)  \n",
       "record_high_fahrenheit                   114.0  \n",
       "record_high_celsius                       45.6  \n",
       "record_low_fahrenheit                    -55.0  \n",
       "record_low_celsius                       -48.3  \n",
       "temperature_diff_fahrenheit              169.0  \n",
       "temperature_diff_celsius                  93.9  "
      ]
     },
     "execution_count": 7,
     "metadata": {},
     "output_type": "execute_result"
    }
   ],
   "source": [
    "\n",
    "if nu.pickle_exists('extreme_temperatures_states_df'): extreme_temperatures_states_df = nu.load_object('extreme_temperatures_states_df')\n",
    "else:\n",
    "    tables_url = 'https://en.wikipedia.org/wiki/U.S._state_and_territory_temperature_extremes'\n",
    "    page_tables_list = nu.get_wiki_tables(tables_url, verbose=False)\n",
    "    extreme_temperatures_states_df = page_tables_list[0].copy().applymap(lambda x: str(x).split('[')[0].strip().replace('−', '-'))\n",
    "    # print(extreme_temperatures_states_df.columns.tolist())\n",
    "    extreme_temperatures_states_df.columns = ['state_name', 'record_high', 'high_date', 'high_place', 'record_low', 'low_date', 'low_place', 'temperature_diff']\n",
    "    for cn in ['record_high', 'record_low', 'temperature_diff']:\n",
    "        extreme_temperatures_states_df[f'{cn}_fahrenheit'] = extreme_temperatures_states_df[cn].map(lambda x: float(re.split(r'([\\d.-]+)', str(x), 0)[1]))\n",
    "        extreme_temperatures_states_df[f'{cn}_celsius'] = extreme_temperatures_states_df[cn].map(lambda x: float(re.split(r'([\\d.-]+)', str(x), 0)[3]))\n",
    "    extreme_temperatures_states_df = extreme_temperatures_states_df.set_index('state_name')\n",
    "extreme_temperatures_states_df.sample(13).T"
   ]
  },
  {
   "cell_type": "code",
   "execution_count": 8,
   "id": "cee3eb03-86b5-4f85-beca-b66ea8f58db1",
   "metadata": {},
   "outputs": [
    {
     "name": "stdout",
     "output_type": "stream",
     "text": [
      "['American Samoa', 'Guam', 'Northern Mariana Islands', 'Puerto Rico', 'Virgin Islands (U.S.)']\n"
     ]
    }
   ],
   "source": [
    "\n",
    "# Remove US states duplicates and misspellings\n",
    "states_list = sorted(set(extreme_temperatures_states_df.index).symmetric_difference(set(ssu.us_stats_df.index)))\n",
    "print(states_list)"
   ]
  },
  {
   "cell_type": "code",
   "execution_count": 9,
   "id": "ba2340b5-90dd-42c2-9289-afe9b77be4a0",
   "metadata": {},
   "outputs": [
    {
     "data": {
      "text/html": [
       "<div>\n",
       "<style scoped>\n",
       "    .dataframe tbody tr th:only-of-type {\n",
       "        vertical-align: middle;\n",
       "    }\n",
       "\n",
       "    .dataframe tbody tr th {\n",
       "        vertical-align: top;\n",
       "    }\n",
       "\n",
       "    .dataframe thead th {\n",
       "        text-align: right;\n",
       "    }\n",
       "</style>\n",
       "<table border=\"1\" class=\"dataframe\">\n",
       "  <thead>\n",
       "    <tr style=\"text-align: right;\">\n",
       "      <th></th>\n",
       "      <th>first_item</th>\n",
       "      <th>second_item</th>\n",
       "      <th>max_similarity</th>\n",
       "    </tr>\n",
       "  </thead>\n",
       "  <tbody>\n",
       "  </tbody>\n",
       "</table>\n",
       "</div>"
      ],
      "text/plain": [
       "Empty DataFrame\n",
       "Columns: [first_item, second_item, max_similarity]\n",
       "Index: []"
      ]
     },
     "execution_count": 9,
     "metadata": {},
     "output_type": "execute_result"
    }
   ],
   "source": [
    "\n",
    "doubles_df = nu.check_4_doubles(states_list)\n",
    "mask_series = (doubles_df.max_similarity > 0.6)\n",
    "columns_list = ['first_item', 'second_item', 'max_similarity']\n",
    "doubles_df[mask_series][columns_list].sort_values('max_similarity', ascending=False)"
   ]
  },
  {
   "cell_type": "code",
   "execution_count": 10,
   "id": "d50537da-eea9-48a1-934a-a69946cd9951",
   "metadata": {},
   "outputs": [
    {
     "name": "stdout",
     "output_type": "stream",
     "text": [
      "Pickling to C:\\Users\\daveb\\OneDrive\\Documents\\GitHub\\StatsByUSState\\saves\\pkl\\one_country_df.pkl\n"
     ]
    }
   ],
   "source": [
    "\n",
    "if not set(cu.one_country_df.columns).intersection(set(extreme_temperatures_states_df.columns)):\n",
    "    cu.one_country_df = cu.one_country_df.merge(extreme_temperatures_states_df, left_index=True, right_index=True)\n",
    "    nu.store_objects(one_country_df=cu.one_country_df)"
   ]
  },
  {
   "cell_type": "markdown",
   "id": "3c8124a9-c1c2-404e-8703-bd875b4fb7d7",
   "metadata": {
    "tags": []
   },
   "source": [
    "\n",
    "## Prepare for and Create Choropleths"
   ]
  },
  {
   "cell_type": "code",
   "execution_count": 14,
   "id": "98688731-188c-4255-be03-f7616c9531ed",
   "metadata": {},
   "outputs": [
    {
     "name": "stdout",
     "output_type": "stream",
     "text": [
      "C:\\Users\\daveb\\OneDrive\\Documents\\GitHub\\StatsByUSState\\saves\\svg\\US_temperature_diff_celsius_district_abbreviation.svg\n",
      "0\n"
     ]
    }
   ],
   "source": [
    "\n",
    "# Close the Notepad++ window after you're finished in order to completely run this cell\n",
    "import subprocess\n",
    "\n",
    "numeric_column_name = 'temperature_diff_celsius'\n",
    "string_column_name = 'district_abbreviation'\n",
    "text_editor_path = r'C:\\Program Files\\Notepad++\\notepad++.exe'\n",
    "if (numeric_column_name in cu.one_country_df.columns) and (string_column_name in cu.one_country_df.columns):\n",
    "    svg_file_path = os.path.abspath(cu.create_country_colored_labeled_map(\n",
    "        numeric_column_name,\n",
    "        string_column_name=string_column_name,\n",
    "        one_country_df=cu.one_country_df,\n",
    "        cmap='viridis',\n",
    "    ))\n",
    "    print(svg_file_path)\n",
    "    print(subprocess.call([text_editor_path, svg_file_path]))"
   ]
  },
  {
   "cell_type": "code",
   "execution_count": 15,
   "id": "7a510e22-db9a-4ac1-9f10-be616e126d2e",
   "metadata": {},
   "outputs": [
    {
     "name": "stdout",
     "output_type": "stream",
     "text": [
      "C:\\Users\\daveb\\OneDrive\\Documents\\GitHub\\StatsByUSState\\saves\\png\\US_temperature_diff_celsius_district_abbreviation.png\n"
     ]
    },
    {
     "data": {
      "text/plain": [
       "0"
      ]
     },
     "execution_count": 15,
     "metadata": {},
     "output_type": "execute_result"
    }
   ],
   "source": [
    "\n",
    "inkscape_path = r'C:\\Program Files\\Inkscape\\bin\\inkscape.exe'\n",
    "png_file_path = svg_file_path.replace('svg', 'png')\n",
    "os.makedirs(osp.dirname(png_file_path), exist_ok=True)\n",
    "print(png_file_path)\n",
    "subprocess.call([inkscape_path, svg_file_path, f'--export-filename={png_file_path}'])"
   ]
  },
  {
   "cell_type": "code",
   "execution_count": 21,
   "id": "15db3c26-24d4-4107-ae83-e40ca81429d3",
   "metadata": {},
   "outputs": [
    {
     "data": {
      "text/html": [
       "<img src=\"../saves/png/US_temperature_diff_celsius_district_abbreviation.png\" style=\"width:50%\"/>"
      ],
      "text/plain": [
       "<IPython.core.display.HTML object>"
      ]
     },
     "execution_count": 21,
     "metadata": {},
     "output_type": "execute_result"
    }
   ],
   "source": [
    "\n",
    "from IPython.display import HTML\n",
    "\n",
    "common_prefix = osp.commonprefix([png_file_path, os.getcwd()])\n",
    "relative_path = osp.join(*png_file_path.split(common_prefix)[1:])\n",
    "HTML('<img src=\"../' + relative_path.replace(os.sep, '/') + '\" style=\"width:50%\"/>')"
   ]
  },
  {
   "cell_type": "code",
   "execution_count": null,
   "id": "ddd50cd1-9ebd-491e-8b38-1463afa9d3ca",
   "metadata": {},
   "outputs": [],
   "source": []
  }
 ],
 "metadata": {
  "kernelspec": {
   "display_name": "Python 3 (ipykernel)",
   "language": "python",
   "name": "python3"
  },
  "language_info": {
   "codemirror_mode": {
    "name": "ipython",
    "version": 3
   },
   "file_extension": ".py",
   "mimetype": "text/x-python",
   "name": "python",
   "nbconvert_exporter": "python",
   "pygments_lexer": "ipython3",
   "version": "3.9.16"
  }
 },
 "nbformat": 4,
 "nbformat_minor": 5
}

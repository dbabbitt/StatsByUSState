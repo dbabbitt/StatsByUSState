{
 "cells": [
  {
   "cell_type": "code",
   "execution_count": 1,
   "id": "ad2f9eba-1847-4e00-a67c-97ea7535555a",
   "metadata": {},
   "outputs": [
    {
     "name": "stdout",
     "output_type": "stream",
     "text": [
      "Pretty printing has been turned OFF\n"
     ]
    }
   ],
   "source": [
    "\n",
    "%pprint\n",
    "import sys\n",
    "sys.path.insert(1, '../py')"
   ]
  },
  {
   "cell_type": "code",
   "execution_count": 2,
   "id": "427ea28d-cb4f-4719-8446-dac46270e5df",
   "metadata": {},
   "outputs": [],
   "source": [
    "\n",
    "from StatsByUSState import nu, cu, scu, ssu\n",
    "import re"
   ]
  },
  {
   "cell_type": "code",
   "execution_count": 3,
   "id": "bde87943-fd33-48f1-af0b-a2b2809e4fdb",
   "metadata": {},
   "outputs": [
    {
     "data": {
      "text/plain": [
       "['all_countries_df', 'column_descriptions_df', 'counties_df', 'county_populations_df', 'gdp_us_cities_df', 'gdp_us_states_df', 'income_inequality_us_states_df', 'one_country_df', 'race_homicide_rate_by_state_year_df', 'state_merge_df', 'state_race_df', 'usa_df', 'us_murder_df', 'us_perps_df', 'us_states_df', 'us_stats_df']"
      ]
     },
     "execution_count": 3,
     "metadata": {},
     "output_type": "execute_result"
    }
   ],
   "source": [
    "\n",
    "nu.list_dfs_in_folder()"
   ]
  },
  {
   "cell_type": "code",
   "execution_count": 4,
   "id": "fba83c4d-ebe3-41a5-80da-5f86e6ddc865",
   "metadata": {},
   "outputs": [],
   "source": [
    "\n",
    "nus_list = [f'nu.{fn}' for fn in dir(nu) if not fn.startswith('_')]\n",
    "cus_list = [f'cu.{fn}' for fn in dir(cu) if not fn.startswith('_')]\n",
    "scus_list = [f'scu.{fn}' for fn in dir(scu) if not fn.startswith('_')]\n",
    "ssus_list = [f'ssu.{fn}' for fn in dir(ssu) if not fn.startswith('_')]\n",
    "# sorted(nus_list + cus_list + scus_list + ssus_list, key=lambda x: x[::-1])"
   ]
  },
  {
   "cell_type": "code",
   "execution_count": 5,
   "id": "0bd2ffba-aa40-4c7b-9ba3-ad04534a7fce",
   "metadata": {},
   "outputs": [
    {
     "data": {
      "text/plain": [
       "['nu.get_wiki_tables']"
      ]
     },
     "execution_count": 5,
     "metadata": {},
     "output_type": "execute_result"
    }
   ],
   "source": [
    "\n",
    "[fn for fn in sorted(nus_list + cus_list + scus_list + ssus_list, key=lambda x: x[::-1]) if 'wiki' in fn]"
   ]
  },
  {
   "cell_type": "code",
   "execution_count": 6,
   "id": "4345c4ba-cb8d-4445-8deb-a24826776451",
   "metadata": {},
   "outputs": [
    {
     "data": {
      "text/plain": [
       "['cu.all_countries_df', 'ssu.us_stats_df', 'cu.one_country_df']"
      ]
     },
     "execution_count": 6,
     "metadata": {},
     "output_type": "execute_result"
    }
   ],
   "source": [
    "\n",
    "[fn for fn in sorted(nus_list + cus_list + scus_list + ssus_list, key=lambda x: x[::-1]) if fn.endswith('_df')]"
   ]
  },
  {
   "cell_type": "markdown",
   "id": "c2a2632c-df92-4248-8a62-89e43b46fe49",
   "metadata": {
    "tags": []
   },
   "source": [
    "\n",
    "----\n",
    "# US State Temperature Extremes\n"
   ]
  },
  {
   "cell_type": "code",
   "execution_count": 8,
   "id": "4cad4fdc-f969-47ca-b56e-1ca6cee7a582",
   "metadata": {},
   "outputs": [
    {
     "name": "stdout",
     "output_type": "stream",
     "text": [
      "Pickling to C:\\Users\\daveb\\OneDrive\\Documents\\GitHub\\StatsByUSState\\saves\\pkl\\extreme_temperatures_states_df.pkl\n"
     ]
    },
    {
     "data": {
      "text/html": [
       "<div>\n",
       "<style scoped>\n",
       "    .dataframe tbody tr th:only-of-type {\n",
       "        vertical-align: middle;\n",
       "    }\n",
       "\n",
       "    .dataframe tbody tr th {\n",
       "        vertical-align: top;\n",
       "    }\n",
       "\n",
       "    .dataframe thead th {\n",
       "        text-align: right;\n",
       "    }\n",
       "</style>\n",
       "<table border=\"1\" class=\"dataframe\">\n",
       "  <thead>\n",
       "    <tr style=\"text-align: right;\">\n",
       "      <th>state_name</th>\n",
       "      <th>American Samoa</th>\n",
       "      <th>Idaho</th>\n",
       "      <th>Nevada</th>\n",
       "      <th>Missouri</th>\n",
       "      <th>New York</th>\n",
       "      <th>Rhode Island</th>\n",
       "      <th>Guam</th>\n",
       "      <th>Alabama</th>\n",
       "      <th>Pennsylvania</th>\n",
       "      <th>Kansas</th>\n",
       "      <th>Utah</th>\n",
       "      <th>Virgin Islands (U.S.)</th>\n",
       "      <th>Wyoming</th>\n",
       "    </tr>\n",
       "  </thead>\n",
       "  <tbody>\n",
       "    <tr>\n",
       "      <th>record_high</th>\n",
       "      <td>99 °F (37.2 °C)</td>\n",
       "      <td>118 °F (47.8 °C)</td>\n",
       "      <td>125 °F (51.7 °C)</td>\n",
       "      <td>118 °F (47.8 °C)</td>\n",
       "      <td>108 °F (42.2 °C)</td>\n",
       "      <td>104 °F (40 °C)</td>\n",
       "      <td>100 °F (37.8 °C)</td>\n",
       "      <td>112 °F (44.4 °C)</td>\n",
       "      <td>111 °F (43.9 °C)</td>\n",
       "      <td>121 °F (49.4 °C)</td>\n",
       "      <td>118 °F (47.8 °C)</td>\n",
       "      <td>99 °F (37.2 °C)</td>\n",
       "      <td>115 °F (46.1 °C)</td>\n",
       "    </tr>\n",
       "    <tr>\n",
       "      <th>high_date</th>\n",
       "      <td>April 27, 1972</td>\n",
       "      <td>July 28, 1934</td>\n",
       "      <td>June 29, 1994</td>\n",
       "      <td>July 14, 1954</td>\n",
       "      <td>July 22, 1926</td>\n",
       "      <td>August 2, 1975</td>\n",
       "      <td>September 10, 1945</td>\n",
       "      <td>September 6, 1925</td>\n",
       "      <td>July 10, 1936</td>\n",
       "      <td>July 24, 1936</td>\n",
       "      <td>July 4, 2007</td>\n",
       "      <td>June 23, 1996</td>\n",
       "      <td>August 8, 1983</td>\n",
       "    </tr>\n",
       "    <tr>\n",
       "      <th>high_place</th>\n",
       "      <td>Malaeloa/Aitulagi</td>\n",
       "      <td>Orofino</td>\n",
       "      <td>Laughlin</td>\n",
       "      <td>Warsaw</td>\n",
       "      <td>Troy</td>\n",
       "      <td>Providence</td>\n",
       "      <td>Sånta Rita-Sumai</td>\n",
       "      <td>Centreville</td>\n",
       "      <td>Phoenixville</td>\n",
       "      <td>Alton</td>\n",
       "      <td>St. George</td>\n",
       "      <td>Charlotte Amalie West (Cyril E. King Airport)</td>\n",
       "      <td>Basin</td>\n",
       "    </tr>\n",
       "    <tr>\n",
       "      <th>record_low</th>\n",
       "      <td>53 °F (11.7 °C)</td>\n",
       "      <td>-60 °F (-51.1 °C)</td>\n",
       "      <td>-50 °F (-45.6 °C)</td>\n",
       "      <td>-40 °F (-40 °C)</td>\n",
       "      <td>-52 °F (-46.7 °C)</td>\n",
       "      <td>-28 °F (-33.3 °C)</td>\n",
       "      <td>56 °F (13.3 °C)</td>\n",
       "      <td>-27 °F (-32.8 °C)</td>\n",
       "      <td>-42 °F (-41.1 °C)</td>\n",
       "      <td>-40 °F (-40.0 °C)</td>\n",
       "      <td>-69 °F (-56.1 °C)</td>\n",
       "      <td>51 °F (10.6 °C)</td>\n",
       "      <td>-63 °F (-52.8 °C)</td>\n",
       "    </tr>\n",
       "    <tr>\n",
       "      <th>low_date</th>\n",
       "      <td>March 28, 1962</td>\n",
       "      <td>January 18, 1943</td>\n",
       "      <td>January 8, 1937</td>\n",
       "      <td>February 13, 1905</td>\n",
       "      <td>February 18, 1979</td>\n",
       "      <td>January 17, 1942</td>\n",
       "      <td>May 31, 1987</td>\n",
       "      <td>January 30, 1966</td>\n",
       "      <td>January 5, 1904</td>\n",
       "      <td>February 13, 1905</td>\n",
       "      <td>February 1, 1985</td>\n",
       "      <td>January 31, 1954</td>\n",
       "      <td>February 9, 1933</td>\n",
       "    </tr>\n",
       "    <tr>\n",
       "      <th>low_place</th>\n",
       "      <td>Malaeloa/Aitulagi</td>\n",
       "      <td>Island Park</td>\n",
       "      <td>San Jacinto</td>\n",
       "      <td>Warsaw</td>\n",
       "      <td>Old Forge</td>\n",
       "      <td>Richmond</td>\n",
       "      <td>Inalåhan</td>\n",
       "      <td>New Market</td>\n",
       "      <td>Smethport</td>\n",
       "      <td>Lebanon</td>\n",
       "      <td>Peter Sinks</td>\n",
       "      <td>Anna's Hope (Saint Croix)</td>\n",
       "      <td>Moran</td>\n",
       "    </tr>\n",
       "    <tr>\n",
       "      <th>temperature_diff</th>\n",
       "      <td>46 °F (25.6 °C)</td>\n",
       "      <td>178 °F (98.9 °C)</td>\n",
       "      <td>175 °F (97.2 °C)</td>\n",
       "      <td>158 °F (87.8 °C)</td>\n",
       "      <td>160 °F (88.9 °C)</td>\n",
       "      <td>132 °F (73.3 °C)</td>\n",
       "      <td>44 °F (24.4 °C)</td>\n",
       "      <td>139 °F (77.2 °C)</td>\n",
       "      <td>153 °F (85 °C)</td>\n",
       "      <td>161 °F (89.4 °C)</td>\n",
       "      <td>187 °F (103.9 °C)</td>\n",
       "      <td>48 °F (26.7 °C)</td>\n",
       "      <td>178 °F (98.9 °C)</td>\n",
       "    </tr>\n",
       "    <tr>\n",
       "      <th>record_high_fahrenheit</th>\n",
       "      <td>99.0</td>\n",
       "      <td>118.0</td>\n",
       "      <td>125.0</td>\n",
       "      <td>118.0</td>\n",
       "      <td>108.0</td>\n",
       "      <td>104.0</td>\n",
       "      <td>100.0</td>\n",
       "      <td>112.0</td>\n",
       "      <td>111.0</td>\n",
       "      <td>121.0</td>\n",
       "      <td>118.0</td>\n",
       "      <td>99.0</td>\n",
       "      <td>115.0</td>\n",
       "    </tr>\n",
       "    <tr>\n",
       "      <th>record_high_celsius</th>\n",
       "      <td>37.2</td>\n",
       "      <td>47.8</td>\n",
       "      <td>51.7</td>\n",
       "      <td>47.8</td>\n",
       "      <td>42.2</td>\n",
       "      <td>40.0</td>\n",
       "      <td>37.8</td>\n",
       "      <td>44.4</td>\n",
       "      <td>43.9</td>\n",
       "      <td>49.4</td>\n",
       "      <td>47.8</td>\n",
       "      <td>37.2</td>\n",
       "      <td>46.1</td>\n",
       "    </tr>\n",
       "    <tr>\n",
       "      <th>record_low_fahrenheit</th>\n",
       "      <td>53.0</td>\n",
       "      <td>-60.0</td>\n",
       "      <td>-50.0</td>\n",
       "      <td>-40.0</td>\n",
       "      <td>-52.0</td>\n",
       "      <td>-28.0</td>\n",
       "      <td>56.0</td>\n",
       "      <td>-27.0</td>\n",
       "      <td>-42.0</td>\n",
       "      <td>-40.0</td>\n",
       "      <td>-69.0</td>\n",
       "      <td>51.0</td>\n",
       "      <td>-63.0</td>\n",
       "    </tr>\n",
       "    <tr>\n",
       "      <th>record_low_celsius</th>\n",
       "      <td>11.7</td>\n",
       "      <td>-51.1</td>\n",
       "      <td>-45.6</td>\n",
       "      <td>-40.0</td>\n",
       "      <td>-46.7</td>\n",
       "      <td>-33.3</td>\n",
       "      <td>13.3</td>\n",
       "      <td>-32.8</td>\n",
       "      <td>-41.1</td>\n",
       "      <td>-40.0</td>\n",
       "      <td>-56.1</td>\n",
       "      <td>10.6</td>\n",
       "      <td>-52.8</td>\n",
       "    </tr>\n",
       "    <tr>\n",
       "      <th>temperature_diff_fahrenheit</th>\n",
       "      <td>46.0</td>\n",
       "      <td>178.0</td>\n",
       "      <td>175.0</td>\n",
       "      <td>158.0</td>\n",
       "      <td>160.0</td>\n",
       "      <td>132.0</td>\n",
       "      <td>44.0</td>\n",
       "      <td>139.0</td>\n",
       "      <td>153.0</td>\n",
       "      <td>161.0</td>\n",
       "      <td>187.0</td>\n",
       "      <td>48.0</td>\n",
       "      <td>178.0</td>\n",
       "    </tr>\n",
       "    <tr>\n",
       "      <th>temperature_diff_celsius</th>\n",
       "      <td>25.6</td>\n",
       "      <td>98.9</td>\n",
       "      <td>97.2</td>\n",
       "      <td>87.8</td>\n",
       "      <td>88.9</td>\n",
       "      <td>73.3</td>\n",
       "      <td>24.4</td>\n",
       "      <td>77.2</td>\n",
       "      <td>85.0</td>\n",
       "      <td>89.4</td>\n",
       "      <td>103.9</td>\n",
       "      <td>26.7</td>\n",
       "      <td>98.9</td>\n",
       "    </tr>\n",
       "  </tbody>\n",
       "</table>\n",
       "</div>"
      ],
      "text/plain": [
       "state_name                      American Samoa              Idaho   \n",
       "record_high                    99 °F (37.2 °C)   118 °F (47.8 °C)  \\\n",
       "high_date                       April 27, 1972      July 28, 1934   \n",
       "high_place                   Malaeloa/Aitulagi            Orofino   \n",
       "record_low                     53 °F (11.7 °C)  -60 °F (-51.1 °C)   \n",
       "low_date                        March 28, 1962   January 18, 1943   \n",
       "low_place                    Malaeloa/Aitulagi        Island Park   \n",
       "temperature_diff               46 °F (25.6 °C)   178 °F (98.9 °C)   \n",
       "record_high_fahrenheit                    99.0              118.0   \n",
       "record_high_celsius                       37.2               47.8   \n",
       "record_low_fahrenheit                     53.0              -60.0   \n",
       "record_low_celsius                        11.7              -51.1   \n",
       "temperature_diff_fahrenheit               46.0              178.0   \n",
       "temperature_diff_celsius                  25.6               98.9   \n",
       "\n",
       "state_name                              Nevada           Missouri   \n",
       "record_high                   125 °F (51.7 °C)   118 °F (47.8 °C)  \\\n",
       "high_date                        June 29, 1994      July 14, 1954   \n",
       "high_place                            Laughlin             Warsaw   \n",
       "record_low                   -50 °F (-45.6 °C)    -40 °F (-40 °C)   \n",
       "low_date                       January 8, 1937  February 13, 1905   \n",
       "low_place                          San Jacinto             Warsaw   \n",
       "temperature_diff              175 °F (97.2 °C)   158 °F (87.8 °C)   \n",
       "record_high_fahrenheit                   125.0              118.0   \n",
       "record_high_celsius                       51.7               47.8   \n",
       "record_low_fahrenheit                    -50.0              -40.0   \n",
       "record_low_celsius                       -45.6              -40.0   \n",
       "temperature_diff_fahrenheit              175.0              158.0   \n",
       "temperature_diff_celsius                  97.2               87.8   \n",
       "\n",
       "state_name                            New York       Rhode Island   \n",
       "record_high                   108 °F (42.2 °C)     104 °F (40 °C)  \\\n",
       "high_date                        July 22, 1926     August 2, 1975   \n",
       "high_place                                Troy         Providence   \n",
       "record_low                   -52 °F (-46.7 °C)  -28 °F (-33.3 °C)   \n",
       "low_date                     February 18, 1979   January 17, 1942   \n",
       "low_place                            Old Forge           Richmond   \n",
       "temperature_diff              160 °F (88.9 °C)   132 °F (73.3 °C)   \n",
       "record_high_fahrenheit                   108.0              104.0   \n",
       "record_high_celsius                       42.2               40.0   \n",
       "record_low_fahrenheit                    -52.0              -28.0   \n",
       "record_low_celsius                       -46.7              -33.3   \n",
       "temperature_diff_fahrenheit              160.0              132.0   \n",
       "temperature_diff_celsius                  88.9               73.3   \n",
       "\n",
       "state_name                                 Guam            Alabama   \n",
       "record_high                    100 °F (37.8 °C)   112 °F (44.4 °C)  \\\n",
       "high_date                    September 10, 1945  September 6, 1925   \n",
       "high_place                     Sånta Rita-Sumai        Centreville   \n",
       "record_low                      56 °F (13.3 °C)  -27 °F (-32.8 °C)   \n",
       "low_date                           May 31, 1987   January 30, 1966   \n",
       "low_place                              Inalåhan         New Market   \n",
       "temperature_diff                44 °F (24.4 °C)   139 °F (77.2 °C)   \n",
       "record_high_fahrenheit                    100.0              112.0   \n",
       "record_high_celsius                        37.8               44.4   \n",
       "record_low_fahrenheit                      56.0              -27.0   \n",
       "record_low_celsius                         13.3              -32.8   \n",
       "temperature_diff_fahrenheit                44.0              139.0   \n",
       "temperature_diff_celsius                   24.4               77.2   \n",
       "\n",
       "state_name                        Pennsylvania             Kansas   \n",
       "record_high                   111 °F (43.9 °C)   121 °F (49.4 °C)  \\\n",
       "high_date                        July 10, 1936      July 24, 1936   \n",
       "high_place                        Phoenixville              Alton   \n",
       "record_low                   -42 °F (-41.1 °C)  -40 °F (-40.0 °C)   \n",
       "low_date                       January 5, 1904  February 13, 1905   \n",
       "low_place                            Smethport            Lebanon   \n",
       "temperature_diff                153 °F (85 °C)   161 °F (89.4 °C)   \n",
       "record_high_fahrenheit                   111.0              121.0   \n",
       "record_high_celsius                       43.9               49.4   \n",
       "record_low_fahrenheit                    -42.0              -40.0   \n",
       "record_low_celsius                       -41.1              -40.0   \n",
       "temperature_diff_fahrenheit              153.0              161.0   \n",
       "temperature_diff_celsius                  85.0               89.4   \n",
       "\n",
       "state_name                                Utah   \n",
       "record_high                   118 °F (47.8 °C)  \\\n",
       "high_date                         July 4, 2007   \n",
       "high_place                          St. George   \n",
       "record_low                   -69 °F (-56.1 °C)   \n",
       "low_date                      February 1, 1985   \n",
       "low_place                          Peter Sinks   \n",
       "temperature_diff             187 °F (103.9 °C)   \n",
       "record_high_fahrenheit                   118.0   \n",
       "record_high_celsius                       47.8   \n",
       "record_low_fahrenheit                    -69.0   \n",
       "record_low_celsius                       -56.1   \n",
       "temperature_diff_fahrenheit              187.0   \n",
       "temperature_diff_celsius                 103.9   \n",
       "\n",
       "state_name                                           Virgin Islands (U.S.)   \n",
       "record_high                                                99 °F (37.2 °C)  \\\n",
       "high_date                                                    June 23, 1996   \n",
       "high_place                   Charlotte Amalie West (Cyril E. King Airport)   \n",
       "record_low                                                 51 °F (10.6 °C)   \n",
       "low_date                                                  January 31, 1954   \n",
       "low_place                                        Anna's Hope (Saint Croix)   \n",
       "temperature_diff                                           48 °F (26.7 °C)   \n",
       "record_high_fahrenheit                                                99.0   \n",
       "record_high_celsius                                                   37.2   \n",
       "record_low_fahrenheit                                                 51.0   \n",
       "record_low_celsius                                                    10.6   \n",
       "temperature_diff_fahrenheit                                           48.0   \n",
       "temperature_diff_celsius                                              26.7   \n",
       "\n",
       "state_name                             Wyoming  \n",
       "record_high                   115 °F (46.1 °C)  \n",
       "high_date                       August 8, 1983  \n",
       "high_place                               Basin  \n",
       "record_low                   -63 °F (-52.8 °C)  \n",
       "low_date                      February 9, 1933  \n",
       "low_place                                Moran  \n",
       "temperature_diff              178 °F (98.9 °C)  \n",
       "record_high_fahrenheit                   115.0  \n",
       "record_high_celsius                       46.1  \n",
       "record_low_fahrenheit                    -63.0  \n",
       "record_low_celsius                       -52.8  \n",
       "temperature_diff_fahrenheit              178.0  \n",
       "temperature_diff_celsius                  98.9  "
      ]
     },
     "execution_count": 8,
     "metadata": {},
     "output_type": "execute_result"
    }
   ],
   "source": [
    "\n",
    "if nu.pickle_exists('extreme_temperatures_states_df'): extreme_temperatures_states_df = nu.load_object('extreme_temperatures_states_df')\n",
    "else:\n",
    "    tables_url = 'https://en.wikipedia.org/wiki/U.S._state_and_territory_temperature_extremes'\n",
    "    page_tables_list = nu.get_wiki_tables(tables_url, verbose=False)\n",
    "    extreme_temperatures_states_df = page_tables_list[0].copy().applymap(lambda x: str(x).split('[')[0].strip().replace('−', '-'))\n",
    "    # print(extreme_temperatures_states_df.columns.tolist())\n",
    "    extreme_temperatures_states_df.columns = ['state_name', 'record_high', 'high_date', 'high_place', 'record_low', 'low_date', 'low_place', 'temperature_diff']\n",
    "    for cn in ['record_high', 'record_low', 'temperature_diff']:\n",
    "        extreme_temperatures_states_df[f'{cn}_fahrenheit'] = extreme_temperatures_states_df[cn].map(lambda x: float(re.split(r'([\\d.-]+)', str(x), 0)[1]))\n",
    "        extreme_temperatures_states_df[f'{cn}_celsius'] = extreme_temperatures_states_df[cn].map(lambda x: float(re.split(r'([\\d.-]+)', str(x), 0)[3]))\n",
    "    extreme_temperatures_states_df = extreme_temperatures_states_df.set_index('state_name')\n",
    "    nu.store_objects(extreme_temperatures_states_df=extreme_temperatures_states_df)\n",
    "extreme_temperatures_states_df.sample(13).T"
   ]
  },
  {
   "cell_type": "code",
   "execution_count": 9,
   "id": "cee3eb03-86b5-4f85-beca-b66ea8f58db1",
   "metadata": {},
   "outputs": [
    {
     "name": "stdout",
     "output_type": "stream",
     "text": [
      "['American Samoa', 'Guam', 'Northern Mariana Islands', 'Puerto Rico', 'Virgin Islands (U.S.)']\n"
     ]
    }
   ],
   "source": [
    "\n",
    "# Remove US states duplicates and misspellings\n",
    "states_list = sorted(set(extreme_temperatures_states_df.index).symmetric_difference(set(ssu.us_stats_df.index)))\n",
    "print(states_list)"
   ]
  },
  {
   "cell_type": "code",
   "execution_count": 10,
   "id": "ba2340b5-90dd-42c2-9289-afe9b77be4a0",
   "metadata": {},
   "outputs": [
    {
     "data": {
      "text/html": [
       "<div>\n",
       "<style scoped>\n",
       "    .dataframe tbody tr th:only-of-type {\n",
       "        vertical-align: middle;\n",
       "    }\n",
       "\n",
       "    .dataframe tbody tr th {\n",
       "        vertical-align: top;\n",
       "    }\n",
       "\n",
       "    .dataframe thead th {\n",
       "        text-align: right;\n",
       "    }\n",
       "</style>\n",
       "<table border=\"1\" class=\"dataframe\">\n",
       "  <thead>\n",
       "    <tr style=\"text-align: right;\">\n",
       "      <th></th>\n",
       "      <th>first_item</th>\n",
       "      <th>second_item</th>\n",
       "      <th>max_similarity</th>\n",
       "    </tr>\n",
       "  </thead>\n",
       "  <tbody>\n",
       "  </tbody>\n",
       "</table>\n",
       "</div>"
      ],
      "text/plain": [
       "Empty DataFrame\n",
       "Columns: [first_item, second_item, max_similarity]\n",
       "Index: []"
      ]
     },
     "execution_count": 10,
     "metadata": {},
     "output_type": "execute_result"
    }
   ],
   "source": [
    "\n",
    "doubles_df = nu.check_4_doubles(states_list)\n",
    "mask_series = (doubles_df.max_similarity > 0.6)\n",
    "columns_list = ['first_item', 'second_item', 'max_similarity']\n",
    "doubles_df[mask_series][columns_list].sort_values('max_similarity', ascending=False)"
   ]
  },
  {
   "cell_type": "code",
   "execution_count": 11,
   "id": "d50537da-eea9-48a1-934a-a69946cd9951",
   "metadata": {},
   "outputs": [
    {
     "name": "stdout",
     "output_type": "stream",
     "text": [
      "Pickling to C:\\Users\\daveb\\OneDrive\\Documents\\GitHub\\StatsByUSState\\saves\\pkl\\one_country_df.pkl\n"
     ]
    }
   ],
   "source": [
    "\n",
    "if not set(cu.one_country_df.columns).intersection(set(extreme_temperatures_states_df.columns)):\n",
    "    cu.one_country_df = cu.one_country_df.merge(extreme_temperatures_states_df, left_index=True, right_index=True)\n",
    "    nu.store_objects(one_country_df=cu.one_country_df)"
   ]
  },
  {
   "cell_type": "markdown",
   "id": "3c8124a9-c1c2-404e-8703-bd875b4fb7d7",
   "metadata": {
    "tags": []
   },
   "source": [
    "\n",
    "## Prepare for and Create Choropleths"
   ]
  },
  {
   "cell_type": "code",
   "execution_count": 12,
   "id": "98688731-188c-4255-be03-f7616c9531ed",
   "metadata": {},
   "outputs": [
    {
     "name": "stdout",
     "output_type": "stream",
     "text": [
      "Opening C:\\Users\\daveb\\OneDrive\\Documents\\GitHub\\StatsByUSState\\saves\\svg\\US_temperature_diff_celsius_district_abbreviation.svg in Notepad++\n",
      "Creating C:\\Users\\daveb\\OneDrive\\Documents\\GitHub\\StatsByUSState\\saves\\png\\US_temperature_diff_celsius_district_abbreviation.png\n"
     ]
    },
    {
     "data": {
      "text/html": [
       "<img src=\"../saves/png/US_temperature_diff_celsius_district_abbreviation.png\" style=\"width:50%\"/>"
      ],
      "text/plain": [
       "<IPython.core.display.HTML object>"
      ]
     },
     "metadata": {},
     "output_type": "display_data"
    }
   ],
   "source": [
    "\n",
    "# You don't have to close the Notepad++ window after you're finished in order to completely run this cell\n",
    "numeric_column_name = 'temperature_diff_celsius'\n",
    "string_column_name = 'district_abbreviation'\n",
    "if (numeric_column_name in cu.one_country_df.columns) and (string_column_name in cu.one_country_df.columns): cu.edit_and_display_svg(numeric_column_name, string_column_name, verbose=True)"
   ]
  },
  {
   "cell_type": "code",
   "execution_count": null,
   "id": "ddd50cd1-9ebd-491e-8b38-1463afa9d3ca",
   "metadata": {},
   "outputs": [],
   "source": []
  }
 ],
 "metadata": {
  "kernelspec": {
   "display_name": "Python 3 (ipykernel)",
   "language": "python",
   "name": "python3"
  },
  "language_info": {
   "codemirror_mode": {
    "name": "ipython",
    "version": 3
   },
   "file_extension": ".py",
   "mimetype": "text/x-python",
   "name": "python",
   "nbconvert_exporter": "python",
   "pygments_lexer": "ipython3",
   "version": "3.9.16"
  }
 },
 "nbformat": 4,
 "nbformat_minor": 5
}

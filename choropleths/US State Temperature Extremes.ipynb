{
 "cells": [
  {
   "cell_type": "code",
   "execution_count": 1,
   "id": "ad2f9eba-1847-4e00-a67c-97ea7535555a",
   "metadata": {},
   "outputs": [
    {
     "name": "stdout",
     "output_type": "stream",
     "text": [
      "Pretty printing has been turned OFF\n"
     ]
    }
   ],
   "source": [
    "\n",
    "%pprint"
   ]
  },
  {
   "cell_type": "code",
   "execution_count": 2,
   "id": "427ea28d-cb4f-4719-8446-dac46270e5df",
   "metadata": {},
   "outputs": [],
   "source": [
    "\n",
    "import sys\n",
    "\n",
    "# Insert at 1, 0 is the script path (or '' in REPL)\n",
    "sys.path.insert(1, '../py')\n",
    "\n",
    "from os import path as osp\n",
    "from StatsByUSState import nu, cu, scu, ssu\n",
    "import pandas as pd\n",
    "import re\n",
    "import os\n",
    "import numpy as np"
   ]
  },
  {
   "cell_type": "code",
   "execution_count": 3,
   "id": "bde87943-fd33-48f1-af0b-a2b2809e4fdb",
   "metadata": {},
   "outputs": [
    {
     "data": {
      "text/plain": [
       "['all_countries_df', 'column_descriptions_df', 'counties_df', 'county_populations_df', 'gdp_us_cities_df', 'gdp_us_states_df', 'income_inequality_us_states_df', 'one_country_df', 'race_homicide_rate_by_state_year_df', 'state_merge_df', 'state_race_df', 'usa_df', 'us_murder_df', 'us_perps_df', 'us_states_df', 'us_stats_df']"
      ]
     },
     "execution_count": 3,
     "metadata": {},
     "output_type": "execute_result"
    }
   ],
   "source": [
    "\n",
    "nu.list_dfs_in_folder()"
   ]
  },
  {
   "cell_type": "code",
   "execution_count": 4,
   "id": "fba83c4d-ebe3-41a5-80da-5f86e6ddc865",
   "metadata": {},
   "outputs": [
    {
     "data": {
      "text/plain": [
       "['scu.get_text_rgba', 'cu.get_greatest_area', 'nu.format_timedelta', 'cu.get_fill_color_rgb', 'nu.open_path_in_notepad', 'nu.ensure_module_installed', 'scu.population_pyramid', 'nu.get_euclidean_distance', 'nu.get_turbulence', 'nu.plot_sequence', 'cu.iso_3166_2_code', 'nu.get_dir_tree', 'nu.plot_inauguration_age', 'scu.make_a_movie', 'nu.download_file', 'cu.create_label_line_file', 'nu.attempt_to_pickle', 'cu.copy_file_name', 'cu.add_docname', 'nu.convert_to_data_frame', 'nu.get_regexed_dataframe', 'cu.clean_up_district_merge_dataframe', 'cu.convert_svg_to_dataframe', 'nu.get_shape', 'nu.decoding_type', 'nu.encoding_type', 'ssu.get_similarity_measure', 'scu.get_fontsize', 'cu.all_countries_df', 'ssu.us_stats_df', 'cu.one_country_df', 'ssu.prepare_for_choroplething', 'cu.create_svg_file_beginning', 'cu.indexize_string', 'nu.show_dupl_fn_defs_search_string', 'nu.show_duplicated_util_fns_search_string', 'cu.trim_d_path', 'cu.label_line_file_path', 'nu.get_function_file_path', 'cu.gradient_file_path', 'cu.copy_file_path', 'cu.svg_width', 'ssu.get_max_rsquared_adj', 'nu.get_inf_nan_mask', 'cu.get_legend_xml', 'cu.create_text_tag_xml', 'cu.get_colorbar_xml', 'nu.get_filename_from_url', 'ssu.driver_get_url', 'nu.plot_histogram', 'cu.color_distance_from', 'scu.ball_and_chain', 'nu.get_style_column', 'nu.get_absolute_position', 'cu.get_column_description', 'cu.width_ratio', 'nu.facebook_aspect_ratio', 'nu.twitter_aspect_ratio', 'cu.height_ratio', 'cu.create_country_colored_labeled_map', 'cu.create_us_google_suggest_labeled_map', 'cu.create_country_labeled_map', 'cu.create_country_colored_map', 'scu.create_colored_labeled_treemap', 'nu.get_page_soup', 'scu.r', 'cu.show_colorbar', 'nu.saves_mp3_folder', 'nu.anaconda_folder', 'nu.data_folder', 'nu.db_folder', 'nu.github_folder', 'nu.cache_folder', 'nu.saves_pickle_folder', 'nu.list_dfs_in_folder', 'nu.bin_folder', 'nu.indices_folder', 'nu.saves_folder', 'nu.graphs_folder', 'nu.data_models_folder', 'nu.scripts_folder', 'nu.saves_text_folder', 'nu.txt_folder', 'nu.saves_wav_folder', 'nu.data_csv_folder', 'nu.saves_csv_folder', 'nu.get_color_cycler', 'ssu.get_driver', 'cu.svg_dir', 'ssu.wait_for', 'cu.get_fill_color', 'nu.decoding_error', 'nu.encoding_error', 'cu.regex_sub_str', 'nu.pip_command_str', 'cu.fill_style_str', 'cu.html_style_str', 'cu.figure_str', 'cu.district_path_str', 'cu.ytick_str', 'cu.l_str', 'cu.legend_label_str', 'cu.axes_str', 'cu.matplotlib_axis_str', 'cu.ts_str', 'cu.gradient_str', 'cu.tick_text_str', 'cu.ocean_blue_hex_str', 'cu.light_grey_hex_str', 'cu.svg_prefix_str', 'nu.show_time_statistics', 'nu.get_statistics', 'cu.hyphenate_words', 'cu.strip_namespaces', 'nu.plot_sequences', 'nu.get_ndistinct_subsequences', 'nu.get_page_tables', 'nu.get_wiki_tables', 'nu.check_4_doubles', 'nu.load_data_frames', 'nu.save_data_frames', 'nu.get_coordinates', 'nu.get_top_level_folder_paths', 'nu.count_ngrams', 'nu.get_regexed_columns', 'nu.modalize_columns', 'nu.get_minority_combinations', 'nu.get_utility_file_functions', 'cu.possibly_raise_exceptions', 'nu.get_column_descriptions', 'nu.conjunctify_nouns', 'nu.check_for_typos', 'nu.plot_line_with_error_bars', 'nu.delete_ipynb_checkpoint_folders', 'nu.convert_strings_to_integers', 'nu.plot_grouped_box_and_whiskers', 'nu.store_objects', 'ssu.get_country_state_equivalents', 'nu.replace_consecutive_elements', 'cu.get_tfidf_lists', 'nu.pickle_exists', 'nu.csv_exists', 'scu.save_fig_as_various', 'nu.load_object', 'ssu.country_to_alpha3_dict', 'cu.text_style_dict', 'ssu.country_name_dict', 'cu.clean_up_district_unique_dict', 'cu.hyphen_dict', 'ssu.us_states_abbreviation_dict', 'ssu.column_description_dict', 'cu.clean_up_district_common_dict', 'cu.settings_dict', 'cu.clean_up_suggestion_list_dict', 'cu.create_district_first_dict', 'ssu.alpha3_to_country_dict', 'nu.get_alphabet', 'nu.get_notebook_functions_set', 'cu.line_height', 'cu.svg_height', 'nu.get_first_year_element', 'nu.get_td_parent', 'nu.get_sequences_by_count', 'nu.first_order_linear_scatterplot', 'cu.label_line_style_list', 'cu.tick_tspan_style_list', 'cu.label_tspan_style_list', 'cu.get_style_list', 'cu.text_style_list', 'cu.tick_text_style_list', 'cu.label_text_style_list', 'cu.get_tspan_list', 'cu.get_google_suggestion_list', 'nu.get_jitter_list', 'nu.split_row_indices_list', 'ssu.oecd_countries_list', 'ssu.derisable_countries_list', 'nu.update_modules_list', 'nu.decoding_types_list', 'nu.encoding_types_list', 'cu.us_states_list', 'cu.svg_attributes_list', 'cu.namedview_attributes_list', 'scu.colormaps_list', 'nu.decoding_errors_list', 'nu.encoding_errors_list', 'nu.get_splits_list', 'scu.plot_treemap_layout', 'scu.draw_text', 'nu.load_csv', 'cu.nonword_regex', 'ssu.obscure_regex', 'cu.svg_regex', 'nu.filepath_regex', 'nu.url_regex', 'cu.fill_style_prefix', 'cu.svg_suffix', 'cu.has_no_limitxx', 'cu.path_to_poly', 'nu.get_notebook_functions_dictionary', 'cu.scrape_suggestion_list_dictionary', 'cu.create_suggestion_list_dictionary', 'nu.get_row_dictionary', 'nu.get_random_subdictionary', 'nu.compute_similarity']"
      ]
     },
     "execution_count": 4,
     "metadata": {},
     "output_type": "execute_result"
    }
   ],
   "source": [
    "\n",
    "nus_list = [f'nu.{fn}' for fn in dir(nu) if not fn.startswith('_')]\n",
    "cus_list = [f'cu.{fn}' for fn in dir(cu) if not fn.startswith('_')]\n",
    "scus_list = [f'scu.{fn}' for fn in dir(scu) if not fn.startswith('_')]\n",
    "ssus_list = [f'ssu.{fn}' for fn in dir(ssu) if not fn.startswith('_')]\n",
    "sorted(nus_list + cus_list + scus_list + ssus_list, key=lambda x: x[::-1])"
   ]
  },
  {
   "cell_type": "code",
   "execution_count": 5,
   "id": "0bd2ffba-aa40-4c7b-9ba3-ad04534a7fce",
   "metadata": {},
   "outputs": [
    {
     "data": {
      "text/plain": [
       "['nu.get_wiki_tables']"
      ]
     },
     "execution_count": 5,
     "metadata": {},
     "output_type": "execute_result"
    }
   ],
   "source": [
    "\n",
    "[fn for fn in sorted(nus_list + cus_list + scus_list + ssus_list, key=lambda x: x[::-1]) if 'wiki' in fn]"
   ]
  },
  {
   "cell_type": "code",
   "execution_count": 6,
   "id": "4345c4ba-cb8d-4445-8deb-a24826776451",
   "metadata": {},
   "outputs": [
    {
     "data": {
      "text/plain": [
       "['cu.all_countries_df', 'ssu.us_stats_df', 'cu.one_country_df']"
      ]
     },
     "execution_count": 6,
     "metadata": {},
     "output_type": "execute_result"
    }
   ],
   "source": [
    "\n",
    "[fn for fn in sorted(nus_list + cus_list + scus_list + ssus_list, key=lambda x: x[::-1]) if fn.endswith('_df')]"
   ]
  },
  {
   "cell_type": "markdown",
   "id": "c2a2632c-df92-4248-8a62-89e43b46fe49",
   "metadata": {
    "tags": []
   },
   "source": [
    "\n",
    "----\n",
    "# US State Temperature Extremes\n"
   ]
  },
  {
   "cell_type": "code",
   "execution_count": 7,
   "id": "4cad4fdc-f969-47ca-b56e-1ca6cee7a582",
   "metadata": {},
   "outputs": [
    {
     "data": {
      "text/html": [
       "<div>\n",
       "<style scoped>\n",
       "    .dataframe tbody tr th:only-of-type {\n",
       "        vertical-align: middle;\n",
       "    }\n",
       "\n",
       "    .dataframe tbody tr th {\n",
       "        vertical-align: top;\n",
       "    }\n",
       "\n",
       "    .dataframe thead th {\n",
       "        text-align: right;\n",
       "    }\n",
       "</style>\n",
       "<table border=\"1\" class=\"dataframe\">\n",
       "  <thead>\n",
       "    <tr style=\"text-align: right;\">\n",
       "      <th>state_name</th>\n",
       "      <th>New Jersey</th>\n",
       "      <th>New Hampshire</th>\n",
       "      <th>Alabama</th>\n",
       "      <th>Kentucky</th>\n",
       "      <th>American Samoa</th>\n",
       "      <th>Northern Mariana Islands</th>\n",
       "      <th>Puerto Rico</th>\n",
       "      <th>Nevada</th>\n",
       "      <th>New York</th>\n",
       "      <th>Washington</th>\n",
       "      <th>Ohio</th>\n",
       "      <th>Kansas</th>\n",
       "      <th>North Carolina</th>\n",
       "    </tr>\n",
       "  </thead>\n",
       "  <tbody>\n",
       "    <tr>\n",
       "      <th>record_high</th>\n",
       "      <td>110 °F (43.3 °C)</td>\n",
       "      <td>106 °F (41.1 °C)</td>\n",
       "      <td>112 °F (44.4 °C)</td>\n",
       "      <td>116 °F (46.7 °C)</td>\n",
       "      <td>99 °F (37.2 °C)</td>\n",
       "      <td>99 °F (37.2 °C)</td>\n",
       "      <td>104 °F (40 °C)</td>\n",
       "      <td>125 °F (51.7 °C)</td>\n",
       "      <td>108 °F (42.2 °C)</td>\n",
       "      <td>120 °F (48.9 °C)</td>\n",
       "      <td>113 °F (45 °C)</td>\n",
       "      <td>121 °F (49.4 °C)</td>\n",
       "      <td>110 °F (43.3 °C)</td>\n",
       "    </tr>\n",
       "    <tr>\n",
       "      <th>high_date</th>\n",
       "      <td>July 10, 1936</td>\n",
       "      <td>July 4, 1911</td>\n",
       "      <td>September 6, 1925</td>\n",
       "      <td>July 28, 1930</td>\n",
       "      <td>April 27, 1972</td>\n",
       "      <td>July 8, 2010</td>\n",
       "      <td>July 2, 1996</td>\n",
       "      <td>June 29, 1994</td>\n",
       "      <td>July 22, 1926</td>\n",
       "      <td>June 29, 2021</td>\n",
       "      <td>July 21, 1934</td>\n",
       "      <td>July 24, 1936</td>\n",
       "      <td>August 21, 1983</td>\n",
       "    </tr>\n",
       "    <tr>\n",
       "      <th>high_place</th>\n",
       "      <td>Runyon</td>\n",
       "      <td>Nashua</td>\n",
       "      <td>Centreville</td>\n",
       "      <td>Louisville</td>\n",
       "      <td>Malaeloa/Aitulagi</td>\n",
       "      <td>Saipan</td>\n",
       "      <td>Isla de Mona (Mayagüez)</td>\n",
       "      <td>Laughlin</td>\n",
       "      <td>Troy</td>\n",
       "      <td>Hanford Site</td>\n",
       "      <td>Gallipolis</td>\n",
       "      <td>Alton</td>\n",
       "      <td>Fayetteville</td>\n",
       "    </tr>\n",
       "    <tr>\n",
       "      <th>record_low</th>\n",
       "      <td>-34 °F (-36.7 °C)</td>\n",
       "      <td>-50 °F (-45.6 °C)</td>\n",
       "      <td>-27 °F (-32.8 °C)</td>\n",
       "      <td>-37 °F (-38.3 °C)</td>\n",
       "      <td>53 °F (11.7 °C)</td>\n",
       "      <td>62 °F (16.7 °C)</td>\n",
       "      <td>40 °F (4.4 °C)</td>\n",
       "      <td>-50 °F (-45.6 °C)</td>\n",
       "      <td>-52 °F (-46.7 °C)</td>\n",
       "      <td>-48 °F (-44.4 °C)</td>\n",
       "      <td>-39 °F (-39.4 °C)</td>\n",
       "      <td>-40 °F (-40.0 °C)</td>\n",
       "      <td>-34 °F (-36.7 °C)</td>\n",
       "    </tr>\n",
       "    <tr>\n",
       "      <th>low_date</th>\n",
       "      <td>January 5, 1904</td>\n",
       "      <td>January 22, 1885</td>\n",
       "      <td>January 30, 1966</td>\n",
       "      <td>January 19, 1994</td>\n",
       "      <td>March 28, 1962</td>\n",
       "      <td>December 15, 2000</td>\n",
       "      <td>January 24, 1966</td>\n",
       "      <td>January 8, 1937</td>\n",
       "      <td>February 18, 1979</td>\n",
       "      <td>December 30, 1968</td>\n",
       "      <td>February 10, 1899</td>\n",
       "      <td>February 13, 1905</td>\n",
       "      <td>January 21, 1985</td>\n",
       "    </tr>\n",
       "    <tr>\n",
       "      <th>low_place</th>\n",
       "      <td>River Vale</td>\n",
       "      <td>Mount Washington</td>\n",
       "      <td>New Market</td>\n",
       "      <td>Shelbyville</td>\n",
       "      <td>Malaeloa/Aitulagi</td>\n",
       "      <td>Saipan</td>\n",
       "      <td>San Sebastián</td>\n",
       "      <td>San Jacinto</td>\n",
       "      <td>Old Forge</td>\n",
       "      <td>Winthrop</td>\n",
       "      <td>Milligan</td>\n",
       "      <td>Lebanon</td>\n",
       "      <td>Burnsville</td>\n",
       "    </tr>\n",
       "    <tr>\n",
       "      <th>temperature_diff</th>\n",
       "      <td>144 °F (80 °C)</td>\n",
       "      <td>156 °F (86.7 °C)</td>\n",
       "      <td>139 °F (77.2 °C)</td>\n",
       "      <td>151 °F (83.9 °C)</td>\n",
       "      <td>46 °F (25.6 °C)</td>\n",
       "      <td>37 °F (20.6 °C)</td>\n",
       "      <td>64 °F (35.6 °C)</td>\n",
       "      <td>175 °F (97.2 °C)</td>\n",
       "      <td>160 °F (88.9 °C)</td>\n",
       "      <td>168 °F (93.3 °C)</td>\n",
       "      <td>152 °F (84.4 °C)</td>\n",
       "      <td>161 °F (89.4 °C)</td>\n",
       "      <td>144 °F (80 °C)</td>\n",
       "    </tr>\n",
       "    <tr>\n",
       "      <th>record_high_fahrenheit</th>\n",
       "      <td>110.0</td>\n",
       "      <td>106.0</td>\n",
       "      <td>112.0</td>\n",
       "      <td>116.0</td>\n",
       "      <td>99.0</td>\n",
       "      <td>99.0</td>\n",
       "      <td>104.0</td>\n",
       "      <td>125.0</td>\n",
       "      <td>108.0</td>\n",
       "      <td>120.0</td>\n",
       "      <td>113.0</td>\n",
       "      <td>121.0</td>\n",
       "      <td>110.0</td>\n",
       "    </tr>\n",
       "    <tr>\n",
       "      <th>record_high_celsius</th>\n",
       "      <td>43.3</td>\n",
       "      <td>41.1</td>\n",
       "      <td>44.4</td>\n",
       "      <td>46.7</td>\n",
       "      <td>37.2</td>\n",
       "      <td>37.2</td>\n",
       "      <td>40.0</td>\n",
       "      <td>51.7</td>\n",
       "      <td>42.2</td>\n",
       "      <td>48.9</td>\n",
       "      <td>45.0</td>\n",
       "      <td>49.4</td>\n",
       "      <td>43.3</td>\n",
       "    </tr>\n",
       "    <tr>\n",
       "      <th>record_low_fahrenheit</th>\n",
       "      <td>-34.0</td>\n",
       "      <td>-50.0</td>\n",
       "      <td>-27.0</td>\n",
       "      <td>-37.0</td>\n",
       "      <td>53.0</td>\n",
       "      <td>62.0</td>\n",
       "      <td>40.0</td>\n",
       "      <td>-50.0</td>\n",
       "      <td>-52.0</td>\n",
       "      <td>-48.0</td>\n",
       "      <td>-39.0</td>\n",
       "      <td>-40.0</td>\n",
       "      <td>-34.0</td>\n",
       "    </tr>\n",
       "    <tr>\n",
       "      <th>record_low_celsius</th>\n",
       "      <td>-36.7</td>\n",
       "      <td>-45.6</td>\n",
       "      <td>-32.8</td>\n",
       "      <td>-38.3</td>\n",
       "      <td>11.7</td>\n",
       "      <td>16.7</td>\n",
       "      <td>4.4</td>\n",
       "      <td>-45.6</td>\n",
       "      <td>-46.7</td>\n",
       "      <td>-44.4</td>\n",
       "      <td>-39.4</td>\n",
       "      <td>-40.0</td>\n",
       "      <td>-36.7</td>\n",
       "    </tr>\n",
       "    <tr>\n",
       "      <th>temperature_diff_fahrenheit</th>\n",
       "      <td>144.0</td>\n",
       "      <td>156.0</td>\n",
       "      <td>139.0</td>\n",
       "      <td>151.0</td>\n",
       "      <td>46.0</td>\n",
       "      <td>37.0</td>\n",
       "      <td>64.0</td>\n",
       "      <td>175.0</td>\n",
       "      <td>160.0</td>\n",
       "      <td>168.0</td>\n",
       "      <td>152.0</td>\n",
       "      <td>161.0</td>\n",
       "      <td>144.0</td>\n",
       "    </tr>\n",
       "    <tr>\n",
       "      <th>temperature_diff_celsius</th>\n",
       "      <td>80.0</td>\n",
       "      <td>86.7</td>\n",
       "      <td>77.2</td>\n",
       "      <td>83.9</td>\n",
       "      <td>25.6</td>\n",
       "      <td>20.6</td>\n",
       "      <td>35.6</td>\n",
       "      <td>97.2</td>\n",
       "      <td>88.9</td>\n",
       "      <td>93.3</td>\n",
       "      <td>84.4</td>\n",
       "      <td>89.4</td>\n",
       "      <td>80.0</td>\n",
       "    </tr>\n",
       "  </tbody>\n",
       "</table>\n",
       "</div>"
      ],
      "text/plain": [
       "state_name                          New Jersey      New Hampshire   \n",
       "record_high                   110 °F (43.3 °C)   106 °F (41.1 °C)  \\\n",
       "high_date                        July 10, 1936       July 4, 1911   \n",
       "high_place                              Runyon             Nashua   \n",
       "record_low                   -34 °F (-36.7 °C)  -50 °F (-45.6 °C)   \n",
       "low_date                       January 5, 1904   January 22, 1885   \n",
       "low_place                           River Vale   Mount Washington   \n",
       "temperature_diff                144 °F (80 °C)   156 °F (86.7 °C)   \n",
       "record_high_fahrenheit                   110.0              106.0   \n",
       "record_high_celsius                       43.3               41.1   \n",
       "record_low_fahrenheit                    -34.0              -50.0   \n",
       "record_low_celsius                       -36.7              -45.6   \n",
       "temperature_diff_fahrenheit              144.0              156.0   \n",
       "temperature_diff_celsius                  80.0               86.7   \n",
       "\n",
       "state_name                             Alabama           Kentucky   \n",
       "record_high                   112 °F (44.4 °C)   116 °F (46.7 °C)  \\\n",
       "high_date                    September 6, 1925      July 28, 1930   \n",
       "high_place                         Centreville         Louisville   \n",
       "record_low                   -27 °F (-32.8 °C)  -37 °F (-38.3 °C)   \n",
       "low_date                      January 30, 1966   January 19, 1994   \n",
       "low_place                           New Market        Shelbyville   \n",
       "temperature_diff              139 °F (77.2 °C)   151 °F (83.9 °C)   \n",
       "record_high_fahrenheit                   112.0              116.0   \n",
       "record_high_celsius                       44.4               46.7   \n",
       "record_low_fahrenheit                    -27.0              -37.0   \n",
       "record_low_celsius                       -32.8              -38.3   \n",
       "temperature_diff_fahrenheit              139.0              151.0   \n",
       "temperature_diff_celsius                  77.2               83.9   \n",
       "\n",
       "state_name                      American Samoa Northern Mariana Islands   \n",
       "record_high                    99 °F (37.2 °C)          99 °F (37.2 °C)  \\\n",
       "high_date                       April 27, 1972             July 8, 2010   \n",
       "high_place                   Malaeloa/Aitulagi                   Saipan   \n",
       "record_low                     53 °F (11.7 °C)          62 °F (16.7 °C)   \n",
       "low_date                        March 28, 1962        December 15, 2000   \n",
       "low_place                    Malaeloa/Aitulagi                   Saipan   \n",
       "temperature_diff               46 °F (25.6 °C)          37 °F (20.6 °C)   \n",
       "record_high_fahrenheit                    99.0                     99.0   \n",
       "record_high_celsius                       37.2                     37.2   \n",
       "record_low_fahrenheit                     53.0                     62.0   \n",
       "record_low_celsius                        11.7                     16.7   \n",
       "temperature_diff_fahrenheit               46.0                     37.0   \n",
       "temperature_diff_celsius                  25.6                     20.6   \n",
       "\n",
       "state_name                               Puerto Rico             Nevada   \n",
       "record_high                           104 °F (40 °C)   125 °F (51.7 °C)  \\\n",
       "high_date                               July 2, 1996      June 29, 1994   \n",
       "high_place                   Isla de Mona (Mayagüez)           Laughlin   \n",
       "record_low                            40 °F (4.4 °C)  -50 °F (-45.6 °C)   \n",
       "low_date                            January 24, 1966    January 8, 1937   \n",
       "low_place                              San Sebastián        San Jacinto   \n",
       "temperature_diff                     64 °F (35.6 °C)   175 °F (97.2 °C)   \n",
       "record_high_fahrenheit                         104.0              125.0   \n",
       "record_high_celsius                             40.0               51.7   \n",
       "record_low_fahrenheit                           40.0              -50.0   \n",
       "record_low_celsius                               4.4              -45.6   \n",
       "temperature_diff_fahrenheit                     64.0              175.0   \n",
       "temperature_diff_celsius                        35.6               97.2   \n",
       "\n",
       "state_name                            New York         Washington   \n",
       "record_high                   108 °F (42.2 °C)   120 °F (48.9 °C)  \\\n",
       "high_date                        July 22, 1926      June 29, 2021   \n",
       "high_place                                Troy       Hanford Site   \n",
       "record_low                   -52 °F (-46.7 °C)  -48 °F (-44.4 °C)   \n",
       "low_date                     February 18, 1979  December 30, 1968   \n",
       "low_place                            Old Forge           Winthrop   \n",
       "temperature_diff              160 °F (88.9 °C)   168 °F (93.3 °C)   \n",
       "record_high_fahrenheit                   108.0              120.0   \n",
       "record_high_celsius                       42.2               48.9   \n",
       "record_low_fahrenheit                    -52.0              -48.0   \n",
       "record_low_celsius                       -46.7              -44.4   \n",
       "temperature_diff_fahrenheit              160.0              168.0   \n",
       "temperature_diff_celsius                  88.9               93.3   \n",
       "\n",
       "state_name                                Ohio             Kansas   \n",
       "record_high                     113 °F (45 °C)   121 °F (49.4 °C)  \\\n",
       "high_date                        July 21, 1934      July 24, 1936   \n",
       "high_place                          Gallipolis              Alton   \n",
       "record_low                   -39 °F (-39.4 °C)  -40 °F (-40.0 °C)   \n",
       "low_date                     February 10, 1899  February 13, 1905   \n",
       "low_place                             Milligan            Lebanon   \n",
       "temperature_diff              152 °F (84.4 °C)   161 °F (89.4 °C)   \n",
       "record_high_fahrenheit                   113.0              121.0   \n",
       "record_high_celsius                       45.0               49.4   \n",
       "record_low_fahrenheit                    -39.0              -40.0   \n",
       "record_low_celsius                       -39.4              -40.0   \n",
       "temperature_diff_fahrenheit              152.0              161.0   \n",
       "temperature_diff_celsius                  84.4               89.4   \n",
       "\n",
       "state_name                      North Carolina  \n",
       "record_high                   110 °F (43.3 °C)  \n",
       "high_date                      August 21, 1983  \n",
       "high_place                        Fayetteville  \n",
       "record_low                   -34 °F (-36.7 °C)  \n",
       "low_date                      January 21, 1985  \n",
       "low_place                           Burnsville  \n",
       "temperature_diff                144 °F (80 °C)  \n",
       "record_high_fahrenheit                   110.0  \n",
       "record_high_celsius                       43.3  \n",
       "record_low_fahrenheit                    -34.0  \n",
       "record_low_celsius                       -36.7  \n",
       "temperature_diff_fahrenheit              144.0  \n",
       "temperature_diff_celsius                  80.0  "
      ]
     },
     "execution_count": 7,
     "metadata": {},
     "output_type": "execute_result"
    }
   ],
   "source": [
    "\n",
    "if nu.pickle_exists('extreme_temperatures_states_df'): extreme_temperatures_states_df = nu.load_object('extreme_temperatures_states_df')\n",
    "else:\n",
    "    tables_url = 'https://en.wikipedia.org/wiki/U.S._state_and_territory_temperature_extremes'\n",
    "    page_tables_list = nu.get_wiki_tables(tables_url, verbose=False)\n",
    "    extreme_temperatures_states_df = page_tables_list[0].copy().applymap(lambda x: str(x).split('[')[0].strip().replace('−', '-'))\n",
    "    # print(extreme_temperatures_states_df.columns.tolist())\n",
    "    extreme_temperatures_states_df.columns = ['state_name', 'record_high', 'high_date', 'high_place', 'record_low', 'low_date', 'low_place', 'temperature_diff']\n",
    "    for cn in ['record_high', 'record_low', 'temperature_diff']:\n",
    "        extreme_temperatures_states_df[f'{cn}_fahrenheit'] = extreme_temperatures_states_df[cn].map(lambda x: float(re.split(r'([\\d.-]+)', str(x), 0)[1]))\n",
    "        extreme_temperatures_states_df[f'{cn}_celsius'] = extreme_temperatures_states_df[cn].map(lambda x: float(re.split(r'([\\d.-]+)', str(x), 0)[3]))\n",
    "    extreme_temperatures_states_df = extreme_temperatures_states_df.set_index('state_name')\n",
    "extreme_temperatures_states_df.sample(13).T"
   ]
  },
  {
   "cell_type": "code",
   "execution_count": 8,
   "id": "cee3eb03-86b5-4f85-beca-b66ea8f58db1",
   "metadata": {},
   "outputs": [
    {
     "name": "stdout",
     "output_type": "stream",
     "text": [
      "['American Samoa', 'Guam', 'Northern Mariana Islands', 'Puerto Rico', 'Virgin Islands (U.S.)']\n"
     ]
    }
   ],
   "source": [
    "\n",
    "# Remove US states duplicates and misspellings\n",
    "states_list = sorted(set(extreme_temperatures_states_df.index).symmetric_difference(set(ssu.us_stats_df.index)))\n",
    "print(states_list)"
   ]
  },
  {
   "cell_type": "code",
   "execution_count": 9,
   "id": "ba2340b5-90dd-42c2-9289-afe9b77be4a0",
   "metadata": {},
   "outputs": [
    {
     "data": {
      "text/html": [
       "<div>\n",
       "<style scoped>\n",
       "    .dataframe tbody tr th:only-of-type {\n",
       "        vertical-align: middle;\n",
       "    }\n",
       "\n",
       "    .dataframe tbody tr th {\n",
       "        vertical-align: top;\n",
       "    }\n",
       "\n",
       "    .dataframe thead th {\n",
       "        text-align: right;\n",
       "    }\n",
       "</style>\n",
       "<table border=\"1\" class=\"dataframe\">\n",
       "  <thead>\n",
       "    <tr style=\"text-align: right;\">\n",
       "      <th></th>\n",
       "      <th>first_item</th>\n",
       "      <th>second_item</th>\n",
       "      <th>max_similarity</th>\n",
       "    </tr>\n",
       "  </thead>\n",
       "  <tbody>\n",
       "  </tbody>\n",
       "</table>\n",
       "</div>"
      ],
      "text/plain": [
       "Empty DataFrame\n",
       "Columns: [first_item, second_item, max_similarity]\n",
       "Index: []"
      ]
     },
     "execution_count": 9,
     "metadata": {},
     "output_type": "execute_result"
    }
   ],
   "source": [
    "\n",
    "doubles_df = nu.check_4_doubles(states_list)\n",
    "mask_series = (doubles_df.max_similarity > 0.6)\n",
    "columns_list = ['first_item', 'second_item', 'max_similarity']\n",
    "doubles_df[mask_series][columns_list].sort_values('max_similarity', ascending=False)"
   ]
  },
  {
   "cell_type": "code",
   "execution_count": 10,
   "id": "d50537da-eea9-48a1-934a-a69946cd9951",
   "metadata": {},
   "outputs": [
    {
     "name": "stdout",
     "output_type": "stream",
     "text": [
      "Pickling to C:\\Users\\daveb\\OneDrive\\Documents\\GitHub\\StatsByUSState\\saves\\pkl\\one_country_df.pkl\n"
     ]
    }
   ],
   "source": [
    "\n",
    "if not set(cu.one_country_df.columns).intersection(set(extreme_temperatures_states_df.columns)):\n",
    "    cu.one_country_df = cu.one_country_df.merge(extreme_temperatures_states_df, left_index=True, right_index=True)\n",
    "    nu.store_objects(one_country_df=cu.one_country_df)"
   ]
  },
  {
   "cell_type": "markdown",
   "id": "3c8124a9-c1c2-404e-8703-bd875b4fb7d7",
   "metadata": {
    "tags": []
   },
   "source": [
    "\n",
    "## Prepare for and Create Choropleths"
   ]
  },
  {
   "cell_type": "code",
   "execution_count": 11,
   "id": "b64fc9b3-b671-4266-8141-648ddfdc9a65",
   "metadata": {},
   "outputs": [
    {
     "data": {
      "text/plain": [
       "['cu.add_docname', 'cu.all_countries_df', 'cu.axes_str', 'cu.clean_up_district_common_dict', 'cu.clean_up_district_merge_dataframe', 'cu.clean_up_district_unique_dict', 'cu.clean_up_suggestion_list_dict', 'cu.color_distance_from', 'cu.convert_svg_to_dataframe', 'cu.copy_file_name', 'cu.copy_file_path', 'cu.create_country_colored_labeled_map', 'cu.create_country_colored_map', 'cu.create_country_labeled_map', 'cu.create_district_first_dict', 'cu.create_label_line_file', 'cu.create_suggestion_list_dictionary', 'cu.create_svg_file_beginning', 'cu.create_text_tag_xml', 'cu.create_us_google_suggest_labeled_map', 'cu.district_path_str', 'cu.figure_str', 'cu.fill_style_prefix', 'cu.fill_style_str', 'cu.get_colorbar_xml', 'cu.get_column_description', 'cu.get_fill_color', 'cu.get_fill_color_rgb', 'cu.get_google_suggestion_list', 'cu.get_greatest_area', 'cu.get_legend_xml', 'cu.get_style_list', 'cu.get_tfidf_lists', 'cu.get_tspan_list', 'cu.gradient_file_path', 'cu.gradient_str', 'cu.has_no_limitxx', 'cu.height_ratio', 'cu.html_style_str', 'cu.hyphen_dict', 'cu.hyphenate_words', 'cu.indexize_string', 'cu.iso_3166_2_code', 'cu.l_str', 'cu.label_line_file_path', 'cu.label_line_style_list', 'cu.label_text_style_list', 'cu.label_tspan_style_list', 'cu.legend_label_str', 'cu.light_grey_hex_str', 'cu.line_height', 'cu.matplotlib_axis_str', 'cu.namedview_attributes_list', 'cu.nonword_regex', 'cu.ocean_blue_hex_str', 'cu.one_country_df', 'cu.path_to_poly', 'cu.possibly_raise_exceptions', 'cu.regex_sub_str', 'cu.scrape_suggestion_list_dictionary', 'cu.settings_dict', 'cu.show_colorbar', 'cu.strip_namespaces', 'cu.svg_attributes_list', 'cu.svg_dir', 'cu.svg_height', 'cu.svg_prefix_str', 'cu.svg_regex', 'cu.svg_suffix', 'cu.svg_width', 'cu.text_style_dict', 'cu.text_style_list', 'cu.tick_text_str', 'cu.tick_text_style_list', 'cu.tick_tspan_style_list', 'cu.trim_d_path', 'cu.ts_str', 'cu.us_states_list', 'cu.width_ratio', 'cu.ytick_str']"
      ]
     },
     "execution_count": 11,
     "metadata": {},
     "output_type": "execute_result"
    }
   ],
   "source": [
    "\n",
    "cus_list"
   ]
  },
  {
   "cell_type": "code",
   "execution_count": 12,
   "id": "b6bc77c0-ee89-457a-8a21-170b346b4a99",
   "metadata": {},
   "outputs": [],
   "source": [
    "\n",
    "# Close the Notepad++ window after you're finished in order to completely run this cell\n",
    "numeric_column_name = 'temperature_diff_celsius'\n",
    "text_editor_path = r'C:\\Program Files\\Notepad++\\notepad++.exe'\n",
    "if (numeric_column_name in cu.one_country_df.columns):\n",
    "    svg_file_path = os.path.abspath(cu.create_country_colored_map(\n",
    "        numeric_column_name,\n",
    "        one_country_df=cu.one_country_df,\n",
    "        cmap='viridis',\n",
    "        min=None,\n",
    "        max=None,\n",
    "    ))\n",
    "    !\"{text_editor_path}\" \"{svg_file_path}\""
   ]
  },
  {
   "cell_type": "code",
   "execution_count": 26,
   "id": "2846a7b0-785b-4efc-ab14-47529ee65923",
   "metadata": {},
   "outputs": [
    {
     "data": {
      "text/plain": [
       "['district_abbreviation']"
      ]
     },
     "execution_count": 26,
     "metadata": {},
     "output_type": "execute_result"
    }
   ],
   "source": [
    "\n",
    "[cn for cn in cu.one_country_df.columns if 'abbrev' in cn.lower()]"
   ]
  },
  {
   "cell_type": "code",
   "execution_count": 30,
   "id": "98688731-188c-4255-be03-f7616c9531ed",
   "metadata": {},
   "outputs": [
    {
     "name": "stdout",
     "output_type": "stream",
     "text": [
      "C:\\Users\\daveb\\OneDrive\\Documents\\GitHub\\StatsByUSState\\saves\\svg\\US_temperature_diff_celsius_district_abbreviation.svg\n",
      "0\n"
     ]
    }
   ],
   "source": [
    "\n",
    "# Close the Notepad++ window after you're finished in order to completely run this cell\n",
    "import subprocess\n",
    "\n",
    "numeric_column_name = 'temperature_diff_celsius'\n",
    "string_column_name = 'district_abbreviation'\n",
    "text_editor_path = r'C:\\Program Files\\Notepad++\\notepad++.exe'\n",
    "if (numeric_column_name in cu.one_country_df.columns) and (string_column_name in cu.one_country_df.columns):\n",
    "    svg_file_path = os.path.abspath(cu.create_country_colored_labeled_map(\n",
    "        numeric_column_name,\n",
    "        string_column_name=string_column_name,\n",
    "        one_country_df=cu.one_country_df,\n",
    "        cmap='viridis',\n",
    "    ))\n",
    "    print(svg_file_path)\n",
    "    print(subprocess.call([text_editor_path, svg_file_path]))"
   ]
  },
  {
   "cell_type": "code",
   "execution_count": 31,
   "id": "7a510e22-db9a-4ac1-9f10-be616e126d2e",
   "metadata": {},
   "outputs": [
    {
     "name": "stdout",
     "output_type": "stream",
     "text": [
      "C:\\Users\\daveb\\OneDrive\\Documents\\GitHub\\StatsByUSState\\saves\\png\\US_temperature_diff_celsius_district_abbreviation.png\n"
     ]
    },
    {
     "data": {
      "text/plain": [
       "0"
      ]
     },
     "execution_count": 31,
     "metadata": {},
     "output_type": "execute_result"
    }
   ],
   "source": [
    "\n",
    "inkscape_path = r'C:\\Program Files\\Inkscape\\bin\\inkscape.exe'\n",
    "png_file_path = svg_file_path.replace('svg', 'png')\n",
    "os.makedirs(osp.dirname(png_file_path), exist_ok=True)\n",
    "print(png_file_path)\n",
    "subprocess.call([inkscape_path, svg_file_path, f'--export-filename={png_file_path}'])"
   ]
  },
  {
   "cell_type": "markdown",
   "id": "809578eb-aec9-4f9d-8c06-ddbdb2c76833",
   "metadata": {},
   "source": [
    "\n",
    "<img src=\"../saves/png/US_temperature_diff_celsius_district_abbreviation.png\" style=\"width:50%\"/>"
   ]
  },
  {
   "cell_type": "code",
   "execution_count": null,
   "id": "15db3c26-24d4-4107-ae83-e40ca81429d3",
   "metadata": {},
   "outputs": [],
   "source": []
  }
 ],
 "metadata": {
  "kernelspec": {
   "display_name": "Python 3 (ipykernel)",
   "language": "python",
   "name": "python3"
  },
  "language_info": {
   "codemirror_mode": {
    "name": "ipython",
    "version": 3
   },
   "file_extension": ".py",
   "mimetype": "text/x-python",
   "name": "python",
   "nbconvert_exporter": "python",
   "pygments_lexer": "ipython3",
   "version": "3.9.16"
  }
 },
 "nbformat": 4,
 "nbformat_minor": 5
}

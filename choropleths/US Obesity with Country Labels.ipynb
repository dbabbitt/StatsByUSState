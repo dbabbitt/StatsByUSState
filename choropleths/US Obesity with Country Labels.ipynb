{
 "cells": [
  {
   "cell_type": "markdown",
   "metadata": {
    "jp-MarkdownHeadingCollapsed": true,
    "tags": []
   },
   "source": [
    "\n",
    "# Set up the notebook"
   ]
  },
  {
   "cell_type": "code",
   "execution_count": 1,
   "metadata": {},
   "outputs": [
    {
     "name": "stdout",
     "output_type": "stream",
     "text": [
      "Pretty printing has been turned OFF\n"
     ]
    }
   ],
   "source": [
    "\n",
    "%pprint"
   ]
  },
  {
   "cell_type": "code",
   "execution_count": 2,
   "metadata": {},
   "outputs": [],
   "source": [
    "\n",
    "import sys\n",
    "\n",
    "# Insert at 1, 0 is the script path (or '' in REPL)\n",
    "sys.path.insert(1, '../py')\n",
    "\n",
    "from choropleth_utils import ChoroplethUtilities\n",
    "from stats_scraping_utils import StatsScrapingUtilities\n",
    "from storage import Storage\n",
    "import pandas as pd\n",
    "import re\n",
    "import os\n",
    "import numpy as np\n",
    "\n",
    "s = Storage()\n",
    "ssu = StatsScrapingUtilities(s=s)"
   ]
  },
  {
   "cell_type": "code",
   "execution_count": 52,
   "metadata": {},
   "outputs": [
    {
     "name": "stdout",
     "output_type": "stream",
     "text": [
      "Pickling to C:\\Users\\daveb\\OneDrive\\Documents\\GitHub\\StatsByCountry\\saves\\pkl\\all_countries_df.pkl\n"
     ]
    }
   ],
   "source": [
    "\n",
    "column_description_dict = s.load_object('column_description_dict')\n",
    "us_stats_df = s.load_object('us_stats_df')\n",
    "\n",
    "all_countries_df = s.load_object('all_countries_df').set_index('country_code', drop=True)\n",
    "all_countries_df.country_name = all_countries_df.country_name.map(lambda x: ssu.country_name_dict.get(x, x))\n",
    "s.store_objects(all_countries_df=all_countries_df.reset_index(drop=False))"
   ]
  },
  {
   "cell_type": "markdown",
   "metadata": {
    "tags": []
   },
   "source": [
    "\n",
    "----\n",
    "# Get State/Country Obesity Equivalents"
   ]
  },
  {
   "cell_type": "markdown",
   "metadata": {
    "jp-MarkdownHeadingCollapsed": true,
    "tags": []
   },
   "source": [
    "\n",
    "## Clean and prepare US States dataset"
   ]
  },
  {
   "cell_type": "code",
   "execution_count": 51,
   "metadata": {},
   "outputs": [
    {
     "name": "stdout",
     "output_type": "stream",
     "text": [
      "[(0, (56, 6)), (1, (24, 2)), (10, (11, 2)), (12, (11, 2)), (4, (9, 2)), (5, (8, 2)), (6, (6, 2)), (8, (4, 2)), (2, (3, 2)), (9, (3, 2)), (11, (2, 2)), (3, (1, 2)), (7, (1, 2))]\n"
     ]
    }
   ],
   "source": [
    "\n",
    "url = 'https://en.wikipedia.org/wiki/Obesity_in_the_United_States'\n",
    "tables_list = ssu.get_page_tables(url)"
   ]
  },
  {
   "cell_type": "code",
   "execution_count": 56,
   "metadata": {},
   "outputs": [
    {
     "data": {
      "text/html": [
       "<div>\n",
       "<style scoped>\n",
       "    .dataframe tbody tr th:only-of-type {\n",
       "        vertical-align: middle;\n",
       "    }\n",
       "\n",
       "    .dataframe tbody tr th {\n",
       "        vertical-align: top;\n",
       "    }\n",
       "\n",
       "    .dataframe thead th {\n",
       "        text-align: right;\n",
       "    }\n",
       "</style>\n",
       "<table border=\"1\" class=\"dataframe\">\n",
       "  <thead>\n",
       "    <tr style=\"text-align: right;\">\n",
       "      <th></th>\n",
       "      <th>state_name</th>\n",
       "      <th>obesity_rank</th>\n",
       "      <th>adults_obesity_rate_2005</th>\n",
       "      <th>adults_obesity_rate_2020</th>\n",
       "      <th>adults_overweight_rate_2005</th>\n",
       "      <th>children_and_adolescents_obesity_rate_2005</th>\n",
       "    </tr>\n",
       "  </thead>\n",
       "  <tbody>\n",
       "    <tr>\n",
       "      <th>19</th>\n",
       "      <td>Kentucky</td>\n",
       "      <td>8</td>\n",
       "      <td>28.4</td>\n",
       "      <td>34.3</td>\n",
       "      <td>66.8</td>\n",
       "      <td>20.6</td>\n",
       "    </tr>\n",
       "    <tr>\n",
       "      <th>0</th>\n",
       "      <td>Alabama</td>\n",
       "      <td>5</td>\n",
       "      <td>30.1</td>\n",
       "      <td>36.3</td>\n",
       "      <td>65.4</td>\n",
       "      <td>16.7</td>\n",
       "    </tr>\n",
       "    <tr>\n",
       "      <th>14</th>\n",
       "      <td>Idaho</td>\n",
       "      <td>32</td>\n",
       "      <td>24.6</td>\n",
       "      <td>29.3</td>\n",
       "      <td>61.4</td>\n",
       "      <td>10.1</td>\n",
       "    </tr>\n",
       "    <tr>\n",
       "      <th>35</th>\n",
       "      <td>North Carolina</td>\n",
       "      <td>20</td>\n",
       "      <td>27.1</td>\n",
       "      <td>32.1</td>\n",
       "      <td>63.4</td>\n",
       "      <td>19.3</td>\n",
       "    </tr>\n",
       "    <tr>\n",
       "      <th>45</th>\n",
       "      <td>South Dakota</td>\n",
       "      <td>22</td>\n",
       "      <td>26.1</td>\n",
       "      <td>31.9</td>\n",
       "      <td>64.2</td>\n",
       "      <td>12.1</td>\n",
       "    </tr>\n",
       "  </tbody>\n",
       "</table>\n",
       "</div>"
      ],
      "text/plain": [
       "        state_name obesity_rank  adults_obesity_rate_2005  \\\n",
       "19        Kentucky            8                      28.4   \n",
       "0          Alabama            5                      30.1   \n",
       "14           Idaho           32                      24.6   \n",
       "35  North Carolina           20                      27.1   \n",
       "45    South Dakota           22                      26.1   \n",
       "\n",
       "    adults_obesity_rate_2020  adults_overweight_rate_2005  \\\n",
       "19                      34.3                         66.8   \n",
       "0                       36.3                         65.4   \n",
       "14                      29.3                         61.4   \n",
       "35                      32.1                         63.4   \n",
       "45                      31.9                         64.2   \n",
       "\n",
       "    children_and_adolescents_obesity_rate_2005  \n",
       "19                                        20.6  \n",
       "0                                         16.7  \n",
       "14                                        10.1  \n",
       "35                                        19.3  \n",
       "45                                        12.1  "
      ]
     },
     "execution_count": 56,
     "metadata": {},
     "output_type": "execute_result"
    }
   ],
   "source": [
    "\n",
    "us_states_df = tables_list[0].copy()\n",
    "us_states_df.columns = ['state_name', 'obesity_rank', 'adults_obesity_rate_2005', 'adults_obesity_rate_2020',\n",
    "                                'adults_overweight_rate_2005', 'children_and_adolescents_obesity_rate_2005']\n",
    "def f(x):\n",
    "    rate_float = np.nan\n",
    "    rate_str = str(x)\n",
    "    if '%' in rate_str:\n",
    "        rate_float = float(rate_str.split('%')[0])\n",
    "    \n",
    "    return rate_float\n",
    "for cn in ['adults_obesity_rate_2005', 'adults_obesity_rate_2020',\n",
    "           'adults_overweight_rate_2005', 'children_and_adolescents_obesity_rate_2005']:\n",
    "    us_states_df[cn] = us_states_df[cn].map(f)\n",
    "us_states_df.sample(5)"
   ]
  },
  {
   "cell_type": "code",
   "execution_count": 57,
   "metadata": {},
   "outputs": [],
   "source": [
    "\n",
    "mask_series = (us_states_df.state_name == 'District of Columbia')\n",
    "us_states_df = us_states_df[~mask_series]"
   ]
  },
  {
   "cell_type": "code",
   "execution_count": 58,
   "metadata": {},
   "outputs": [
    {
     "name": "stdout",
     "output_type": "stream",
     "text": [
      "['American Samoa', 'District of Columbia', 'Guam', 'Northern Mariana Islands', 'Puerto Rico', 'Virgin Islands (U.S.)']\n"
     ]
    }
   ],
   "source": [
    "\n",
    "# Remove US states duplicates and misspellings\n",
    "states_list = sorted(set(us_states_df.state_name).symmetric_difference(set(ssu.us_stats_df.index)))\n",
    "print(states_list)\n",
    "doubles_df = ssu.check_4_doubles(states_list)\n",
    "mask_series = (doubles_df.max_similarity > 0.6)\n",
    "columns_list = ['first_item', 'second_item', 'max_similarity']\n",
    "if doubles_df[mask_series].shape[0]:\n",
    "    display(doubles_df[mask_series][columns_list].sort_values('max_similarity', ascending=False))\n",
    "mask_series = us_states_df.duplicated(subset=['state_name'], keep=False)\n",
    "if us_states_df[mask_series].shape[0]:\n",
    "    display(us_states_df[mask_series])"
   ]
  },
  {
   "cell_type": "code",
   "execution_count": 60,
   "metadata": {},
   "outputs": [
    {
     "name": "stdout",
     "output_type": "stream",
     "text": [
      "Pickling to C:\\Users\\daveb\\OneDrive\\Documents\\GitHub\\StatsByCountry\\saves\\pkl\\obesity_us_states_df.pkl\n"
     ]
    }
   ],
   "source": [
    "\n",
    "s.store_objects(obesity_us_states_df=us_states_df)"
   ]
  },
  {
   "cell_type": "markdown",
   "metadata": {
    "jp-MarkdownHeadingCollapsed": true,
    "tags": []
   },
   "source": [
    "\n",
    "## Clean and prepare Countries dataset"
   ]
  },
  {
   "cell_type": "code",
   "execution_count": 61,
   "metadata": {},
   "outputs": [
    {
     "name": "stdout",
     "output_type": "stream",
     "text": [
      "[(0, (191, 3)), (1, (12, 2))]\n"
     ]
    }
   ],
   "source": [
    "\n",
    "url = 'https://en.wikipedia.org/wiki/List_of_countries_by_obesity_rate'\n",
    "# driver = ssu.get_driver()\n",
    "tables_list = ssu.get_page_tables(url, driver=None)\n",
    "# driver.close()"
   ]
  },
  {
   "cell_type": "code",
   "execution_count": 62,
   "metadata": {},
   "outputs": [
    {
     "data": {
      "text/html": [
       "<div>\n",
       "<style scoped>\n",
       "    .dataframe tbody tr th:only-of-type {\n",
       "        vertical-align: middle;\n",
       "    }\n",
       "\n",
       "    .dataframe tbody tr th {\n",
       "        vertical-align: top;\n",
       "    }\n",
       "\n",
       "    .dataframe thead th {\n",
       "        text-align: right;\n",
       "    }\n",
       "</style>\n",
       "<table border=\"1\" class=\"dataframe\">\n",
       "  <thead>\n",
       "    <tr style=\"text-align: right;\">\n",
       "      <th></th>\n",
       "      <th>country_name</th>\n",
       "      <th>obesity_rank</th>\n",
       "      <th>obesity_rate_2016</th>\n",
       "    </tr>\n",
       "  </thead>\n",
       "  <tbody>\n",
       "    <tr>\n",
       "      <th>8</th>\n",
       "      <td>Kiribati</td>\n",
       "      <td>9</td>\n",
       "      <td>46.0</td>\n",
       "    </tr>\n",
       "    <tr>\n",
       "      <th>25</th>\n",
       "      <td>Canada</td>\n",
       "      <td>26</td>\n",
       "      <td>29.4</td>\n",
       "    </tr>\n",
       "    <tr>\n",
       "      <th>1</th>\n",
       "      <td>Cook Islands</td>\n",
       "      <td>2</td>\n",
       "      <td>55.9</td>\n",
       "    </tr>\n",
       "    <tr>\n",
       "      <th>136</th>\n",
       "      <td>Mauritius</td>\n",
       "      <td>137</td>\n",
       "      <td>10.8</td>\n",
       "    </tr>\n",
       "    <tr>\n",
       "      <th>155</th>\n",
       "      <td>Equatorial Guinea</td>\n",
       "      <td>156</td>\n",
       "      <td>8.0</td>\n",
       "    </tr>\n",
       "  </tbody>\n",
       "</table>\n",
       "</div>"
      ],
      "text/plain": [
       "          country_name  obesity_rank  obesity_rate_2016\n",
       "8             Kiribati             9               46.0\n",
       "25              Canada            26               29.4\n",
       "1         Cook Islands             2               55.9\n",
       "136          Mauritius           137               10.8\n",
       "155  Equatorial Guinea           156                8.0"
      ]
     },
     "execution_count": 62,
     "metadata": {},
     "output_type": "execute_result"
    }
   ],
   "source": [
    "\n",
    "countries_df = tables_list[0].copy()\n",
    "countries_df.columns = ['country_name', 'obesity_rank', 'obesity_rate_2016']\n",
    "countries_df.obesity_rate_2016 = countries_df.obesity_rate_2016.map(lambda x: float(x))\n",
    "countries_df.sample(5)"
   ]
  },
  {
   "cell_type": "code",
   "execution_count": 63,
   "metadata": {},
   "outputs": [
    {
     "data": {
      "text/html": [
       "<div>\n",
       "<style scoped>\n",
       "    .dataframe tbody tr th:only-of-type {\n",
       "        vertical-align: middle;\n",
       "    }\n",
       "\n",
       "    .dataframe tbody tr th {\n",
       "        vertical-align: top;\n",
       "    }\n",
       "\n",
       "    .dataframe thead th {\n",
       "        text-align: right;\n",
       "    }\n",
       "</style>\n",
       "<table border=\"1\" class=\"dataframe\">\n",
       "  <thead>\n",
       "    <tr style=\"text-align: right;\">\n",
       "      <th></th>\n",
       "      <th>first_item</th>\n",
       "      <th>second_item</th>\n",
       "      <th>max_similarity</th>\n",
       "    </tr>\n",
       "  </thead>\n",
       "  <tbody>\n",
       "    <tr>\n",
       "      <th>8</th>\n",
       "      <td>British Virgin Islands</td>\n",
       "      <td>US Virgin Islands</td>\n",
       "      <td>0.769231</td>\n",
       "    </tr>\n",
       "    <tr>\n",
       "      <th>10</th>\n",
       "      <td>Cayman Islands</td>\n",
       "      <td>Åland Islands</td>\n",
       "      <td>0.740741</td>\n",
       "    </tr>\n",
       "    <tr>\n",
       "      <th>48</th>\n",
       "      <td>Sint Maarten</td>\n",
       "      <td>St. Martin</td>\n",
       "      <td>0.727273</td>\n",
       "    </tr>\n",
       "    <tr>\n",
       "      <th>24</th>\n",
       "      <td>Guernsey</td>\n",
       "      <td>Jersey</td>\n",
       "      <td>0.714286</td>\n",
       "    </tr>\n",
       "    <tr>\n",
       "      <th>47</th>\n",
       "      <td>San Marino</td>\n",
       "      <td>St. Martin</td>\n",
       "      <td>0.700000</td>\n",
       "    </tr>\n",
       "    <tr>\n",
       "      <th>6</th>\n",
       "      <td>Bouvet Island</td>\n",
       "      <td>Faroe Islands</td>\n",
       "      <td>0.692308</td>\n",
       "    </tr>\n",
       "    <tr>\n",
       "      <th>16</th>\n",
       "      <td>Faroe Islands</td>\n",
       "      <td>Åland Islands</td>\n",
       "      <td>0.692308</td>\n",
       "    </tr>\n",
       "    <tr>\n",
       "      <th>17</th>\n",
       "      <td>French Guiana</td>\n",
       "      <td>French Polynesia</td>\n",
       "      <td>0.620690</td>\n",
       "    </tr>\n",
       "  </tbody>\n",
       "</table>\n",
       "</div>"
      ],
      "text/plain": [
       "                first_item        second_item  max_similarity\n",
       "8   British Virgin Islands  US Virgin Islands        0.769231\n",
       "10          Cayman Islands      Åland Islands        0.740741\n",
       "48            Sint Maarten         St. Martin        0.727273\n",
       "24                Guernsey             Jersey        0.714286\n",
       "47              San Marino         St. Martin        0.700000\n",
       "6            Bouvet Island      Faroe Islands        0.692308\n",
       "16           Faroe Islands      Åland Islands        0.692308\n",
       "17           French Guiana   French Polynesia        0.620690"
      ]
     },
     "metadata": {},
     "output_type": "display_data"
    }
   ],
   "source": [
    "\n",
    "# Remove country duplicates and misspellings\n",
    "countries_df.country_name = countries_df.country_name.map(lambda x: ssu.country_name_dict.get(x, x))\n",
    "countries_list = sorted(set(countries_df.country_name).symmetric_difference(set(all_countries_df.country_name)))\n",
    "doubles_df = ssu.check_4_doubles(countries_list)\n",
    "mask_series = (doubles_df.max_similarity > 0.6)\n",
    "columns_list = ['first_item', 'second_item', 'max_similarity']\n",
    "if doubles_df[mask_series].shape[0]:\n",
    "    display(doubles_df[mask_series][columns_list].sort_values('max_similarity', ascending=False))\n",
    "mask_series = countries_df.duplicated(subset=['country_name'], keep=False)\n",
    "if countries_df[mask_series].shape[0]:\n",
    "    display(countries_df[mask_series])"
   ]
  },
  {
   "cell_type": "code",
   "execution_count": 64,
   "metadata": {},
   "outputs": [
    {
     "name": "stdout",
     "output_type": "stream",
     "text": [
      "Pickling to C:\\Users\\daveb\\OneDrive\\Documents\\GitHub\\StatsByCountry\\saves\\pkl\\obesity_countries_df.pkl\n"
     ]
    }
   ],
   "source": [
    "\n",
    "s.store_objects(obesity_countries_df=countries_df)"
   ]
  },
  {
   "cell_type": "markdown",
   "metadata": {
    "jp-MarkdownHeadingCollapsed": true,
    "tags": []
   },
   "source": [
    "\n",
    "## Prepare for and Create Choropleth"
   ]
  },
  {
   "cell_type": "code",
   "execution_count": 34,
   "metadata": {},
   "outputs": [],
   "source": [
    "\n",
    "state_to_country_equivalent_dict, country_to_state_equivalent_dict = ssu.get_country_state_equivalents(countries_df, 'country_name',\n",
    "                                                                                                       'obesity_rate_2016',\n",
    "                                                                                                       us_states_df, 'state_name',\n",
    "                                                                                                       'adults_obesity_rate_2005',\n",
    "                                                                                                       verbose=False)\n",
    "state_to_country_equivalent_dict, country_to_state_equivalent_dict = ssu.get_country_state_equivalents(\n",
    "    countries_df, 'country_name', countries_target_column_name,\n",
    "    us_states_df, 'state_name', states_target_column_name,\n",
    "    cn_col_explanation=None, st_col_explanation=None,\n",
    "    countries_set=None, states_set=None, verbose=False)"
   ]
  },
  {
   "cell_type": "code",
   "execution_count": 38,
   "metadata": {},
   "outputs": [],
   "source": [
    "\n",
    "column_description_dict['adults_obesity_rate_2020'] = 'Obese adults (2020)'\n",
    "column_description_dict['adults_obesity_rate_2005'] = 'Obese adults (mid-2000s)'\n",
    "s.store_objects(column_description_dict=column_description_dict)\n",
    "us_stats_df['Country_Equivalent_Obesity'] = us_stats_df.index.map(lambda x: state_to_country_equivalent_dict.get(x, x))"
   ]
  },
  {
   "cell_type": "code",
   "execution_count": 39,
   "metadata": {},
   "outputs": [],
   "source": [
    "\n",
    "obesity_dict = us_states_df.set_index('state_name').adults_obesity_rate_2020.to_dict()\n",
    "obesity_min = us_states_df.adults_obesity_rate_2020.min()\n",
    "us_stats_df['adults_obesity_rate_2020'] = us_stats_df.index.map(lambda x: obesity_dict.get(x, obesity_min))"
   ]
  },
  {
   "cell_type": "code",
   "execution_count": 40,
   "metadata": {},
   "outputs": [],
   "source": [
    "\n",
    "obesity_dict = us_states_df.set_index('state_name').adults_obesity_rate_2005.to_dict()\n",
    "obesity_min = us_states_df.adults_obesity_rate_2005.min()\n",
    "us_stats_df['adults_obesity_rate_2005'] = us_stats_df.index.map(lambda x: obesity_dict.get(x, obesity_min))"
   ]
  },
  {
   "cell_type": "markdown",
   "metadata": {
    "jp-MarkdownHeadingCollapsed": true,
    "tags": []
   },
   "source": [
    "\n",
    "---\n",
    "## Choropleth"
   ]
  },
  {
   "cell_type": "code",
   "execution_count": 41,
   "metadata": {},
   "outputs": [
    {
     "name": "stdout",
     "output_type": "stream",
     "text": [
      "C:\\Users\\daveb\\OneDrive\\Documents\\GitHub\\StatsByCountry\\saves\\svg\\US_adults_obesity_rate_2005_Country_Equivalent_Obesity.svg\n"
     ]
    }
   ],
   "source": [
    "\n",
    "c.create_label_line_file()\n",
    "numeric_column_name = 'adults_obesity_rate_2005'\n",
    "string_column_name = 'Country_Equivalent_Obesity'\n",
    "svg_file_path = c.create_country_colored_labeled_map(numeric_column_name=numeric_column_name,\n",
    "                                                     string_column_name=string_column_name,\n",
    "                                                     one_country_df=us_stats_df)\n",
    "print(os.path.abspath(svg_file_path))"
   ]
  },
  {
   "cell_type": "code",
   "execution_count": null,
   "metadata": {},
   "outputs": [],
   "source": []
  }
 ],
 "metadata": {
  "kernelspec": {
   "display_name": "Python 3 (ipykernel)",
   "language": "python",
   "name": "python3"
  },
  "language_info": {
   "codemirror_mode": {
    "name": "ipython",
    "version": 3
   },
   "file_extension": ".py",
   "mimetype": "text/x-python",
   "name": "python",
   "nbconvert_exporter": "python",
   "pygments_lexer": "ipython3",
   "version": "3.9.7"
  }
 },
 "nbformat": 4,
 "nbformat_minor": 4
}

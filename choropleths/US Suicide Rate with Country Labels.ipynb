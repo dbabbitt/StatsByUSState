{
 "cells": [
  {
   "cell_type": "markdown",
   "metadata": {
    "jp-MarkdownHeadingCollapsed": true,
    "tags": []
   },
   "source": [
    "\n",
    "# Set up the notebook"
   ]
  },
  {
   "cell_type": "code",
   "execution_count": 1,
   "metadata": {},
   "outputs": [
    {
     "name": "stdout",
     "output_type": "stream",
     "text": [
      "Pretty printing has been turned OFF\n"
     ]
    }
   ],
   "source": [
    "\n",
    "%pprint"
   ]
  },
  {
   "cell_type": "code",
   "execution_count": 2,
   "metadata": {},
   "outputs": [],
   "source": [
    "\n",
    "import sys\n",
    "\n",
    "# Insert at 1, 0 is the script path (or '' in REPL)\n",
    "sys.path.insert(1, '../py')\n",
    "\n",
    "from choropleth_utils import ChoroplethUtilities\n",
    "from stats_scraping_utils import StatsScrapingUtilities\n",
    "from storage import Storage\n",
    "import pandas as pd\n",
    "import re\n",
    "import os\n",
    "import numpy as np\n",
    "\n",
    "s = Storage()\n",
    "ssu = StatsScrapingUtilities(s=s)"
   ]
  },
  {
   "cell_type": "code",
   "execution_count": 52,
   "metadata": {},
   "outputs": [
    {
     "name": "stdout",
     "output_type": "stream",
     "text": [
      "Pickling to C:\\Users\\daveb\\OneDrive\\Documents\\GitHub\\StatsByCountry\\saves\\pkl\\all_countries_df.pkl\n"
     ]
    }
   ],
   "source": [
    "\n",
    "column_description_dict = s.load_object('column_description_dict')\n",
    "us_stats_df = s.load_object('us_stats_df')\n",
    "\n",
    "all_countries_df = s.load_object('all_countries_df').set_index('country_code', drop=True)\n",
    "all_countries_df.country_name = all_countries_df.country_name.map(lambda x: ssu.country_name_dict.get(x, x))\n",
    "s.store_objects(all_countries_df=all_countries_df.reset_index(drop=False))"
   ]
  },
  {
   "cell_type": "markdown",
   "metadata": {
    "tags": []
   },
   "source": [
    "\n",
    "----\n",
    "# Get State/Country Suicide Rate Equivalents"
   ]
  },
  {
   "cell_type": "markdown",
   "metadata": {
    "jp-MarkdownHeadingCollapsed": true,
    "tags": []
   },
   "source": [
    "\n",
    "## Clean and prepare US States dataset"
   ]
  },
  {
   "cell_type": "code",
   "execution_count": 4,
   "metadata": {},
   "outputs": [
    {
     "name": "stdout",
     "output_type": "stream",
     "text": [
      "No tables found\n",
      "[]\n"
     ]
    }
   ],
   "source": [
    "\n",
    "url = 'https://www.cdc.gov/nchs/pressroom/sosmap/suicide-mortality/suicide.htm'\n",
    "tables_list = ssu.get_page_tables(url)\n",
    "if not tables_list:\n",
    "    tables_list = [pd.read_csv('../data/csv/suicide_2019.csv', encoding=s.encoding_type)]"
   ]
  },
  {
   "cell_type": "code",
   "execution_count": 5,
   "metadata": {},
   "outputs": [
    {
     "name": "stdout",
     "output_type": "stream",
     "text": [
      "['YEAR', 'STATE', 'RATE', 'DEATHS', 'URL']\n"
     ]
    },
    {
     "data": {
      "text/html": [
       "<div>\n",
       "<style scoped>\n",
       "    .dataframe tbody tr th:only-of-type {\n",
       "        vertical-align: middle;\n",
       "    }\n",
       "\n",
       "    .dataframe tbody tr th {\n",
       "        vertical-align: top;\n",
       "    }\n",
       "\n",
       "    .dataframe thead th {\n",
       "        text-align: right;\n",
       "    }\n",
       "</style>\n",
       "<table border=\"1\" class=\"dataframe\">\n",
       "  <thead>\n",
       "    <tr style=\"text-align: right;\">\n",
       "      <th></th>\n",
       "      <th>82</th>\n",
       "      <th>71</th>\n",
       "      <th>54</th>\n",
       "      <th>67</th>\n",
       "      <th>57</th>\n",
       "    </tr>\n",
       "  </thead>\n",
       "  <tbody>\n",
       "    <tr>\n",
       "      <th>source_year</th>\n",
       "      <td>2019</td>\n",
       "      <td>2019</td>\n",
       "      <td>2019</td>\n",
       "      <td>2019</td>\n",
       "      <td>2019</td>\n",
       "    </tr>\n",
       "    <tr>\n",
       "      <th>state_abbreviation</th>\n",
       "      <td>NC</td>\n",
       "      <td>MI</td>\n",
       "      <td>CA</td>\n",
       "      <td>LA</td>\n",
       "      <td>DE</td>\n",
       "    </tr>\n",
       "    <tr>\n",
       "      <th>suicide_rate</th>\n",
       "      <td>12.5</td>\n",
       "      <td>14.3</td>\n",
       "      <td>10.7</td>\n",
       "      <td>15.0</td>\n",
       "      <td>11.3</td>\n",
       "    </tr>\n",
       "    <tr>\n",
       "      <th>body_count</th>\n",
       "      <td>1358</td>\n",
       "      <td>1472</td>\n",
       "      <td>4436</td>\n",
       "      <td>704</td>\n",
       "      <td>111</td>\n",
       "    </tr>\n",
       "    <tr>\n",
       "      <th>source_url</th>\n",
       "      <td>https://www.cdc.gov/nchs/pressroom/states/nort...</td>\n",
       "      <td>https://www.cdc.gov/nchs/pressroom/states/mich...</td>\n",
       "      <td>https://www.cdc.gov/nchs/pressroom/states/cali...</td>\n",
       "      <td>https://www.cdc.gov/nchs/pressroom/states/loui...</td>\n",
       "      <td>https://www.cdc.gov/nchs/pressroom/states/dela...</td>\n",
       "    </tr>\n",
       "    <tr>\n",
       "      <th>state_name</th>\n",
       "      <td>North Carolina</td>\n",
       "      <td>Michigan</td>\n",
       "      <td>California</td>\n",
       "      <td>Louisiana</td>\n",
       "      <td>Delaware</td>\n",
       "    </tr>\n",
       "  </tbody>\n",
       "</table>\n",
       "</div>"
      ],
      "text/plain": [
       "                                                                   82  \\\n",
       "source_year                                                      2019   \n",
       "state_abbreviation                                                 NC   \n",
       "suicide_rate                                                     12.5   \n",
       "body_count                                                       1358   \n",
       "source_url          https://www.cdc.gov/nchs/pressroom/states/nort...   \n",
       "state_name                                             North Carolina   \n",
       "\n",
       "                                                                   71  \\\n",
       "source_year                                                      2019   \n",
       "state_abbreviation                                                 MI   \n",
       "suicide_rate                                                     14.3   \n",
       "body_count                                                       1472   \n",
       "source_url          https://www.cdc.gov/nchs/pressroom/states/mich...   \n",
       "state_name                                                   Michigan   \n",
       "\n",
       "                                                                   54  \\\n",
       "source_year                                                      2019   \n",
       "state_abbreviation                                                 CA   \n",
       "suicide_rate                                                     10.7   \n",
       "body_count                                                       4436   \n",
       "source_url          https://www.cdc.gov/nchs/pressroom/states/cali...   \n",
       "state_name                                                 California   \n",
       "\n",
       "                                                                   67  \\\n",
       "source_year                                                      2019   \n",
       "state_abbreviation                                                 LA   \n",
       "suicide_rate                                                     15.0   \n",
       "body_count                                                        704   \n",
       "source_url          https://www.cdc.gov/nchs/pressroom/states/loui...   \n",
       "state_name                                                  Louisiana   \n",
       "\n",
       "                                                                   57  \n",
       "source_year                                                      2019  \n",
       "state_abbreviation                                                 DE  \n",
       "suicide_rate                                                     11.3  \n",
       "body_count                                                        111  \n",
       "source_url          https://www.cdc.gov/nchs/pressroom/states/dela...  \n",
       "state_name                                                   Delaware  "
      ]
     },
     "execution_count": 5,
     "metadata": {},
     "output_type": "execute_result"
    }
   ],
   "source": [
    "\n",
    "us_states_df = tables_list[0].copy()\n",
    "print(us_states_df.columns.tolist())\n",
    "us_states_df.columns = ['source_year', 'state_abbreviation', 'suicide_rate', 'body_count', 'source_url']\n",
    "for cn in ['source_year', 'suicide_rate', 'body_count']:\n",
    "    us_states_df[cn] = us_states_df[cn].map(lambda x: re.sub(r'[^0-9\\.]+', '', str(x)))\n",
    "    us_states_df[cn] = pd.to_numeric(us_states_df[cn], errors='coerce', downcast='integer')\n",
    "abbreviation_dict = {v: k for k, v in ssu.us_states_abbreviation_dict.items()}\n",
    "mask_series = us_states_df.state_abbreviation.isnull()\n",
    "us_states_df = us_states_df[~mask_series]\n",
    "us_states_df['state_name'] = us_states_df.state_abbreviation.map(lambda x: abbreviation_dict.get(x, x))\n",
    "mask_series = (us_states_df.source_year == 2019)\n",
    "us_states_df = us_states_df[mask_series]\n",
    "us_states_df.sample(5).T"
   ]
  },
  {
   "cell_type": "code",
   "execution_count": 6,
   "metadata": {},
   "outputs": [
    {
     "name": "stdout",
     "output_type": "stream",
     "text": [
      "['District of Columbia']\n"
     ]
    }
   ],
   "source": [
    "\n",
    "# Remove US states duplicates and misspellings\n",
    "states_list = sorted(set(us_states_df.state_name).symmetric_difference(set(ssu.us_stats_df.index)))\n",
    "print(states_list)\n",
    "doubles_df = ssu.check_4_doubles(states_list)\n",
    "mask_series = (doubles_df.max_similarity > 0.6)\n",
    "columns_list = ['first_item', 'second_item', 'max_similarity']\n",
    "if doubles_df[mask_series].shape[0]:\n",
    "    display(doubles_df[mask_series][columns_list].sort_values('max_similarity', ascending=False))\n",
    "mask_series = us_states_df.duplicated(subset=['state_name'], keep=False)\n",
    "if us_states_df[mask_series].shape[0]:\n",
    "    display(us_states_df[mask_series])"
   ]
  },
  {
   "cell_type": "markdown",
   "metadata": {
    "jp-MarkdownHeadingCollapsed": true,
    "tags": []
   },
   "source": [
    "\n",
    "## Clean and prepare Countries dataset"
   ]
  },
  {
   "cell_type": "code",
   "execution_count": 7,
   "metadata": {},
   "outputs": [
    {
     "name": "stdout",
     "output_type": "stream",
     "text": [
      "[(1, (190, 4)), (2, (184, 21)), (3, (184, 21)), (4, (184, 21)), (6, (112, 5)), (7, (12, 2)), (0, (10, 1)), (9, (8, 2)), (8, (6, 2)), (5, (5, 5))]\n"
     ]
    }
   ],
   "source": [
    "\n",
    "url = 'https://en.wikipedia.org/wiki/List_of_countries_by_suicide_rate'\n",
    "tables_list = ssu.get_page_tables(url)"
   ]
  },
  {
   "cell_type": "code",
   "execution_count": 8,
   "metadata": {},
   "outputs": [
    {
     "name": "stdout",
     "output_type": "stream",
     "text": [
      "['Country', 'All', 'Male', 'Female']\n"
     ]
    },
    {
     "data": {
      "text/html": [
       "<div>\n",
       "<style scoped>\n",
       "    .dataframe tbody tr th:only-of-type {\n",
       "        vertical-align: middle;\n",
       "    }\n",
       "\n",
       "    .dataframe tbody tr th {\n",
       "        vertical-align: top;\n",
       "    }\n",
       "\n",
       "    .dataframe thead th {\n",
       "        text-align: right;\n",
       "    }\n",
       "</style>\n",
       "<table border=\"1\" class=\"dataframe\">\n",
       "  <thead>\n",
       "    <tr style=\"text-align: right;\">\n",
       "      <th></th>\n",
       "      <th>0</th>\n",
       "      <th>1</th>\n",
       "      <th>2</th>\n",
       "      <th>3</th>\n",
       "      <th>4</th>\n",
       "      <th>5</th>\n",
       "      <th>6</th>\n",
       "      <th>7</th>\n",
       "      <th>8</th>\n",
       "    </tr>\n",
       "  </thead>\n",
       "  <tbody>\n",
       "    <tr>\n",
       "      <th>country_name</th>\n",
       "      <td>Afghanistan</td>\n",
       "      <td>Albania</td>\n",
       "      <td>Algeria</td>\n",
       "      <td>Angola</td>\n",
       "      <td>Antigua and Barbuda</td>\n",
       "      <td>Argentina</td>\n",
       "      <td>Armenia</td>\n",
       "      <td>Australia</td>\n",
       "      <td>Austria</td>\n",
       "    </tr>\n",
       "    <tr>\n",
       "      <th>suicide_rate</th>\n",
       "      <td>6.0</td>\n",
       "      <td>3.7</td>\n",
       "      <td>2.6</td>\n",
       "      <td>12.6</td>\n",
       "      <td>0.3</td>\n",
       "      <td>8.1</td>\n",
       "      <td>2.7</td>\n",
       "      <td>11.3</td>\n",
       "      <td>10.4</td>\n",
       "    </tr>\n",
       "    <tr>\n",
       "      <th>male_suicide_rate</th>\n",
       "      <td>6.2</td>\n",
       "      <td>5.3</td>\n",
       "      <td>3.3</td>\n",
       "      <td>21.700001</td>\n",
       "      <td>0.0</td>\n",
       "      <td>13.5</td>\n",
       "      <td>4.9</td>\n",
       "      <td>17.0</td>\n",
       "      <td>16.6</td>\n",
       "    </tr>\n",
       "    <tr>\n",
       "      <th>female_suicide_rate</th>\n",
       "      <td>5.7</td>\n",
       "      <td>2.2</td>\n",
       "      <td>1.9</td>\n",
       "      <td>4.7</td>\n",
       "      <td>0.6</td>\n",
       "      <td>3.3</td>\n",
       "      <td>1.0</td>\n",
       "      <td>5.6</td>\n",
       "      <td>4.6</td>\n",
       "    </tr>\n",
       "  </tbody>\n",
       "</table>\n",
       "</div>"
      ],
      "text/plain": [
       "                               0        1        2          3  \\\n",
       "country_name         Afghanistan  Albania  Algeria     Angola   \n",
       "suicide_rate                 6.0      3.7      2.6       12.6   \n",
       "male_suicide_rate            6.2      5.3      3.3  21.700001   \n",
       "female_suicide_rate          5.7      2.2      1.9        4.7   \n",
       "\n",
       "                                       4          5        6          7  \\\n",
       "country_name         Antigua and Barbuda  Argentina  Armenia  Australia   \n",
       "suicide_rate                         0.3        8.1      2.7       11.3   \n",
       "male_suicide_rate                    0.0       13.5      4.9       17.0   \n",
       "female_suicide_rate                  0.6        3.3      1.0        5.6   \n",
       "\n",
       "                           8  \n",
       "country_name         Austria  \n",
       "suicide_rate            10.4  \n",
       "male_suicide_rate       16.6  \n",
       "female_suicide_rate      4.6  "
      ]
     },
     "execution_count": 8,
     "metadata": {},
     "output_type": "execute_result"
    }
   ],
   "source": [
    "\n",
    "countries_df = tables_list[1].copy()\n",
    "print(countries_df.columns.tolist())\n",
    "columns_list = ['suicide_rate', 'male_suicide_rate', 'female_suicide_rate']\n",
    "countries_df.columns = ['country_name'] + columns_list\n",
    "for cn in columns_list:\n",
    "    countries_df[cn] = countries_df[cn].map(lambda x: re.sub(r'[^0-9\\.]+', '', str(x)))\n",
    "    countries_df[cn] = pd.to_numeric(countries_df[cn], errors='coerce', downcast='float')\n",
    "mask_series = countries_df.country_name.isnull()\n",
    "countries_df = countries_df[~mask_series]\n",
    "countries_df.country_name = countries_df.country_name.map(lambda x: str(x).split('*')[0].strip())\n",
    "countries_df.head(9).T"
   ]
  },
  {
   "cell_type": "code",
   "execution_count": 9,
   "metadata": {},
   "outputs": [
    {
     "name": "stdout",
     "output_type": "stream",
     "text": [
      "['Africa', 'American Samoa', 'Americas', 'Andorra', 'Anguilla', 'Antarctica', 'Aruba', 'Bermuda', 'Bonaire, Sint Eustatius & Saba', 'Bouvet Island', 'British Indian Ocean Territory', 'British Virgin Islands', 'Cape Verde', 'Cayman Islands', 'Christmas Island', 'Cocos (Keeling) Islands', 'Cook Islands', 'Curaçao', \"Côte d'Ivoire\", 'Dominica', 'East Timor', 'Eastern Mediterranean', 'Europe', 'Falkland Islands (Malvinas)', 'Faroe Islands', 'Federated States of Micronesia', 'French Guiana', 'French Polynesia', 'French Southern Territories', 'Gibraltar', 'Global', 'Greenland', 'Guadeloupe', 'Guam', 'Guernsey', 'Heard Island and McDonald Islands', 'Holy See', 'Hong Kong', 'Isle of Man', 'Ivory Coast', 'Jersey', 'Liechtenstein', 'Macau', 'Marshall Islands', 'Martinique', 'Mayotte', 'Micronesia', 'Monaco', 'Montserrat', 'Nauru', 'New Caledonia', 'Niue', 'Norfolk Island', 'Northern Mariana Islands', 'Palau', 'Palestine', 'Pitcairn', 'Puerto Rico', 'ROC', 'Réunion', 'Saint Helena, Ascension & Tristan da Cunha', 'San Marino', 'Sint Maarten', 'South Georgia and the South Sandwich Islands', 'South-East Asia', 'St. Barthélemy', 'St. Kitts & Nevis', 'St. Martin', 'St. Pierre & Miquelon', 'Svalbard and Jan Mayen', 'Taiwan', 'Timor-Leste', 'Tokelau', 'Turks & Caicos Islands', 'Tuvalu', 'US Virgin Islands', 'United States Minor Outlying Islands', 'Wallis & Futuna', 'Western Pacific', 'Western Sahara', 'Åland Islands']\n"
     ]
    },
    {
     "data": {
      "text/html": [
       "<div>\n",
       "<style scoped>\n",
       "    .dataframe tbody tr th:only-of-type {\n",
       "        vertical-align: middle;\n",
       "    }\n",
       "\n",
       "    .dataframe tbody tr th {\n",
       "        vertical-align: top;\n",
       "    }\n",
       "\n",
       "    .dataframe thead th {\n",
       "        text-align: right;\n",
       "    }\n",
       "</style>\n",
       "<table border=\"1\" class=\"dataframe\">\n",
       "  <thead>\n",
       "    <tr style=\"text-align: right;\">\n",
       "      <th></th>\n",
       "      <th>first_item</th>\n",
       "      <th>second_item</th>\n",
       "      <th>max_similarity</th>\n",
       "    </tr>\n",
       "  </thead>\n",
       "  <tbody>\n",
       "    <tr>\n",
       "      <th>11</th>\n",
       "      <td>British Virgin Islands</td>\n",
       "      <td>US Virgin Islands</td>\n",
       "      <td>0.769231</td>\n",
       "    </tr>\n",
       "    <tr>\n",
       "      <th>16</th>\n",
       "      <td>Cook Islands</td>\n",
       "      <td>Norfolk Island</td>\n",
       "      <td>0.769231</td>\n",
       "    </tr>\n",
       "    <tr>\n",
       "      <th>13</th>\n",
       "      <td>Cayman Islands</td>\n",
       "      <td>Åland Islands</td>\n",
       "      <td>0.740741</td>\n",
       "    </tr>\n",
       "    <tr>\n",
       "      <th>62</th>\n",
       "      <td>Sint Maarten</td>\n",
       "      <td>St. Martin</td>\n",
       "      <td>0.727273</td>\n",
       "    </tr>\n",
       "    <tr>\n",
       "      <th>0</th>\n",
       "      <td>Africa</td>\n",
       "      <td>Americas</td>\n",
       "      <td>0.714286</td>\n",
       "    </tr>\n",
       "    <tr>\n",
       "      <th>34</th>\n",
       "      <td>Guernsey</td>\n",
       "      <td>Jersey</td>\n",
       "      <td>0.714286</td>\n",
       "    </tr>\n",
       "    <tr>\n",
       "      <th>61</th>\n",
       "      <td>San Marino</td>\n",
       "      <td>St. Martin</td>\n",
       "      <td>0.700000</td>\n",
       "    </tr>\n",
       "    <tr>\n",
       "      <th>9</th>\n",
       "      <td>Bouvet Island</td>\n",
       "      <td>Faroe Islands</td>\n",
       "      <td>0.692308</td>\n",
       "    </tr>\n",
       "    <tr>\n",
       "      <th>24</th>\n",
       "      <td>Faroe Islands</td>\n",
       "      <td>Åland Islands</td>\n",
       "      <td>0.692308</td>\n",
       "    </tr>\n",
       "    <tr>\n",
       "      <th>1</th>\n",
       "      <td>American Samoa</td>\n",
       "      <td>Americas</td>\n",
       "      <td>0.636364</td>\n",
       "    </tr>\n",
       "    <tr>\n",
       "      <th>15</th>\n",
       "      <td>Cocos (Keeling) Islands</td>\n",
       "      <td>Cook Islands</td>\n",
       "      <td>0.628571</td>\n",
       "    </tr>\n",
       "    <tr>\n",
       "      <th>26</th>\n",
       "      <td>French Guiana</td>\n",
       "      <td>French Polynesia</td>\n",
       "      <td>0.620690</td>\n",
       "    </tr>\n",
       "    <tr>\n",
       "      <th>43</th>\n",
       "      <td>Marshall Islands</td>\n",
       "      <td>Åland Islands</td>\n",
       "      <td>0.620690</td>\n",
       "    </tr>\n",
       "    <tr>\n",
       "      <th>78</th>\n",
       "      <td>Western Pacific</td>\n",
       "      <td>Western Sahara</td>\n",
       "      <td>0.620690</td>\n",
       "    </tr>\n",
       "  </tbody>\n",
       "</table>\n",
       "</div>"
      ],
      "text/plain": [
       "                 first_item        second_item  max_similarity\n",
       "11   British Virgin Islands  US Virgin Islands        0.769231\n",
       "16             Cook Islands     Norfolk Island        0.769231\n",
       "13           Cayman Islands      Åland Islands        0.740741\n",
       "62             Sint Maarten         St. Martin        0.727273\n",
       "0                    Africa           Americas        0.714286\n",
       "34                 Guernsey             Jersey        0.714286\n",
       "61               San Marino         St. Martin        0.700000\n",
       "9             Bouvet Island      Faroe Islands        0.692308\n",
       "24            Faroe Islands      Åland Islands        0.692308\n",
       "1            American Samoa           Americas        0.636364\n",
       "15  Cocos (Keeling) Islands       Cook Islands        0.628571\n",
       "26            French Guiana   French Polynesia        0.620690\n",
       "43         Marshall Islands      Åland Islands        0.620690\n",
       "78          Western Pacific     Western Sahara        0.620690"
      ]
     },
     "metadata": {},
     "output_type": "display_data"
    }
   ],
   "source": [
    "\n",
    "# Remove country duplicates and misspellings\n",
    "countries_df.country_name = countries_df.country_name.map(lambda x: ssu.country_name_dict.get(x, x))\n",
    "countries_list = sorted(set(countries_df.country_name).symmetric_difference(set(all_countries_df.country_name)))\n",
    "if countries_list:\n",
    "    print(countries_list)\n",
    "doubles_df = ssu.check_4_doubles(countries_list)\n",
    "mask_series = (doubles_df.max_similarity > 0.6)\n",
    "columns_list = ['first_item', 'second_item', 'max_similarity']\n",
    "if doubles_df[mask_series].shape[0]:\n",
    "    display(doubles_df[mask_series][columns_list].sort_values('max_similarity', ascending=False))\n",
    "mask_series = countries_df.duplicated(subset=['country_name'], keep=False)\n",
    "if countries_df[mask_series].shape[0]:\n",
    "    display(countries_df[mask_series])"
   ]
  },
  {
   "cell_type": "markdown",
   "metadata": {
    "jp-MarkdownHeadingCollapsed": true,
    "tags": []
   },
   "source": [
    "\n",
    "## Prepare for and Create Choropleth"
   ]
  },
  {
   "cell_type": "code",
   "execution_count": null,
   "metadata": {},
   "outputs": [],
   "source": [
    "\n",
    "equivalence_column_name = 'Country_Equivalent_Suicide_Rate'\n",
    "states_target_column_name = 'suicide_rate'\n",
    "mask_series = countries_df.country_name.isin(all_countries_df.country_name)\n",
    "ssu.prepare_for_choroplething(countries_df[mask_series], 'suicide_rate', us_states_df, st_col_name=states_target_column_name,\n",
    "                              st_col_explanation='Suicide Rate per 100,000 Population (2019)',\n",
    "                              equivalence_column_name=equivalence_column_name, verbose=False)"
   ]
  },
  {
   "cell_type": "code",
   "execution_count": 12,
   "metadata": {},
   "outputs": [
    {
     "name": "stdout",
     "output_type": "stream",
     "text": [
      "C:\\Users\\daveb\\OneDrive\\Documents\\GitHub\\StatsByCountry\\saves\\svg\\US_suicide_rate_Country_Equivalent_Suicice_Rate.svg\n"
     ]
    }
   ],
   "source": [
    "\n",
    "c = ChoroplethUtilities(iso_3166_2_code='us', one_country_df=ssu.us_stats_df, all_countries_df=all_countries_df)\n",
    "c.create_label_line_file()\n",
    "svg_file_path = c.create_country_colored_labeled_map(numeric_column_name=states_target_column_name,\n",
    "                                                     string_column_name=equivalence_column_name,\n",
    "                                                     one_country_df=ssu.us_stats_df, cmap='winter')\n",
    "print(os.path.abspath(svg_file_path))"
   ]
  },
  {
   "cell_type": "code",
   "execution_count": null,
   "metadata": {},
   "outputs": [],
   "source": []
  }
 ],
 "metadata": {
  "kernelspec": {
   "display_name": "Python 3 (ipykernel)",
   "language": "python",
   "name": "python3"
  },
  "language_info": {
   "codemirror_mode": {
    "name": "ipython",
    "version": 3
   },
   "file_extension": ".py",
   "mimetype": "text/x-python",
   "name": "python",
   "nbconvert_exporter": "python",
   "pygments_lexer": "ipython3",
   "version": "3.9.7"
  }
 },
 "nbformat": 4,
 "nbformat_minor": 4
}

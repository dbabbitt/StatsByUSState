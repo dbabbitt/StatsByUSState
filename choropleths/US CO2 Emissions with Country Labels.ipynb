{
 "cells": [
  {
   "cell_type": "markdown",
   "metadata": {
    "jp-MarkdownHeadingCollapsed": true,
    "tags": []
   },
   "source": [
    "\n",
    "# Set up the notebook"
   ]
  },
  {
   "cell_type": "code",
   "execution_count": 1,
   "metadata": {},
   "outputs": [
    {
     "name": "stdout",
     "output_type": "stream",
     "text": [
      "Pretty printing has been turned OFF\n"
     ]
    }
   ],
   "source": [
    "\n",
    "%pprint"
   ]
  },
  {
   "cell_type": "code",
   "execution_count": 2,
   "metadata": {},
   "outputs": [],
   "source": [
    "\n",
    "import sys\n",
    "\n",
    "# Insert at 1, 0 is the script path (or '' in REPL)\n",
    "sys.path.insert(1, '../py')\n",
    "\n",
    "from choropleth_utils import ChoroplethUtilities\n",
    "from stats_scraping_utils import StatsScrapingUtilities\n",
    "from storage import Storage\n",
    "import pandas as pd\n",
    "import re\n",
    "import os\n",
    "import numpy as np\n",
    "\n",
    "s = Storage()\n",
    "ssu = StatsScrapingUtilities(s=s)"
   ]
  },
  {
   "cell_type": "code",
   "execution_count": 52,
   "metadata": {},
   "outputs": [
    {
     "name": "stdout",
     "output_type": "stream",
     "text": [
      "Pickling to C:\\Users\\daveb\\OneDrive\\Documents\\GitHub\\StatsByCountry\\saves\\pkl\\all_countries_df.pkl\n"
     ]
    }
   ],
   "source": [
    "\n",
    "column_description_dict = s.load_object('column_description_dict')\n",
    "us_stats_df = s.load_object('us_stats_df')\n",
    "\n",
    "all_countries_df = s.load_object('all_countries_df').set_index('country_code', drop=True)\n",
    "all_countries_df.country_name = all_countries_df.country_name.map(lambda x: ssu.country_name_dict.get(x, x))\n",
    "s.store_objects(all_countries_df=all_countries_df.reset_index(drop=False))"
   ]
  },
  {
   "cell_type": "markdown",
   "metadata": {
    "tags": []
   },
   "source": [
    "\n",
    "----\n",
    "# Get State/Country CO<sub>2</sub> Emissions Equivalents"
   ]
  },
  {
   "cell_type": "markdown",
   "metadata": {
    "jp-MarkdownHeadingCollapsed": true,
    "tags": []
   },
   "source": [
    "\n",
    "## Clean and prepare US States dataset"
   ]
  },
  {
   "cell_type": "code",
   "execution_count": 21,
   "metadata": {},
   "outputs": [
    {
     "name": "stdout",
     "output_type": "stream",
     "text": [
      "No tables found\n",
      "[]\n"
     ]
    }
   ],
   "source": [
    "\n",
    "url = 'https://www.bts.gov/browse-statistical-products-and-data/state-transportation-statistics/energy-consumption-and-co2'\n",
    "tables_list = ssu.get_page_tables(url)"
   ]
  },
  {
   "cell_type": "code",
   "execution_count": 23,
   "metadata": {},
   "outputs": [
    {
     "name": "stdout",
     "output_type": "stream",
     "text": [
      "(51, 6)\n",
      "5166.4\n"
     ]
    },
    {
     "data": {
      "text/html": [
       "<div>\n",
       "<style scoped>\n",
       "    .dataframe tbody tr th:only-of-type {\n",
       "        vertical-align: middle;\n",
       "    }\n",
       "\n",
       "    .dataframe tbody tr th {\n",
       "        vertical-align: top;\n",
       "    }\n",
       "\n",
       "    .dataframe thead th {\n",
       "        text-align: right;\n",
       "    }\n",
       "</style>\n",
       "<table border=\"1\" class=\"dataframe\">\n",
       "  <thead>\n",
       "    <tr style=\"text-align: right;\">\n",
       "      <th></th>\n",
       "      <th>state_name</th>\n",
       "      <th>co2_emissions_mmt</th>\n",
       "      <th>co2_emissions_mmt_per_capita</th>\n",
       "    </tr>\n",
       "  </thead>\n",
       "  <tbody>\n",
       "    <tr>\n",
       "      <th>1758</th>\n",
       "      <td>Maryland</td>\n",
       "      <td>51.9</td>\n",
       "      <td>0.008616</td>\n",
       "    </tr>\n",
       "    <tr>\n",
       "      <th>162</th>\n",
       "      <td>Alaska</td>\n",
       "      <td>34.3</td>\n",
       "      <td>0.046370</td>\n",
       "    </tr>\n",
       "    <tr>\n",
       "      <th>2094</th>\n",
       "      <td>Mississippi</td>\n",
       "      <td>67.8</td>\n",
       "      <td>0.022687</td>\n",
       "    </tr>\n",
       "    <tr>\n",
       "      <th>3438</th>\n",
       "      <td>South Carolina</td>\n",
       "      <td>69.2</td>\n",
       "      <td>0.013781</td>\n",
       "    </tr>\n",
       "    <tr>\n",
       "      <th>1926</th>\n",
       "      <td>Michigan</td>\n",
       "      <td>152.7</td>\n",
       "      <td>0.015311</td>\n",
       "    </tr>\n",
       "  </tbody>\n",
       "</table>\n",
       "</div>"
      ],
      "text/plain": [
       "          state_name  co2_emissions_mmt  co2_emissions_mmt_per_capita\n",
       "1758        Maryland               51.9                      0.008616\n",
       "162           Alaska               34.3                      0.046370\n",
       "2094     Mississippi               67.8                      0.022687\n",
       "3438  South Carolina               69.2                      0.013781\n",
       "1926        Michigan              152.7                      0.015311"
      ]
     },
     "execution_count": 23,
     "metadata": {},
     "output_type": "execute_result"
    }
   ],
   "source": [
    "\n",
    "us_states_df = s.load_csv('Energy_Consumption_and_CO2_Emissions_by_us_state')\n",
    "# print(us_states_df.columns.tolist())\n",
    "us_states_df.columns = ['state_name', 'measure_str', 'sector_str', 'measure_year', 'pivot_list', 'co2_emissions_mmt']\n",
    "mask_series = us_states_df.state_name.isin(ssu.us_states_list) & (us_states_df.sector_str == 'Total') & (us_states_df.measure_year == 2017)\n",
    "print(us_states_df[mask_series].shape)\n",
    "columns_list = ['state_name', 'co2_emissions_mmt']\n",
    "us_states_df = us_states_df[mask_series][columns_list]\n",
    "print(us_states_df.co2_emissions_mmt.sum())\n",
    "\n",
    "url = 'https://www2.census.gov/programs-surveys/popest/datasets/2010-2019/national/totals/nst-est2019-alldata.csv'\n",
    "POPULATION_DICT = pd.read_csv(url, encoding=s.encoding_type).set_index('NAME').POPESTIMATE2017.to_dict()\n",
    "def f(row_series):\n",
    "    state_name = row_series.state_name\n",
    "    co2_emissions_mmt = row_series.co2_emissions_mmt\n",
    "    \n",
    "    return 1_000*co2_emissions_mmt/POPULATION_DICT[state_name]\n",
    "us_states_df['co2_emissions_mmt_per_capita'] = us_states_df.apply(f, axis='columns')\n",
    "\n",
    "us_states_df.sample(5)"
   ]
  },
  {
   "cell_type": "code",
   "execution_count": 25,
   "metadata": {},
   "outputs": [],
   "source": [
    "\n",
    "mask_series = (us_states_df.state_name == 'District of Columbia')\n",
    "us_states_df = us_states_df[~mask_series]"
   ]
  },
  {
   "cell_type": "code",
   "execution_count": 26,
   "metadata": {},
   "outputs": [],
   "source": [
    "\n",
    "# Remove US states duplicates and misspellings\n",
    "states_list = sorted(set(us_states_df.state_name).symmetric_difference(set(ssu.us_stats_df.index)))\n",
    "doubles_df = ssu.check_4_doubles(states_list)\n",
    "mask_series = (doubles_df.max_similarity > 0.6)\n",
    "columns_list = ['first_item', 'second_item', 'max_similarity']\n",
    "if doubles_df[mask_series].shape[0]:\n",
    "    display(doubles_df[mask_series][columns_list].sort_values('max_similarity', ascending=False))\n",
    "mask_series = us_states_df.duplicated(subset=['state_name'], keep=False)\n",
    "if us_states_df[mask_series].shape[0]:\n",
    "    display(us_states_df[mask_series])"
   ]
  },
  {
   "cell_type": "markdown",
   "metadata": {
    "tags": []
   },
   "source": [
    "\n",
    "## Clean and prepare Countries dataset"
   ]
  },
  {
   "cell_type": "code",
   "execution_count": 28,
   "metadata": {},
   "outputs": [
    {
     "name": "stdout",
     "output_type": "stream",
     "text": [
      "Getting the FireFox driver\n",
      "[(0, (210, 6))]\n"
     ]
    }
   ],
   "source": [
    "\n",
    "driver = ssu.get_driver()\n",
    "tables_list = ssu.get_page_tables('https://worldpopulationreview.com/country-rankings/carbon-footprint-by-country', driver=driver)\n",
    "driver.close()"
   ]
  },
  {
   "cell_type": "code",
   "execution_count": 29,
   "metadata": {},
   "outputs": [
    {
     "data": {
      "text/html": [
       "<div>\n",
       "<style scoped>\n",
       "    .dataframe tbody tr th:only-of-type {\n",
       "        vertical-align: middle;\n",
       "    }\n",
       "\n",
       "    .dataframe tbody tr th {\n",
       "        vertical-align: top;\n",
       "    }\n",
       "\n",
       "    .dataframe thead th {\n",
       "        text-align: right;\n",
       "    }\n",
       "</style>\n",
       "<table border=\"1\" class=\"dataframe\">\n",
       "  <thead>\n",
       "    <tr style=\"text-align: right;\">\n",
       "      <th></th>\n",
       "      <th>0</th>\n",
       "      <th>1</th>\n",
       "      <th>2</th>\n",
       "      <th>3</th>\n",
       "      <th>4</th>\n",
       "      <th>5</th>\n",
       "      <th>6</th>\n",
       "      <th>7</th>\n",
       "      <th>8</th>\n",
       "    </tr>\n",
       "  </thead>\n",
       "  <tbody>\n",
       "    <tr>\n",
       "      <th>country_name</th>\n",
       "      <td>China</td>\n",
       "      <td>United States</td>\n",
       "      <td>India</td>\n",
       "      <td>Russia</td>\n",
       "      <td>Japan</td>\n",
       "      <td>Iran</td>\n",
       "      <td>Germany</td>\n",
       "      <td>South Korea</td>\n",
       "      <td>Saudi Arabia</td>\n",
       "    </tr>\n",
       "    <tr>\n",
       "      <th>co2_emissions_mt_2020</th>\n",
       "      <td>11680.419922</td>\n",
       "      <td>4535.299805</td>\n",
       "      <td>2411.72998</td>\n",
       "      <td>1674.22998</td>\n",
       "      <td>1061.77002</td>\n",
       "      <td>690.23999</td>\n",
       "      <td>636.880005</td>\n",
       "      <td>621.469971</td>\n",
       "      <td>588.809998</td>\n",
       "    </tr>\n",
       "    <tr>\n",
       "      <th>co2_emissions_mt_2017</th>\n",
       "      <td>10877.219727</td>\n",
       "      <td>5107.390137</td>\n",
       "      <td>2454.77002</td>\n",
       "      <td>1764.869995</td>\n",
       "      <td>1320.780029</td>\n",
       "      <td>671.450012</td>\n",
       "      <td>796.530029</td>\n",
       "      <td>673.320007</td>\n",
       "      <td>638.76001</td>\n",
       "    </tr>\n",
       "    <tr>\n",
       "      <th>co2_emissions_per_capita_2020</th>\n",
       "      <td>8.2</td>\n",
       "      <td>13.68</td>\n",
       "      <td>1.74</td>\n",
       "      <td>11.64</td>\n",
       "      <td>8.39</td>\n",
       "      <td>8.26</td>\n",
       "      <td>7.72</td>\n",
       "      <td>12.07</td>\n",
       "      <td>16.959999</td>\n",
       "    </tr>\n",
       "    <tr>\n",
       "      <th>co2_emissions_per_capita_2017</th>\n",
       "      <td>7.7</td>\n",
       "      <td>15.7</td>\n",
       "      <td>1.8</td>\n",
       "      <td>12.3</td>\n",
       "      <td>10.4</td>\n",
       "      <td>8.3</td>\n",
       "      <td>9.7</td>\n",
       "      <td>13.2</td>\n",
       "      <td>19.4</td>\n",
       "    </tr>\n",
       "    <tr>\n",
       "      <th>country_population_2022</th>\n",
       "      <td>1425887337</td>\n",
       "      <td>338289857</td>\n",
       "      <td>1417173173</td>\n",
       "      <td>144713314</td>\n",
       "      <td>123951692</td>\n",
       "      <td>88550570</td>\n",
       "      <td>83369843</td>\n",
       "      <td>51815810</td>\n",
       "      <td>36408820</td>\n",
       "    </tr>\n",
       "  </tbody>\n",
       "</table>\n",
       "</div>"
      ],
      "text/plain": [
       "                                          0              1           2  \\\n",
       "country_name                          China  United States       India   \n",
       "co2_emissions_mt_2020          11680.419922    4535.299805  2411.72998   \n",
       "co2_emissions_mt_2017          10877.219727    5107.390137  2454.77002   \n",
       "co2_emissions_per_capita_2020           8.2          13.68        1.74   \n",
       "co2_emissions_per_capita_2017           7.7           15.7         1.8   \n",
       "country_population_2022          1425887337      338289857  1417173173   \n",
       "\n",
       "                                         3            4           5  \\\n",
       "country_name                        Russia        Japan        Iran   \n",
       "co2_emissions_mt_2020           1674.22998   1061.77002   690.23999   \n",
       "co2_emissions_mt_2017          1764.869995  1320.780029  671.450012   \n",
       "co2_emissions_per_capita_2020        11.64         8.39        8.26   \n",
       "co2_emissions_per_capita_2017         12.3         10.4         8.3   \n",
       "country_population_2022          144713314    123951692    88550570   \n",
       "\n",
       "                                        6            7             8  \n",
       "country_name                      Germany  South Korea  Saudi Arabia  \n",
       "co2_emissions_mt_2020          636.880005   621.469971    588.809998  \n",
       "co2_emissions_mt_2017          796.530029   673.320007     638.76001  \n",
       "co2_emissions_per_capita_2020        7.72        12.07     16.959999  \n",
       "co2_emissions_per_capita_2017         9.7         13.2          19.4  \n",
       "country_population_2022          83369843     51815810      36408820  "
      ]
     },
     "execution_count": 29,
     "metadata": {},
     "output_type": "execute_result"
    }
   ],
   "source": [
    "\n",
    "countries_df = tables_list[0].copy()\n",
    "# print(countries_df.columns.tolist())\n",
    "countries_df.columns = ['country_name', 'co2_emissions_mt_2020',  'co2_emissions_mt_2017',\n",
    "                        'co2_emissions_per_capita_2020', 'co2_emissions_per_capita_2017', 'country_population_2022']\n",
    "for cn in ['co2_emissions_mt_2020', 'co2_emissions_mt_2017', 'co2_emissions_per_capita_2020', 'co2_emissions_per_capita_2017']:\n",
    "    countries_df[cn] = pd.to_numeric(countries_df[cn].map(lambda x: re.sub(r'[^0-9\\.]+', '', str(x))), errors='coerce', downcast='float')\n",
    "mask_series = countries_df.country_name.isnull()\n",
    "countries_df = countries_df[~mask_series]\n",
    "countries_df.country_name = countries_df.country_name.map(lambda x: str(x).split('*')[0].strip())\n",
    "countries_df.head(9).T"
   ]
  },
  {
   "cell_type": "code",
   "execution_count": 30,
   "metadata": {},
   "outputs": [
    {
     "data": {
      "text/html": [
       "<div>\n",
       "<style scoped>\n",
       "    .dataframe tbody tr th:only-of-type {\n",
       "        vertical-align: middle;\n",
       "    }\n",
       "\n",
       "    .dataframe tbody tr th {\n",
       "        vertical-align: top;\n",
       "    }\n",
       "\n",
       "    .dataframe thead th {\n",
       "        text-align: right;\n",
       "    }\n",
       "</style>\n",
       "<table border=\"1\" class=\"dataframe\">\n",
       "  <thead>\n",
       "    <tr style=\"text-align: right;\">\n",
       "      <th></th>\n",
       "      <th>first_item</th>\n",
       "      <th>second_item</th>\n",
       "      <th>max_similarity</th>\n",
       "    </tr>\n",
       "  </thead>\n",
       "  <tbody>\n",
       "    <tr>\n",
       "      <th>10</th>\n",
       "      <td>Falkland Islands</td>\n",
       "      <td>Åland Islands</td>\n",
       "      <td>0.827586</td>\n",
       "    </tr>\n",
       "    <tr>\n",
       "      <th>32</th>\n",
       "      <td>Sint Maarten</td>\n",
       "      <td>St. Martin</td>\n",
       "      <td>0.727273</td>\n",
       "    </tr>\n",
       "    <tr>\n",
       "      <th>15</th>\n",
       "      <td>Guernsey</td>\n",
       "      <td>Jersey</td>\n",
       "      <td>0.714286</td>\n",
       "    </tr>\n",
       "    <tr>\n",
       "      <th>21</th>\n",
       "      <td>Marshall Islands</td>\n",
       "      <td>Åland Islands</td>\n",
       "      <td>0.620690</td>\n",
       "    </tr>\n",
       "  </tbody>\n",
       "</table>\n",
       "</div>"
      ],
      "text/plain": [
       "          first_item    second_item  max_similarity\n",
       "10  Falkland Islands  Åland Islands        0.827586\n",
       "32      Sint Maarten     St. Martin        0.727273\n",
       "15          Guernsey         Jersey        0.714286\n",
       "21  Marshall Islands  Åland Islands        0.620690"
      ]
     },
     "metadata": {},
     "output_type": "display_data"
    }
   ],
   "source": [
    "\n",
    "# Remove country duplicates and misspellings\n",
    "countries_df.country_name = countries_df.country_name.map(lambda x: ssu.country_name_dict.get(x, x))\n",
    "countries_list = sorted(set(countries_df.country_name).symmetric_difference(set(all_countries_df.country_name)))\n",
    "doubles_df = ssu.check_4_doubles(countries_list)\n",
    "mask_series = (doubles_df.max_similarity > 0.6)\n",
    "columns_list = ['first_item', 'second_item', 'max_similarity']\n",
    "if doubles_df[mask_series].shape[0]:\n",
    "    display(doubles_df[mask_series][columns_list].sort_values('max_similarity', ascending=False))\n",
    "mask_series = countries_df.duplicated(subset=['country_name'], keep=False)\n",
    "if countries_df[mask_series].shape[0]:\n",
    "    display(countries_df[mask_series])"
   ]
  },
  {
   "cell_type": "markdown",
   "metadata": {
    "tags": []
   },
   "source": [
    "\n",
    "## Prepare for and Create Choropleth"
   ]
  },
  {
   "cell_type": "code",
   "execution_count": null,
   "metadata": {},
   "outputs": [],
   "source": [
    "\n",
    "equivalence_column_name = 'Country_Equivalent_CO2_Emissions'\n",
    "states_target_column_name = 'co2_emissions_mmt'\n",
    "mask_series = countries_df.country_name.isin(all_countries_df.country_name)\n",
    "ssu.prepare_for_choroplething(countries_df[mask_series], 'co2_emissions_mt_2017', us_states_df, st_col_name=states_target_column_name,\n",
    "                              st_col_explanation='CO2 Emissions in Millions of Metric Tons (2017)',\n",
    "                              equivalence_column_name=equivalence_column_name, verbose=True)"
   ]
  },
  {
   "cell_type": "code",
   "execution_count": 32,
   "metadata": {},
   "outputs": [
    {
     "name": "stdout",
     "output_type": "stream",
     "text": [
      "C:\\Users\\daveb\\OneDrive\\Documents\\GitHub\\StatsByCountry\\saves\\svg\\US_co2_emissions_mmt_Country_Equivalent_CO2_Emissions.svg\n"
     ]
    }
   ],
   "source": [
    "\n",
    "c = ChoroplethUtilities(iso_3166_2_code='us', one_country_df=ssu.us_stats_df, all_countries_df=all_countries_df)\n",
    "c.create_label_line_file()\n",
    "svg_file_path = c.create_country_colored_labeled_map(\n",
    "    numeric_column_name=states_target_column_name, string_column_name=equivalence_column_name,\n",
    "    one_country_df=ssu.us_stats_df, cmap='summer')\n",
    "print(os.path.abspath(svg_file_path))"
   ]
  },
  {
   "cell_type": "code",
   "execution_count": null,
   "metadata": {},
   "outputs": [],
   "source": []
  }
 ],
 "metadata": {
  "kernelspec": {
   "display_name": "Python 3 (ipykernel)",
   "language": "python",
   "name": "python3"
  },
  "language_info": {
   "codemirror_mode": {
    "name": "ipython",
    "version": 3
   },
   "file_extension": ".py",
   "mimetype": "text/x-python",
   "name": "python",
   "nbconvert_exporter": "python",
   "pygments_lexer": "ipython3",
   "version": "3.9.7"
  }
 },
 "nbformat": 4,
 "nbformat_minor": 4
}

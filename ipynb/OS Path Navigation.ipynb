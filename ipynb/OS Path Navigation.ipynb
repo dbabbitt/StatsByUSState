{
 "cells": [
  {
   "cell_type": "code",
   "execution_count": 1,
   "metadata": {
    "editable": true,
    "slideshow": {
     "slide_type": ""
    },
    "tags": []
   },
   "outputs": [
    {
     "name": "stdout",
     "output_type": "stream",
     "text": [
      "Pretty printing has been turned OFF\n"
     ]
    }
   ],
   "source": [
    "\n",
    "%pprint\n",
    "import sys\n",
    "sys.path.insert(1, osp.join('..', 'py'))"
   ]
  },
  {
   "cell_type": "code",
   "execution_count": 2,
   "metadata": {},
   "outputs": [],
   "source": [
    "\n",
    "from StatsByUSState import nu, cu, scu, ssu\n",
    "import os.path as osp\n",
    "import os, re\n",
    "import pandas as pd"
   ]
  },
  {
   "cell_type": "code",
   "execution_count": 5,
   "metadata": {
    "editable": true,
    "slideshow": {
     "slide_type": ""
    },
    "tags": []
   },
   "outputs": [
    {
     "name": "stdout",
     "output_type": "stream",
     "text": [
      "Attempting to open C:\\Users\\daveb\\OneDrive\\Documents\\GitHub\\gpt-stuff\\gs_env\\lib\\site-packages\\lionagi\\loader\\load_utils.py\n"
     ]
    }
   ],
   "source": [
    "\n",
    "nu.delete_ipynb_checkpoint_folders()\n",
    "file_path = r'~\\OneDrive\\Documents\\GitHub\\gpt-stuff\\gs_env\\lib\\site-packages\\lionagi\\loader\\load_utils.py'\n",
    "nu.open_path_in_notepad(file_path)"
   ]
  },
  {
   "cell_type": "code",
   "execution_count": 6,
   "metadata": {},
   "outputs": [
    {
     "name": "stdout",
     "output_type": "stream",
     "text": [
      "Attempting to open C:\\Users\\daveb\\OneDrive\\Documents\\GitHub\\gpt-stuff\\gs_env\\lib\\site-packages\\lionagi\\utils\\sys_utils.py\n"
     ]
    }
   ],
   "source": [
    "\n",
    "file_path = r'~\\OneDrive\\Documents\\GitHub\\gpt-stuff\\gs_env\\lib\\site-packages\\lionagi\\utils\\sys_utils.py'\n",
    "nu.open_path_in_notepad(file_path)"
   ]
  },
  {
   "cell_type": "code",
   "execution_count": 4,
   "metadata": {
    "tags": []
   },
   "outputs": [
    {
     "name": "stdout",
     "output_type": "stream",
     "text": [
      "\n",
      "C:\\Windows\\Boot\\EFI\\boot.stl\n",
      "C:\\Windows\\System32\\CodeIntegrity\\driver.stl\n",
      "C:\\Windows\\WinSxS\\amd64_microsoft-windows-b..ore-bootmanager-efi_31bf3856ad364e35_10.0.22621.2506_none_675b4e6f17ff6319\\boot.stl\n",
      "C:\\Windows\\WinSxS\\amd64_microsoft-windows-b..ore-bootmanager-efi_31bf3856ad364e35_10.0.22621.2506_none_675b4e6f17ff6319\\f\\boot.stl\n",
      "C:\\Windows\\WinSxS\\amd64_microsoft-windows-b..ore-bootmanager-efi_31bf3856ad364e35_10.0.22621.2506_none_675b4e6f17ff6319\\r\\boot.stl\n",
      "C:\\Windows\\WinSxS\\amd64_microsoft-windows-b..ore-bootmanager-efi_31bf3856ad364e35_10.0.22621.2792_none_674f0c5118071886\\boot.stl\n",
      "C:\\Windows\\WinSxS\\amd64_microsoft-windows-b..ore-bootmanager-efi_31bf3856ad364e35_10.0.22621.2792_none_674f0c5118071886\\f\\boot.stl\n",
      "C:\\Windows\\WinSxS\\amd64_microsoft-windows-b..ore-bootmanager-efi_31bf3856ad364e35_10.0.22621.2792_none_674f0c5118071886\\r\\boot.stl\n",
      "C:\\Windows\\WinSxS\\amd64_microsoft-windows-codeintegrity_31bf3856ad364e35_10.0.22621.2506_none_805256d5805f6c47\\driver.stl\n",
      "C:\\Windows\\WinSxS\\amd64_microsoft-windows-codeintegrity_31bf3856ad364e35_10.0.22621.2506_none_805256d5805f6c47\\f\\driver.stl\n",
      "C:\\Windows\\WinSxS\\amd64_microsoft-windows-codeintegrity_31bf3856ad364e35_10.0.22621.2506_none_805256d5805f6c47\\r\\driver.stl\n",
      "C:\\Windows\\WinSxS\\amd64_microsoft-windows-codeintegrity_31bf3856ad364e35_10.0.22621.2792_none_804614b7806721b4\\driver.stl\n",
      "C:\\Windows\\WinSxS\\amd64_microsoft-windows-codeintegrity_31bf3856ad364e35_10.0.22621.2792_none_804614b7806721b4\\f\\driver.stl\n",
      "C:\\Windows\\WinSxS\\amd64_microsoft-windows-codeintegrity_31bf3856ad364e35_10.0.22621.2792_none_804614b7806721b4\\r\\driver.stl\n"
     ]
    }
   ],
   "source": [
    "\n",
    "# Find all the non-staticmethod-decorated functions and add it if needed\n",
    "instance_defs_regex = re.compile(r'^    def ([a-z]+[a-z_]+)\\(\\s*self,\\s+(?:[^\\)]+)\\):', re.MULTILINE)\n",
    "self_regex = re.compile(r'\\bself\\b')\n",
    "functions_list = []\n",
    "black_list = ['.ipynb_checkpoints', '$Recycle.Bin']\n",
    "this_folder = 'C:\\\\'\n",
    "print()\n",
    "for sub_directory, directories_list, files_list in os.walk(this_folder):\n",
    "    if all(map(lambda x: x not in sub_directory, black_list)):\n",
    "        for file_name in files_list:\n",
    "            if file_name.endswith('.stl'):\n",
    "                file_path = osp.join(sub_directory, file_name)\n",
    "                print(file_path)"
   ]
  },
  {
   "cell_type": "code",
   "execution_count": 50,
   "metadata": {},
   "outputs": [
    {
     "name": "stdout",
     "output_type": "stream",
     "text": [
      "\\b(?:self\\.|def )(?:ball_and_chain|colormaps_list|create_colored_labeled_treemap|draw_text|get_fontsize|get_text_rgba|make_a_movie|plot_treemap_layout|population_pyramid|save_fig_as_various)\\b\n"
     ]
    }
   ],
   "source": [
    "\n",
    "# Find any redundant functions or other objects in charting utils\n",
    "selfs_regex = re.compile(r'\\b(?:self\\.|def )([a-z][a-z0-9_]+)\\b')\n",
    "file_path = '../py/StatsByUSState/stats_charting_utils.py'\n",
    "try:\n",
    "    with open(file_path, 'r', encoding=nu.encoding_type) as f: file_text = f.read()\n",
    "    selfs_list = sorted(set(selfs_regex.findall(file_text)))\n",
    "    calls_regex = re.compile(r'\\b(?:self\\.|def )(?:' + '|'.join(selfs_list) + ')\\\\b')\n",
    "    print(calls_regex.pattern)\n",
    "except Exception as e: print(f'{e.__class__} errror trying to read {file_path}: {str(e).strip()}')"
   ]
  },
  {
   "cell_type": "code",
   "execution_count": null,
   "metadata": {},
   "outputs": [],
   "source": []
  },
  {
   "cell_type": "code",
   "execution_count": 5,
   "metadata": {},
   "outputs": [
    {
     "name": "stdout",
     "output_type": "stream",
     "text": [
      "\n",
      "from choropleth_utils import ChoroplethUtilities\n",
      "from notebook_utils import NotebookUtilities\n",
      "from stats_charting_utils import StatsChartingUtilities\n",
      "from stats_scraping_utils import StatsScrapingUtilities\n"
     ]
    }
   ],
   "source": [
    "\n",
    "# Get a list of multi-notebook functions as notebook utilities candidates\n",
    "class_regex = re.compile(r'^class\\s+([A-Z]+[A-Za-z]+)\\([^)]+\\):', re.MULTILINE)\n",
    "black_list = ['.ipynb_checkpoints', '$Recycle.Bin']\n",
    "this_folder = osp.join('..', 'py')\n",
    "print()\n",
    "for sub_directory, directories_list, files_list in os.walk(this_folder):\n",
    "    if all(map(lambda x: x not in sub_directory, black_list)):\n",
    "        for file_name in files_list:\n",
    "            if file_name.endswith('.py'):\n",
    "                file_path = osp.join(sub_directory, file_name)\n",
    "                with open(file_path, 'r', encoding='utf-8') as f:\n",
    "                    class_names_list = class_regex.split(f.read())\n",
    "                    file_name = file_name.split('.')[0]\n",
    "                    print(f'from {file_name} import {class_names_list[1]}')"
   ]
  },
  {
   "cell_type": "code",
   "execution_count": null,
   "metadata": {},
   "outputs": [],
   "source": [
    "\n",
    "for sub_directory, directories_list, files_list in os.walk('../../../GitHub'):\n",
    "    for file_name in files_list:\n",
    "        if file_name.endswith('.jpg') and ('map' in file_name.lower()):\n",
    "            file_path = osp.join(sub_directory, file_name)\n",
    "            print(file_path)"
   ]
  },
  {
   "cell_type": "code",
   "execution_count": null,
   "metadata": {},
   "outputs": [],
   "source": [
    "\n",
    "for root_dir in ['C:\\\\', 'D:\\\\']:\n",
    "    for sub_directory, directories_list, files_list in os.walk(root_dir):\n",
    "        if 'ffmpeg' in sub_directory.split(os.sep)[-1].lower():\n",
    "            print(sub_directory)\n",
    "            !start %windir%\\explorer.exe \"{sub_directory}\""
   ]
  },
  {
   "cell_type": "code",
   "execution_count": null,
   "metadata": {},
   "outputs": [],
   "source": [
    "\n",
    "print([fn for fn in dir(os) if 'dir' in fn.lower()])\n",
    "[fn.split('.')[0] for fn in os.listdir(nu.saves_pickle_folder)]"
   ]
  },
  {
   "cell_type": "code",
   "execution_count": null,
   "metadata": {},
   "outputs": [],
   "source": [
    "\n",
    "columns_set = set()\n",
    "for pickle_name in [fn.split('.')[0] for fn in os.listdir(s.saves_pickle_folder)]:\n",
    "    if pickle_name.endswith('_df'):\n",
    "        df = nu.load_object(pickle_name)\n",
    "        columns_set.update(df.columns[list(map(lambda x: ('year' in x) and (('begin' in x) or ('end' in x)), df.columns))])\n",
    "columns_set"
   ]
  },
  {
   "cell_type": "code",
   "execution_count": 7,
   "metadata": {},
   "outputs": [
    {
     "data": {
      "text/plain": [
       "'AMD64 Family 25 Model 80 Stepping 0, AuthenticAMD'"
      ]
     },
     "execution_count": 7,
     "metadata": {},
     "output_type": "execute_result"
    }
   ],
   "source": [
    "\n",
    "# 'Intel64 Family 6 Model 60 Stepping 3, GenuineIntel'\n",
    "import platform\n",
    "\n",
    "platform.processor()"
   ]
  },
  {
   "cell_type": "code",
   "execution_count": 9,
   "metadata": {},
   "outputs": [
    {
     "data": {
      "text/plain": [
       "'Home_Insurance_BINDER'"
      ]
     },
     "execution_count": 9,
     "metadata": {},
     "output_type": "execute_result"
    }
   ],
   "source": [
    "\n",
    "import re\n",
    "\n",
    "req_str = 'Home Insurance  BINDER'\n",
    "'_'.join(re.split(r'[ \\\\\\/:\\*\\?\"><\\|]+', req_str, 0))"
   ]
  },
  {
   "cell_type": "code",
   "execution_count": null,
   "metadata": {},
   "outputs": [],
   "source": [
    "\n",
    "for root_dir in ['C:\\\\', 'D:\\\\']:\n",
    "    for sub_directory, directories_list, files_list in os.walk(root_dir):\n",
    "        for file_name in files_list:\n",
    "            if 'ffmpeg' in file_name.lower():\n",
    "                file_path = osp.join(sub_directory, file_name)\n",
    "                print(file_path)"
   ]
  },
  {
   "cell_type": "code",
   "execution_count": null,
   "metadata": {},
   "outputs": [],
   "source": [
    "\n",
    "for root_dir in ['C:\\\\', 'D:\\\\']:\n",
    "    for sub_directory, directories_list, files_list in os.walk(root_dir):\n",
    "        if 'kml' in sub_directory.split(os.sep)[-1].lower():\n",
    "            print(sub_directory)\n",
    "            !start %windir%\\explorer.exe \"{sub_directory}\"\n",
    "        else:\n",
    "            for file_name in files_list:\n",
    "                if 'kml' in file_name.lower():\n",
    "                    file_path = osp.join(sub_directory, file_name)\n",
    "                    print(file_path)"
   ]
  },
  {
   "cell_type": "code",
   "execution_count": null,
   "metadata": {},
   "outputs": [],
   "source": [
    "\n",
    "magic_dict_list = magic_dict['test.py']\n",
    "print(len(magic_dict_list))\n",
    "subprocess.run([comparator_path, osp.abspath(magic_dict_list[0]), osp.abspath(magic_dict_list[1])])"
   ]
  },
  {
   "cell_type": "code",
   "execution_count": 10,
   "metadata": {},
   "outputs": [],
   "source": [
    "\n",
    "import sys\n",
    "\n",
    "for key, value in sys.modules.items():\n",
    "    if 'xdist' in key.lower():\n",
    "        #print('{}: {}'.format(key, value))\n",
    "        print('{}'.format(key))"
   ]
  },
  {
   "cell_type": "code",
   "execution_count": null,
   "metadata": {},
   "outputs": [],
   "source": [
    "\n",
    "for root_dir in ['C:\\\\', 'D:\\\\']:\n",
    "    for sub_directory, directories_list, files_list in os.walk(root_dir):\n",
    "        for file_name in files_list:\n",
    "            if file_name == 'git.exe':\n",
    "                file_path = osp.join(sub_directory, file_name)\n",
    "                print('Write-Host \"#################################################################################\"')\n",
    "                print('Write-Host \"    Configuring {}\"'.format(file_path))\n",
    "                print('Write-Host \"#################################################################################\"')\n",
    "                print('cd \"{}\"'.format(sub_directory))\n",
    "                print('git.exe config --global core.autocrlf input')"
   ]
  },
  {
   "cell_type": "code",
   "execution_count": null,
   "metadata": {},
   "outputs": [],
   "source": []
  }
 ],
 "metadata": {
  "kernelspec": {
   "display_name": "Python 3 (ipykernel)",
   "language": "python",
   "name": "python3"
  },
  "language_info": {
   "codemirror_mode": {
    "name": "ipython",
    "version": 3
   },
   "file_extension": ".py",
   "mimetype": "text/x-python",
   "name": "python",
   "nbconvert_exporter": "python",
   "pygments_lexer": "ipython3",
   "version": "3.9.16"
  }
 },
 "nbformat": 4,
 "nbformat_minor": 4
}

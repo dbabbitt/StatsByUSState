{
 "cells": [
  {
   "cell_type": "code",
   "execution_count": null,
   "id": "785a4317-c753-4670-9b21-6569c032e01f",
   "metadata": {},
   "outputs": [],
   "source": []
  },
  {
   "cell_type": "code",
   "execution_count": 6,
   "id": "dcd40db9-2526-44ce-8015-0b630a06be84",
   "metadata": {},
   "outputs": [
    {
     "name": "stdout",
     "output_type": "stream",
     "text": [
      "\\b(add_docname|all_countries_df|axes_str|clean_up_district_common_dict|clean_up_district_merge_dataframe|clean_up_district_unique_dict|clean_up_suggestion_list_dict|color_distance_from|convert_svg_to_dataframe|copy_file_name|copy_file_path|create_country_colored_labeled_map|create_country_colored_map|create_country_labeled_map|create_district_first_dict|create_label_line_file|create_suggestion_list_dictionary|create_svg_file_beginning|create_text_tag_xml|create_us_google_suggest_labeled_map|district_path_str|figure_str|fill_style_prefix|fill_style_str|get_colorbar_xml|get_column_description|get_fill_color|get_fill_color_rgb|get_google_suggestion_list|get_greatest_area|get_legend_xml|get_style_list|get_tfidf_lists|get_tspan_list|gradient_file_path|gradient_str|has_no_limitxx|height_ratio|html_style_str|hyphen_dict|hyphenate_words|indexize_string|iso_3166_2_code|l_str|label_line_file_path|label_line_style_list|label_text_style_list|label_tspan_style_list|legend_label_str|light_grey_hex_str|line_height|matplotlib_axis_str|namedview_attributes_list|nonword_regex|ocean_blue_hex_str|one_country_df|path_to_poly|possibly_raise_exceptions|regex_sub_str|scrape_suggestion_list_dictionary|settings_dict|show_colorbar|strip_namespaces|svg_attributes_list|svg_dir|svg_height|svg_prefix_str|svg_regex|svg_suffix|svg_width|text_style_dict|text_style_list|tick_text_str|tick_text_style_list|tick_tspan_style_list|trim_d_path|ts_str|us_states_list|width_ratio|ytick_str)\\b\n"
     ]
    }
   ],
   "source": [
    "\n",
    "regex_str = '\\\\b(' + '|'.join([fn.split('.')[1] for fn in cus_list]) + ')\\\\b'\n",
    "print(regex_str)\n",
    "\n",
    "# nu_regex = re.compile(regex_str)\n",
    "# file_path = osp.abspath('../py/StatsByUSState/stats_charting_utils.py')\n",
    "# with open(file_path, 'r', encoding=nu.encoding_type) as f: data = f.read()"
   ]
  }
 ],
 "metadata": {
  "kernelspec": {
   "display_name": "Python 3 (ipykernel)",
   "language": "python",
   "name": "python3"
  },
  "language_info": {
   "codemirror_mode": {
    "name": "ipython",
    "version": 3
   },
   "file_extension": ".py",
   "mimetype": "text/x-python",
   "name": "python",
   "nbconvert_exporter": "python",
   "pygments_lexer": "ipython3",
   "version": "3.9.16"
  }
 },
 "nbformat": 4,
 "nbformat_minor": 5
}
